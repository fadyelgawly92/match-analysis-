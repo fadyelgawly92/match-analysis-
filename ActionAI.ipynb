{
  "nbformat": 4,
  "nbformat_minor": 0,
  "metadata": {
    "colab": {
      "provenance": [],
      "collapsed_sections": []
    },
    "kernelspec": {
      "name": "python3",
      "display_name": "Python 3"
    },
    "language_info": {
      "name": "python"
    },
    "accelerator": "GPU",
    "gpuClass": "standard"
  },
  "cells": [
    {
      "cell_type": "code",
      "execution_count": null,
      "metadata": {
        "colab": {
          "base_uri": "https://localhost:8080/"
        },
        "id": "ZWWi4rJxWAEI",
        "outputId": "649258e8-2129-47ce-c45c-185683f9109b"
      },
      "outputs": [
        {
          "output_type": "stream",
          "name": "stdout",
          "text": [
            "Cloning into 'ActionAI'...\n",
            "remote: Enumerating objects: 795, done.\u001b[K\n",
            "remote: Counting objects: 100% (218/218), done.\u001b[K\n",
            "remote: Compressing objects: 100% (128/128), done.\u001b[K\n",
            "remote: Total 795 (delta 121), reused 165 (delta 87), pack-reused 577\u001b[K\n",
            "Receiving objects: 100% (795/795), 204.44 MiB | 22.98 MiB/s, done.\n",
            "Resolving deltas: 100% (424/424), done.\n"
          ]
        }
      ],
      "source": [
        "!git clone https://github.com/smellslikeml/ActionAI.git"
      ]
    },
    {
      "cell_type": "code",
      "source": [
        "%cd ActionAI"
      ],
      "metadata": {
        "colab": {
          "base_uri": "https://localhost:8080/"
        },
        "id": "OpXMm1dOWdjl",
        "outputId": "0f393d76-5bb8-49e6-d9cd-64dcf48b8fdf"
      },
      "execution_count": null,
      "outputs": [
        {
          "output_type": "stream",
          "name": "stdout",
          "text": [
            "/content/ActionAI\n"
          ]
        }
      ]
    },
    {
      "cell_type": "code",
      "source": [
        "!pip install torch"
      ],
      "metadata": {
        "colab": {
          "base_uri": "https://localhost:8080/"
        },
        "id": "mZ2OyOryWgip",
        "outputId": "c0a0f303-85f5-45c2-fbbd-71e2b2c1f983"
      },
      "execution_count": null,
      "outputs": [
        {
          "output_type": "stream",
          "name": "stdout",
          "text": [
            "Looking in indexes: https://pypi.org/simple, https://us-python.pkg.dev/colab-wheels/public/simple/\n",
            "Requirement already satisfied: torch in /usr/local/lib/python3.7/dist-packages (1.12.1+cu113)\n",
            "Requirement already satisfied: typing-extensions in /usr/local/lib/python3.7/dist-packages (from torch) (4.1.1)\n"
          ]
        }
      ]
    },
    {
      "cell_type": "code",
      "source": [
        ">>> import torch\n",
        ">>> print(torch.__version__)\n",
        ">>> print('CUDA available: ' + str(torch.cuda.is_available()))\n",
        ">>> print('cuDNN version: ' + str(torch.backends.cudnn.version()))\n",
        ">>> a = torch.cuda.FloatTensor(2).zero_()\n",
        ">>> print('Tensor a = ' + str(a))\n",
        ">>> b = torch.randn(2).cuda()\n",
        ">>> print('Tensor b = ' + str(b))\n",
        ">>> c = a + b\n",
        ">>> print('Tensor c = ' + str(c))"
      ],
      "metadata": {
        "colab": {
          "base_uri": "https://localhost:8080/"
        },
        "id": "RhtXXtTaWik5",
        "outputId": "ddfcfd0b-d973-4e5c-c2e9-924a4d909b9b"
      },
      "execution_count": null,
      "outputs": [
        {
          "output_type": "stream",
          "name": "stdout",
          "text": [
            "1.12.1+cu113\n",
            "CUDA available: True\n",
            "cuDNN version: 8302\n",
            "Tensor a = tensor([0., 0.], device='cuda:0')\n",
            "Tensor b = tensor([ 0.2203, -0.3447], device='cuda:0')\n",
            "Tensor c = tensor([ 0.2203, -0.3447], device='cuda:0')\n"
          ]
        }
      ]
    },
    {
      "cell_type": "code",
      "source": [
        "import torchvision\n",
        "print(torchvision.__version__)"
      ],
      "metadata": {
        "colab": {
          "base_uri": "https://localhost:8080/"
        },
        "id": "r-1dKuB_WkWO",
        "outputId": "8c0763e0-3dba-451d-ee93-4480326a99a0"
      },
      "execution_count": null,
      "outputs": [
        {
          "output_type": "stream",
          "name": "stdout",
          "text": [
            "0.13.1+cu113\n"
          ]
        }
      ]
    },
    {
      "cell_type": "code",
      "source": [
        "! git clone https://github.com/NVIDIA-AI-IOT/torch2trt"
      ],
      "metadata": {
        "colab": {
          "base_uri": "https://localhost:8080/"
        },
        "id": "WyIJXuL3WnIO",
        "outputId": "71ad6354-30a2-4e4c-a5e3-e2b55d38d6a5"
      },
      "execution_count": null,
      "outputs": [
        {
          "output_type": "stream",
          "name": "stdout",
          "text": [
            "Cloning into 'torch2trt'...\n",
            "remote: Enumerating objects: 4030, done.\u001b[K\n",
            "remote: Counting objects: 100% (498/498), done.\u001b[K\n",
            "remote: Compressing objects: 100% (221/221), done.\u001b[K\n",
            "remote: Total 4030 (delta 284), reused 435 (delta 272), pack-reused 3532\u001b[K\n",
            "Receiving objects: 100% (4030/4030), 7.83 MiB | 17.40 MiB/s, done.\n",
            "Resolving deltas: 100% (2235/2235), done.\n"
          ]
        }
      ]
    },
    {
      "cell_type": "code",
      "source": [
        "%cd torch2trt"
      ],
      "metadata": {
        "colab": {
          "base_uri": "https://localhost:8080/"
        },
        "id": "blUjBGJcWofV",
        "outputId": "0b45fd6d-cbf6-4ea0-8dab-454d942ab11c"
      },
      "execution_count": null,
      "outputs": [
        {
          "output_type": "stream",
          "name": "stdout",
          "text": [
            "/content/ActionAI/torch2trt\n"
          ]
        }
      ]
    },
    {
      "cell_type": "code",
      "source": [
        "!pip install nvidia-pyindex\n",
        "!pip install nvidia-tensorrt"
      ],
      "metadata": {
        "colab": {
          "base_uri": "https://localhost:8080/"
        },
        "id": "Xjk4eYSrWpxL",
        "outputId": "4f9dfc96-687f-4354-9e0a-dace586341e7"
      },
      "execution_count": null,
      "outputs": [
        {
          "output_type": "stream",
          "name": "stdout",
          "text": [
            "Looking in indexes: https://pypi.org/simple, https://us-python.pkg.dev/colab-wheels/public/simple/\n",
            "Collecting nvidia-pyindex\n",
            "  Downloading nvidia-pyindex-1.0.9.tar.gz (10 kB)\n",
            "Building wheels for collected packages: nvidia-pyindex\n",
            "  Building wheel for nvidia-pyindex (setup.py) ... \u001b[?25l\u001b[?25hdone\n",
            "  Created wheel for nvidia-pyindex: filename=nvidia_pyindex-1.0.9-py3-none-any.whl size=8416 sha256=28be4993e7d3c370adf0ab6edae24043c68050d4dbba03cf1f618eb780d125bc\n",
            "  Stored in directory: /root/.cache/pip/wheels/f1/a1/a1/6cc45cc1ae6b1876f12ef399c0d0d6e18809e9ced611c7c2a7\n",
            "Successfully built nvidia-pyindex\n",
            "Installing collected packages: nvidia-pyindex\n",
            "Successfully installed nvidia-pyindex-1.0.9\n",
            "Looking in indexes: https://pypi.org/simple, https://us-python.pkg.dev/colab-wheels/public/simple/, https://pypi.ngc.nvidia.com\n",
            "Collecting nvidia-tensorrt\n",
            "  Downloading https://developer.download.nvidia.com/compute/redist/nvidia-tensorrt/nvidia_tensorrt-8.4.3.1-cp37-none-linux_x86_64.whl (340.9 MB)\n",
            "\u001b[K     |████████████████████████████████| 340.9 MB 12 kB/s \n",
            "\u001b[?25hCollecting nvidia-cudnn-cu11\n",
            "  Downloading https://developer.download.nvidia.com/compute/redist/nvidia-cudnn-cu11/nvidia-cudnn-cu11-2022.5.19.tar.gz (16 kB)\n",
            "Collecting nvidia-cuda-runtime-cu11\n",
            "  Downloading https://developer.download.nvidia.com/compute/redist/nvidia-cuda-runtime-cu11/nvidia-cuda-runtime-cu11-2022.4.25.tar.gz (16 kB)\n",
            "Collecting nvidia-cublas-cu11\n",
            "  Downloading https://developer.download.nvidia.com/compute/redist/nvidia-cublas-cu11/nvidia-cublas-cu11-2022.4.8.tar.gz (16 kB)\n",
            "Collecting nvidia-cublas-cu117\n",
            "  Downloading https://developer.download.nvidia.com/compute/redist/nvidia-cublas-cu117/nvidia_cublas_cu117-11.10.1.25-py3-none-manylinux1_x86_64.whl (333.1 MB)\n",
            "\u001b[K     |████████████████████████████████| 333.1 MB 38 kB/s \n",
            "\u001b[?25hRequirement already satisfied: wheel in /usr/local/lib/python3.7/dist-packages (from nvidia-cublas-cu117->nvidia-cublas-cu11->nvidia-tensorrt) (0.37.1)\n",
            "Requirement already satisfied: setuptools in /usr/local/lib/python3.7/dist-packages (from nvidia-cublas-cu117->nvidia-cublas-cu11->nvidia-tensorrt) (57.4.0)\n",
            "Collecting nvidia-cuda-runtime-cu117\n",
            "  Downloading https://developer.download.nvidia.com/compute/redist/nvidia-cuda-runtime-cu117/nvidia_cuda_runtime_cu117-11.7.60-py3-none-manylinux1_x86_64.whl (849 kB)\n",
            "\u001b[K     |████████████████████████████████| 849 kB 54.8 MB/s \n",
            "\u001b[?25hCollecting nvidia-cudnn-cu116\n",
            "  Downloading https://developer.download.nvidia.com/compute/redist/nvidia-cudnn-cu116/nvidia_cudnn_cu116-8.4.0.27-py3-none-manylinux1_x86_64.whl (719.3 MB)\n",
            "\u001b[K     |████████████████████████████████| 719.3 MB 16 kB/s \n",
            "\u001b[?25hBuilding wheels for collected packages: nvidia-cublas-cu11, nvidia-cuda-runtime-cu11, nvidia-cudnn-cu11\n",
            "  Building wheel for nvidia-cublas-cu11 (setup.py) ... \u001b[?25l\u001b[?25hdone\n",
            "  Created wheel for nvidia-cublas-cu11: filename=nvidia_cublas_cu11-2022.4.8-py3-none-any.whl size=15624 sha256=b726fbd248a14ef792be895bb23bfe9972d92c1512547c7a3d2ecf70732b49d3\n",
            "  Stored in directory: /root/.cache/pip/wheels/e2/c3/94/1ffd5bac267cfdc2b222a4ec6915278ef18a028a916b9a5ac3\n",
            "  Building wheel for nvidia-cuda-runtime-cu11 (setup.py) ... \u001b[?25l\u001b[?25hdone\n",
            "  Created wheel for nvidia-cuda-runtime-cu11: filename=nvidia_cuda_runtime_cu11-2022.4.25-py3-none-any.whl size=15696 sha256=e5c4f9acab87a3efeb7434734687ee5202b7922c25b8556790d611f2db230455\n",
            "  Stored in directory: /root/.cache/pip/wheels/df/fe/2b/e553db7867508b2268b14ac194e9ac5b3f51f21316c282c96c\n",
            "  Building wheel for nvidia-cudnn-cu11 (setup.py) ... \u001b[?25l\u001b[?25hdone\n",
            "  Created wheel for nvidia-cudnn-cu11: filename=nvidia_cudnn_cu11-2022.5.19-py3-none-any.whl size=15617 sha256=c2d641996687afa83f465e77c985f243e8620c2a46def00676fa4b5077e1a000\n",
            "  Stored in directory: /root/.cache/pip/wheels/7c/32/69/9787704b5f889217708864db5e00812c8c1c349ef89084c59c\n",
            "Successfully built nvidia-cublas-cu11 nvidia-cuda-runtime-cu11 nvidia-cudnn-cu11\n",
            "Installing collected packages: nvidia-cudnn-cu116, nvidia-cuda-runtime-cu117, nvidia-cublas-cu117, nvidia-cudnn-cu11, nvidia-cuda-runtime-cu11, nvidia-cublas-cu11, nvidia-tensorrt\n",
            "Successfully installed nvidia-cublas-cu11-2022.4.8 nvidia-cublas-cu117-11.10.1.25 nvidia-cuda-runtime-cu11-2022.4.25 nvidia-cuda-runtime-cu117-11.7.60 nvidia-cudnn-cu11-2022.5.19 nvidia-cudnn-cu116-8.4.0.27 nvidia-tensorrt-8.4.3.1\n"
          ]
        }
      ]
    },
    {
      "cell_type": "code",
      "source": [
        "!sudo python3 setup.py install --plugins"
      ],
      "metadata": {
        "colab": {
          "base_uri": "https://localhost:8080/"
        },
        "id": "rSEENuZDWsQ1",
        "outputId": "d3754789-aab0-4305-891e-67a68379f3b9"
      },
      "execution_count": null,
      "outputs": [
        {
          "output_type": "stream",
          "name": "stdout",
          "text": [
            "/usr/local/lib/python3.7/dist-packages/torch/cuda/__init__.py:83: UserWarning: CUDA initialization: Unexpected error from cudaGetDeviceCount(). Did you run some cuda functions before calling NumCudaDevices() that might have already set an error? Error 803: system has unsupported display driver / cuda driver combination (Triggered internally at  ../c10/cuda/CUDAFunctions.cpp:109.)\n",
            "  return torch._C._cuda_getDeviceCount() > 0\n",
            "No CUDA runtime is found, using CUDA_HOME='/usr/local/cuda'\n",
            "running install\n",
            "running bdist_egg\n",
            "running egg_info\n",
            "creating torch2trt.egg-info\n",
            "writing torch2trt.egg-info/PKG-INFO\n",
            "writing dependency_links to torch2trt.egg-info/dependency_links.txt\n",
            "writing top-level names to torch2trt.egg-info/top_level.txt\n",
            "writing manifest file 'torch2trt.egg-info/SOURCES.txt'\n",
            "/usr/local/lib/python3.7/dist-packages/torch/utils/cpp_extension.py:411: UserWarning: Attempted to use ninja as the BuildExtension backend but we could not find ninja.. Falling back to using the slow distutils backend.\n",
            "  warnings.warn(msg.format('we could not find ninja.'))\n",
            "adding license file 'LICENSE.md'\n",
            "writing manifest file 'torch2trt.egg-info/SOURCES.txt'\n",
            "installing library code to build/bdist.linux-x86_64/egg\n",
            "running install_lib\n",
            "running build_py\n",
            "creating build\n",
            "creating build/lib.linux-x86_64-3.7\n",
            "creating build/lib.linux-x86_64-3.7/torch2trt\n",
            "copying torch2trt/dynamic_shape_test.py -> build/lib.linux-x86_64-3.7/torch2trt\n",
            "copying torch2trt/test.py -> build/lib.linux-x86_64-3.7/torch2trt\n",
            "copying torch2trt/dataset.py -> build/lib.linux-x86_64-3.7/torch2trt\n",
            "copying torch2trt/module_test.py -> build/lib.linux-x86_64-3.7/torch2trt\n",
            "copying torch2trt/dataset_calibrator_test.py -> build/lib.linux-x86_64-3.7/torch2trt\n",
            "copying torch2trt/flatten_module_test.py -> build/lib.linux-x86_64-3.7/torch2trt\n",
            "copying torch2trt/flatten_module.py -> build/lib.linux-x86_64-3.7/torch2trt\n",
            "copying torch2trt/torch2trt.py -> build/lib.linux-x86_64-3.7/torch2trt\n",
            "copying torch2trt/dataset_test.py -> build/lib.linux-x86_64-3.7/torch2trt\n",
            "copying torch2trt/dataset_calibrator.py -> build/lib.linux-x86_64-3.7/torch2trt\n",
            "copying torch2trt/utils.py -> build/lib.linux-x86_64-3.7/torch2trt\n",
            "copying torch2trt/flattener.py -> build/lib.linux-x86_64-3.7/torch2trt\n",
            "copying torch2trt/__init__.py -> build/lib.linux-x86_64-3.7/torch2trt\n",
            "copying torch2trt/flattener_test.py -> build/lib.linux-x86_64-3.7/torch2trt\n",
            "creating build/lib.linux-x86_64-3.7/torch2trt/contrib\n",
            "copying torch2trt/contrib/__init__.py -> build/lib.linux-x86_64-3.7/torch2trt/contrib\n",
            "creating build/lib.linux-x86_64-3.7/torch2trt/converters\n",
            "copying torch2trt/converters/Conv2d.py -> build/lib.linux-x86_64-3.7/torch2trt/converters\n",
            "copying torch2trt/converters/sum.py -> build/lib.linux-x86_64-3.7/torch2trt/converters\n",
            "copying torch2trt/converters/dummy_converters.py -> build/lib.linux-x86_64-3.7/torch2trt/converters\n",
            "copying torch2trt/converters/clamp.py -> build/lib.linux-x86_64-3.7/torch2trt/converters\n",
            "copying torch2trt/converters/layer_norm.py -> build/lib.linux-x86_64-3.7/torch2trt/converters\n",
            "copying torch2trt/converters/chunk.py -> build/lib.linux-x86_64-3.7/torch2trt/converters\n",
            "copying torch2trt/converters/sigmoid.py -> build/lib.linux-x86_64-3.7/torch2trt/converters\n",
            "copying torch2trt/converters/adaptive_max_pool2d.py -> build/lib.linux-x86_64-3.7/torch2trt/converters\n",
            "copying torch2trt/converters/prod.py -> build/lib.linux-x86_64-3.7/torch2trt/converters\n",
            "copying torch2trt/converters/batch_norm.py -> build/lib.linux-x86_64-3.7/torch2trt/converters\n",
            "copying torch2trt/converters/min.py -> build/lib.linux-x86_64-3.7/torch2trt/converters\n",
            "copying torch2trt/converters/ConvTranspose.py -> build/lib.linux-x86_64-3.7/torch2trt/converters\n",
            "copying torch2trt/converters/mod.py -> build/lib.linux-x86_64-3.7/torch2trt/converters\n",
            "copying torch2trt/converters/permute.py -> build/lib.linux-x86_64-3.7/torch2trt/converters\n",
            "copying torch2trt/converters/LogSoftmax.py -> build/lib.linux-x86_64-3.7/torch2trt/converters\n",
            "copying torch2trt/converters/stack.py -> build/lib.linux-x86_64-3.7/torch2trt/converters\n",
            "copying torch2trt/converters/view.py -> build/lib.linux-x86_64-3.7/torch2trt/converters\n",
            "copying torch2trt/converters/unary.py -> build/lib.linux-x86_64-3.7/torch2trt/converters\n",
            "copying torch2trt/converters/split.py -> build/lib.linux-x86_64-3.7/torch2trt/converters\n",
            "copying torch2trt/converters/Conv.py -> build/lib.linux-x86_64-3.7/torch2trt/converters\n",
            "copying torch2trt/converters/reflection_pad_2d.py -> build/lib.linux-x86_64-3.7/torch2trt/converters\n",
            "copying torch2trt/converters/activation.py -> build/lib.linux-x86_64-3.7/torch2trt/converters\n",
            "copying torch2trt/converters/expand.py -> build/lib.linux-x86_64-3.7/torch2trt/converters\n",
            "copying torch2trt/converters/compare.py -> build/lib.linux-x86_64-3.7/torch2trt/converters\n",
            "copying torch2trt/converters/Linear.py -> build/lib.linux-x86_64-3.7/torch2trt/converters\n",
            "copying torch2trt/converters/clone.py -> build/lib.linux-x86_64-3.7/torch2trt/converters\n",
            "copying torch2trt/converters/floordiv.py -> build/lib.linux-x86_64-3.7/torch2trt/converters\n",
            "copying torch2trt/converters/add.py -> build/lib.linux-x86_64-3.7/torch2trt/converters\n",
            "copying torch2trt/converters/prelu.py -> build/lib.linux-x86_64-3.7/torch2trt/converters\n",
            "copying torch2trt/converters/mean.py -> build/lib.linux-x86_64-3.7/torch2trt/converters\n",
            "copying torch2trt/converters/normalize.py -> build/lib.linux-x86_64-3.7/torch2trt/converters\n",
            "copying torch2trt/converters/cat.py -> build/lib.linux-x86_64-3.7/torch2trt/converters\n",
            "copying torch2trt/converters/pow.py -> build/lib.linux-x86_64-3.7/torch2trt/converters\n",
            "copying torch2trt/converters/div.py -> build/lib.linux-x86_64-3.7/torch2trt/converters\n",
            "copying torch2trt/converters/relu6.py -> build/lib.linux-x86_64-3.7/torch2trt/converters\n",
            "copying torch2trt/converters/AdaptiveAvgPool2d.py -> build/lib.linux-x86_64-3.7/torch2trt/converters\n",
            "copying torch2trt/converters/transpose.py -> build/lib.linux-x86_64-3.7/torch2trt/converters\n",
            "copying torch2trt/converters/silu.py -> build/lib.linux-x86_64-3.7/torch2trt/converters\n",
            "copying torch2trt/converters/max.py -> build/lib.linux-x86_64-3.7/torch2trt/converters\n",
            "copying torch2trt/converters/adaptive_avg_pool2d.py -> build/lib.linux-x86_64-3.7/torch2trt/converters\n",
            "copying torch2trt/converters/instance_norm.py -> build/lib.linux-x86_64-3.7/torch2trt/converters\n",
            "copying torch2trt/converters/AdaptiveAvgPool3d.py -> build/lib.linux-x86_64-3.7/torch2trt/converters\n",
            "copying torch2trt/converters/group_norm.py -> build/lib.linux-x86_64-3.7/torch2trt/converters\n",
            "copying torch2trt/converters/BatchNorm3d.py -> build/lib.linux-x86_64-3.7/torch2trt/converters\n",
            "copying torch2trt/converters/adaptive_avg_pool3d.py -> build/lib.linux-x86_64-3.7/torch2trt/converters\n",
            "copying torch2trt/converters/example_plugin.py -> build/lib.linux-x86_64-3.7/torch2trt/converters\n",
            "copying torch2trt/converters/pad.py -> build/lib.linux-x86_64-3.7/torch2trt/converters\n",
            "copying torch2trt/converters/softmax.py -> build/lib.linux-x86_64-3.7/torch2trt/converters\n",
            "copying torch2trt/converters/BatchNorm2d.py -> build/lib.linux-x86_64-3.7/torch2trt/converters\n",
            "copying torch2trt/converters/tensor.py -> build/lib.linux-x86_64-3.7/torch2trt/converters\n",
            "copying torch2trt/converters/mul.py -> build/lib.linux-x86_64-3.7/torch2trt/converters\n",
            "copying torch2trt/converters/ConvTranspose2d.py -> build/lib.linux-x86_64-3.7/torch2trt/converters\n",
            "copying torch2trt/converters/ne.py -> build/lib.linux-x86_64-3.7/torch2trt/converters\n",
            "copying torch2trt/converters/BatchNorm1d.py -> build/lib.linux-x86_64-3.7/torch2trt/converters\n",
            "copying torch2trt/converters/adaptive_max_pool3d.py -> build/lib.linux-x86_64-3.7/torch2trt/converters\n",
            "copying torch2trt/converters/gelu.py -> build/lib.linux-x86_64-3.7/torch2trt/converters\n",
            "copying torch2trt/converters/avg_pool.py -> build/lib.linux-x86_64-3.7/torch2trt/converters\n",
            "copying torch2trt/converters/conv_functional.py -> build/lib.linux-x86_64-3.7/torch2trt/converters\n",
            "copying torch2trt/converters/max_pool2d.py -> build/lib.linux-x86_64-3.7/torch2trt/converters\n",
            "copying torch2trt/converters/Conv1d.py -> build/lib.linux-x86_64-3.7/torch2trt/converters\n",
            "copying torch2trt/converters/__init__.py -> build/lib.linux-x86_64-3.7/torch2trt/converters\n",
            "copying torch2trt/converters/tanh.py -> build/lib.linux-x86_64-3.7/torch2trt/converters\n",
            "copying torch2trt/converters/max_pool3d.py -> build/lib.linux-x86_64-3.7/torch2trt/converters\n",
            "copying torch2trt/converters/interpolate.py -> build/lib.linux-x86_64-3.7/torch2trt/converters\n",
            "copying torch2trt/converters/sub.py -> build/lib.linux-x86_64-3.7/torch2trt/converters\n",
            "copying torch2trt/converters/relu.py -> build/lib.linux-x86_64-3.7/torch2trt/converters\n",
            "copying torch2trt/converters/narrow.py -> build/lib.linux-x86_64-3.7/torch2trt/converters\n",
            "copying torch2trt/converters/einsum.py -> build/lib.linux-x86_64-3.7/torch2trt/converters\n",
            "copying torch2trt/converters/max_pool1d.py -> build/lib.linux-x86_64-3.7/torch2trt/converters\n",
            "copying torch2trt/converters/getitem.py -> build/lib.linux-x86_64-3.7/torch2trt/converters\n",
            "copying torch2trt/converters/roll.py -> build/lib.linux-x86_64-3.7/torch2trt/converters\n",
            "copying torch2trt/converters/identity.py -> build/lib.linux-x86_64-3.7/torch2trt/converters\n",
            "creating build/lib.linux-x86_64-3.7/torch2trt/tests\n",
            "copying torch2trt/tests/test_legacy_max_batch_size.py -> build/lib.linux-x86_64-3.7/torch2trt/tests\n",
            "copying torch2trt/tests/test_contiguous.py -> build/lib.linux-x86_64-3.7/torch2trt/tests\n",
            "copying torch2trt/tests/__init__.py -> build/lib.linux-x86_64-3.7/torch2trt/tests\n",
            "creating build/lib.linux-x86_64-3.7/torch2trt/contrib/qat\n",
            "copying torch2trt/contrib/qat/__init__.py -> build/lib.linux-x86_64-3.7/torch2trt/contrib/qat\n",
            "creating build/lib.linux-x86_64-3.7/torch2trt/contrib/qat/layers\n",
            "copying torch2trt/contrib/qat/layers/quant_conv.py -> build/lib.linux-x86_64-3.7/torch2trt/contrib/qat/layers\n",
            "copying torch2trt/contrib/qat/layers/_utils.py -> build/lib.linux-x86_64-3.7/torch2trt/contrib/qat/layers\n",
            "copying torch2trt/contrib/qat/layers/__init__.py -> build/lib.linux-x86_64-3.7/torch2trt/contrib/qat/layers\n",
            "copying torch2trt/contrib/qat/layers/quant_activation.py -> build/lib.linux-x86_64-3.7/torch2trt/contrib/qat/layers\n",
            "creating build/lib.linux-x86_64-3.7/torch2trt/contrib/qat/converters\n",
            "copying torch2trt/contrib/qat/converters/QuantConvBN.py -> build/lib.linux-x86_64-3.7/torch2trt/contrib/qat/converters\n",
            "copying torch2trt/contrib/qat/converters/QuantRelu.py -> build/lib.linux-x86_64-3.7/torch2trt/contrib/qat/converters\n",
            "copying torch2trt/contrib/qat/converters/QuantConv.py -> build/lib.linux-x86_64-3.7/torch2trt/contrib/qat/converters\n",
            "copying torch2trt/contrib/qat/converters/__init__.py -> build/lib.linux-x86_64-3.7/torch2trt/contrib/qat/converters\n",
            "creating build/lib.linux-x86_64-3.7/torch2trt/tests/torchvision\n",
            "copying torch2trt/tests/torchvision/segmentation.py -> build/lib.linux-x86_64-3.7/torch2trt/tests/torchvision\n",
            "copying torch2trt/tests/torchvision/classification.py -> build/lib.linux-x86_64-3.7/torch2trt/tests/torchvision\n",
            "copying torch2trt/tests/torchvision/save_load.py -> build/lib.linux-x86_64-3.7/torch2trt/tests/torchvision\n",
            "copying torch2trt/tests/torchvision/__init__.py -> build/lib.linux-x86_64-3.7/torch2trt/tests/torchvision\n",
            "running build_ext\n",
            "building 'plugins' extension\n",
            "creating build/temp.linux-x86_64-3.7\n",
            "creating build/temp.linux-x86_64-3.7/torch2trt\n",
            "creating build/temp.linux-x86_64-3.7/torch2trt/plugins\n",
            "x86_64-linux-gnu-gcc -pthread -Wno-unused-result -Wsign-compare -DNDEBUG -g -fwrapv -O2 -Wall -g -fstack-protector-strong -Wformat -Werror=format-security -g -fwrapv -O2 -g -fstack-protector-strong -Wformat -Werror=format-security -Wdate-time -D_FORTIFY_SOURCE=2 -fPIC -I/usr/include/aarch64-linux-gnu -I/usr/local/lib/python3.7/dist-packages/torch/include -I/usr/local/lib/python3.7/dist-packages/torch/include/torch/csrc/api/include -I/usr/local/lib/python3.7/dist-packages/torch/include/TH -I/usr/local/lib/python3.7/dist-packages/torch/include/THC -I/usr/local/cuda/include -I/usr/include/python3.7m -c torch2trt/plugins/plugins.cpp -o build/temp.linux-x86_64-3.7/torch2trt/plugins/plugins.o -DTORCH_API_INCLUDE_EXTENSION_H -DPYBIND11_COMPILER_TYPE=\"_gcc\" -DPYBIND11_STDLIB=\"_libstdcpp\" -DPYBIND11_BUILD_ABI=\"_cxxabi1011\" -DTORCH_EXTENSION_NAME=plugins -D_GLIBCXX_USE_CXX11_ABI=0 -std=c++14\n",
            "In file included from \u001b[01m\u001b[Ktorch2trt/plugins/plugins.cpp:2:0\u001b[m\u001b[K:\n",
            "\u001b[01m\u001b[Ktorch2trt/plugins/interpolate.cpp:6:10:\u001b[m\u001b[K \u001b[01;31m\u001b[Kfatal error: \u001b[m\u001b[KNvInfer.h: No such file or directory\n",
            " #include \u001b[01;31m\u001b[K<NvInfer.h>\u001b[m\u001b[K\n",
            "          \u001b[01;31m\u001b[K^~~~~~~~~~~\u001b[m\u001b[K\n",
            "compilation terminated.\n",
            "error: command 'x86_64-linux-gnu-gcc' failed with exit status 1\n"
          ]
        }
      ]
    },
    {
      "cell_type": "code",
      "source": [
        "!sudo pip3 install tqdm cython pycocotools\n",
        "!sudo apt-get install python3-matplotlib"
      ],
      "metadata": {
        "colab": {
          "base_uri": "https://localhost:8080/"
        },
        "id": "bJf0IjZ3WyBi",
        "outputId": "ba1e669f-a8bb-4fb1-a9f2-1f21ae1816e2"
      },
      "execution_count": null,
      "outputs": [
        {
          "output_type": "stream",
          "name": "stdout",
          "text": [
            "Looking in indexes: https://pypi.org/simple, https://us-python.pkg.dev/colab-wheels/public/simple/, https://pypi.ngc.nvidia.com\n",
            "Requirement already satisfied: tqdm in /usr/local/lib/python3.7/dist-packages (4.64.1)\n",
            "Requirement already satisfied: cython in /usr/local/lib/python3.7/dist-packages (0.29.32)\n",
            "Requirement already satisfied: pycocotools in /usr/local/lib/python3.7/dist-packages (2.0.5)\n",
            "Requirement already satisfied: numpy in /usr/local/lib/python3.7/dist-packages (from pycocotools) (1.21.6)\n",
            "Requirement already satisfied: matplotlib>=2.1.0 in /usr/local/lib/python3.7/dist-packages (from pycocotools) (3.2.2)\n",
            "Requirement already satisfied: kiwisolver>=1.0.1 in /usr/local/lib/python3.7/dist-packages (from matplotlib>=2.1.0->pycocotools) (1.4.4)\n",
            "Requirement already satisfied: python-dateutil>=2.1 in /usr/local/lib/python3.7/dist-packages (from matplotlib>=2.1.0->pycocotools) (2.8.2)\n",
            "Requirement already satisfied: cycler>=0.10 in /usr/local/lib/python3.7/dist-packages (from matplotlib>=2.1.0->pycocotools) (0.11.0)\n",
            "Requirement already satisfied: pyparsing!=2.0.4,!=2.1.2,!=2.1.6,>=2.0.1 in /usr/local/lib/python3.7/dist-packages (from matplotlib>=2.1.0->pycocotools) (3.0.9)\n",
            "Requirement already satisfied: typing-extensions in /usr/local/lib/python3.7/dist-packages (from kiwisolver>=1.0.1->matplotlib>=2.1.0->pycocotools) (4.1.1)\n",
            "Requirement already satisfied: six>=1.5 in /usr/local/lib/python3.7/dist-packages (from python-dateutil>=2.1->matplotlib>=2.1.0->pycocotools) (1.15.0)\n",
            "Reading package lists... Done\n",
            "Building dependency tree       \n",
            "Reading state information... Done\n",
            "The following package was automatically installed and is no longer required:\n",
            "  libnvidia-common-460\n",
            "Use 'sudo apt autoremove' to remove it.\n",
            "The following additional packages will be installed:\n",
            "  fonts-lyx javascript-common libjs-jquery libjs-jquery-ui\n",
            "  python-matplotlib-data python3-cycler python3-dateutil python3-numpy\n",
            "  python3-olefile python3-pil python3-pyparsing python3-six python3-tz\n",
            "  ttf-bitstream-vera\n",
            "Suggested packages:\n",
            "  apache2 | lighttpd | httpd libjs-jquery-ui-docs python-cycler-doc dvipng\n",
            "  gir1.2-gtk-3.0 ghostscript inkscape ipython3 python-matplotlib-doc\n",
            "  python3-cairocffi python3-gi-cairo python3-gobject python3-nose\n",
            "  python3-pyqt4 python3-scipy python3-sip python3-tornado texlive-extra-utils\n",
            "  texlive-latex-extra ttf-staypuft python-numpy-doc python3-numpy-dbg\n",
            "  python-pil-doc python3-pil-dbg python-pyparsing-doc\n",
            "The following NEW packages will be installed:\n",
            "  fonts-lyx javascript-common libjs-jquery libjs-jquery-ui\n",
            "  python-matplotlib-data python3-cycler python3-dateutil python3-matplotlib\n",
            "  python3-numpy python3-olefile python3-pil python3-pyparsing python3-six\n",
            "  python3-tz ttf-bitstream-vera\n",
            "0 upgraded, 15 newly installed, 0 to remove and 4 not upgraded.\n",
            "Need to get 11.0 MB of archives.\n",
            "After this operation, 40.3 MB of additional disk space will be used.\n",
            "Get:1 http://archive.ubuntu.com/ubuntu bionic-updates/universe amd64 fonts-lyx all 2.2.4-0ubuntu0.18.04.1 [155 kB]\n",
            "Get:2 http://archive.ubuntu.com/ubuntu bionic/main amd64 javascript-common all 11 [6,066 B]\n",
            "Get:3 http://archive.ubuntu.com/ubuntu bionic/main amd64 libjs-jquery all 3.2.1-1 [152 kB]\n",
            "Get:4 http://archive.ubuntu.com/ubuntu bionic/universe amd64 libjs-jquery-ui all 1.12.1+dfsg-5 [232 kB]\n",
            "Get:5 http://archive.ubuntu.com/ubuntu bionic/universe amd64 ttf-bitstream-vera all 1.10-8 [352 kB]\n",
            "Get:6 http://archive.ubuntu.com/ubuntu bionic/universe amd64 python-matplotlib-data all 2.1.1-2ubuntu3 [3,774 kB]\n",
            "Get:7 http://archive.ubuntu.com/ubuntu bionic/main amd64 python3-six all 1.11.0-2 [11.4 kB]\n",
            "Get:8 http://archive.ubuntu.com/ubuntu bionic/universe amd64 python3-cycler all 0.10.0-1 [7,622 B]\n",
            "Get:9 http://archive.ubuntu.com/ubuntu bionic/main amd64 python3-dateutil all 2.6.1-1 [52.3 kB]\n",
            "Get:10 http://archive.ubuntu.com/ubuntu bionic/main amd64 python3-pyparsing all 2.2.0+dfsg1-2 [52.2 kB]\n",
            "Get:11 http://archive.ubuntu.com/ubuntu bionic/main amd64 python3-tz all 2018.3-2 [25.1 kB]\n",
            "Get:12 http://archive.ubuntu.com/ubuntu bionic/main amd64 python3-numpy amd64 1:1.13.3-2ubuntu1 [1,943 kB]\n",
            "Get:13 http://archive.ubuntu.com/ubuntu bionic/universe amd64 python3-matplotlib amd64 2.1.1-2ubuntu3 [3,907 kB]\n",
            "Get:14 http://archive.ubuntu.com/ubuntu bionic/main amd64 python3-olefile all 0.45.1-1 [33.3 kB]\n",
            "Get:15 http://archive.ubuntu.com/ubuntu bionic-updates/main amd64 python3-pil amd64 5.1.0-1ubuntu0.8 [331 kB]\n",
            "Fetched 11.0 MB in 0s (47.0 MB/s)\n",
            "debconf: unable to initialize frontend: Dialog\n",
            "debconf: (No usable dialog-like program is installed, so the dialog based frontend cannot be used. at /usr/share/perl5/Debconf/FrontEnd/Dialog.pm line 76, <> line 15.)\n",
            "debconf: falling back to frontend: Readline\n",
            "debconf: unable to initialize frontend: Readline\n",
            "debconf: (This frontend requires a controlling tty.)\n",
            "debconf: falling back to frontend: Teletype\n",
            "dpkg-preconfigure: unable to re-open stdin: \n",
            "Selecting previously unselected package fonts-lyx.\n",
            "(Reading database ... 123942 files and directories currently installed.)\n",
            "Preparing to unpack .../00-fonts-lyx_2.2.4-0ubuntu0.18.04.1_all.deb ...\n",
            "Unpacking fonts-lyx (2.2.4-0ubuntu0.18.04.1) ...\n",
            "Selecting previously unselected package javascript-common.\n",
            "Preparing to unpack .../01-javascript-common_11_all.deb ...\n",
            "Unpacking javascript-common (11) ...\n",
            "Selecting previously unselected package libjs-jquery.\n",
            "Preparing to unpack .../02-libjs-jquery_3.2.1-1_all.deb ...\n",
            "Unpacking libjs-jquery (3.2.1-1) ...\n",
            "Selecting previously unselected package libjs-jquery-ui.\n",
            "Preparing to unpack .../03-libjs-jquery-ui_1.12.1+dfsg-5_all.deb ...\n",
            "Unpacking libjs-jquery-ui (1.12.1+dfsg-5) ...\n",
            "Selecting previously unselected package ttf-bitstream-vera.\n",
            "Preparing to unpack .../04-ttf-bitstream-vera_1.10-8_all.deb ...\n",
            "Unpacking ttf-bitstream-vera (1.10-8) ...\n",
            "Selecting previously unselected package python-matplotlib-data.\n",
            "Preparing to unpack .../05-python-matplotlib-data_2.1.1-2ubuntu3_all.deb ...\n",
            "Unpacking python-matplotlib-data (2.1.1-2ubuntu3) ...\n",
            "Selecting previously unselected package python3-six.\n",
            "Preparing to unpack .../06-python3-six_1.11.0-2_all.deb ...\n",
            "Unpacking python3-six (1.11.0-2) ...\n",
            "Selecting previously unselected package python3-cycler.\n",
            "Preparing to unpack .../07-python3-cycler_0.10.0-1_all.deb ...\n",
            "Unpacking python3-cycler (0.10.0-1) ...\n",
            "Selecting previously unselected package python3-dateutil.\n",
            "Preparing to unpack .../08-python3-dateutil_2.6.1-1_all.deb ...\n",
            "Unpacking python3-dateutil (2.6.1-1) ...\n",
            "Selecting previously unselected package python3-pyparsing.\n",
            "Preparing to unpack .../09-python3-pyparsing_2.2.0+dfsg1-2_all.deb ...\n",
            "Unpacking python3-pyparsing (2.2.0+dfsg1-2) ...\n",
            "Selecting previously unselected package python3-tz.\n",
            "Preparing to unpack .../10-python3-tz_2018.3-2_all.deb ...\n",
            "Unpacking python3-tz (2018.3-2) ...\n",
            "Selecting previously unselected package python3-numpy.\n",
            "Preparing to unpack .../11-python3-numpy_1%3a1.13.3-2ubuntu1_amd64.deb ...\n",
            "Unpacking python3-numpy (1:1.13.3-2ubuntu1) ...\n",
            "Selecting previously unselected package python3-matplotlib.\n",
            "Preparing to unpack .../12-python3-matplotlib_2.1.1-2ubuntu3_amd64.deb ...\n",
            "Unpacking python3-matplotlib (2.1.1-2ubuntu3) ...\n",
            "Selecting previously unselected package python3-olefile.\n",
            "Preparing to unpack .../13-python3-olefile_0.45.1-1_all.deb ...\n",
            "Unpacking python3-olefile (0.45.1-1) ...\n",
            "Selecting previously unselected package python3-pil:amd64.\n",
            "Preparing to unpack .../14-python3-pil_5.1.0-1ubuntu0.8_amd64.deb ...\n",
            "Unpacking python3-pil:amd64 (5.1.0-1ubuntu0.8) ...\n",
            "Setting up libjs-jquery (3.2.1-1) ...\n",
            "Setting up python3-pil:amd64 (5.1.0-1ubuntu0.8) ...\n",
            "Setting up python3-olefile (0.45.1-1) ...\n",
            "Setting up python3-numpy (1:1.13.3-2ubuntu1) ...\n",
            "Setting up python3-six (1.11.0-2) ...\n",
            "Setting up python3-pyparsing (2.2.0+dfsg1-2) ...\n",
            "Setting up python3-cycler (0.10.0-1) ...\n",
            "Setting up libjs-jquery-ui (1.12.1+dfsg-5) ...\n",
            "Setting up ttf-bitstream-vera (1.10-8) ...\n",
            "Setting up javascript-common (11) ...\n",
            "Setting up python3-tz (2018.3-2) ...\n",
            "Setting up python3-dateutil (2.6.1-1) ...\n",
            "Setting up fonts-lyx (2.2.4-0ubuntu0.18.04.1) ...\n",
            "Setting up python-matplotlib-data (2.1.1-2ubuntu3) ...\n",
            "Setting up python3-matplotlib (2.1.1-2ubuntu3) ...\n",
            "Processing triggers for man-db (2.8.3-2ubuntu0.1) ...\n",
            "Processing triggers for fontconfig (2.12.6-0ubuntu2) ...\n"
          ]
        }
      ]
    },
    {
      "cell_type": "code",
      "source": [
        "!cmake -B build . && cmake --build build --target install && ldconfig"
      ],
      "metadata": {
        "colab": {
          "base_uri": "https://localhost:8080/"
        },
        "id": "IpVMP85cWz1N",
        "outputId": "854cf163-5814-4a52-edb5-49d78d7f4465"
      },
      "execution_count": null,
      "outputs": [
        {
          "output_type": "stream",
          "name": "stdout",
          "text": [
            "-- The C compiler identification is GNU 7.5.0\n",
            "-- The CXX compiler identification is GNU 7.5.0\n",
            "-- Detecting C compiler ABI info\n",
            "-- Detecting C compiler ABI info - done\n",
            "-- Check for working C compiler: /usr/bin/cc - skipped\n",
            "-- Detecting C compile features\n",
            "-- Detecting C compile features - done\n",
            "-- Detecting CXX compiler ABI info\n",
            "-- Detecting CXX compiler ABI info - done\n",
            "-- Check for working CXX compiler: /usr/bin/c++ - skipped\n",
            "-- Detecting CXX compile features\n",
            "-- Detecting CXX compile features - done\n",
            "-- Looking for pthread.h\n",
            "-- Looking for pthread.h - found\n",
            "-- Performing Test CMAKE_HAVE_LIBC_PTHREAD\n",
            "-- Performing Test CMAKE_HAVE_LIBC_PTHREAD - Failed\n",
            "-- Looking for pthread_create in pthreads\n",
            "-- Looking for pthread_create in pthreads - not found\n",
            "-- Looking for pthread_create in pthread\n",
            "-- Looking for pthread_create in pthread - found\n",
            "-- Found Threads: TRUE  \n",
            "-- Found CUDA: /usr/local/cuda (found version \"11.2\") \n",
            "-- The CUDA compiler identification is NVIDIA 11.2.152\n",
            "-- Detecting CUDA compiler ABI info\n",
            "-- Detecting CUDA compiler ABI info - done\n",
            "-- Check for working CUDA compiler: /usr/local/cuda/bin/nvcc - skipped\n",
            "-- Detecting CUDA compile features\n",
            "-- Detecting CUDA compile features - done\n",
            "-- Configuring done\n",
            "-- Generating done\n",
            "-- Build files have been written to: /content/ActionAI/torch2trt/build\n",
            "[ 33%] \u001b[32mBuilding CUDA object CMakeFiles/torch2trt_plugins.dir/plugins/src/example_plugin.cu.o\u001b[0m\n",
            "nvcc fatal   : Unsupported gpu architecture 'compute_87'\n",
            "CMakeFiles/torch2trt_plugins.dir/build.make:75: recipe for target 'CMakeFiles/torch2trt_plugins.dir/plugins/src/example_plugin.cu.o' failed\n",
            "make[2]: *** [CMakeFiles/torch2trt_plugins.dir/plugins/src/example_plugin.cu.o] Error 1\n",
            "CMakeFiles/Makefile2:82: recipe for target 'CMakeFiles/torch2trt_plugins.dir/all' failed\n",
            "make[1]: *** [CMakeFiles/torch2trt_plugins.dir/all] Error 2\n",
            "Makefile:135: recipe for target 'all' failed\n",
            "make: *** [all] Error 2\n"
          ]
        }
      ]
    },
    {
      "cell_type": "code",
      "source": [
        "%cd /content/ActionAI/torch2trt/scripts"
      ],
      "metadata": {
        "colab": {
          "base_uri": "https://localhost:8080/"
        },
        "id": "Gc1vykZ0W1k4",
        "outputId": "7fa876a6-41cf-47e2-f8f7-b87f32dab501"
      },
      "execution_count": null,
      "outputs": [
        {
          "output_type": "stream",
          "name": "stdout",
          "text": [
            "/content/ActionAI/torch2trt/scripts\n"
          ]
        }
      ]
    },
    {
      "cell_type": "code",
      "source": [
        "! bash build_contrib.sh  "
      ],
      "metadata": {
        "colab": {
          "base_uri": "https://localhost:8080/"
        },
        "id": "LcDgLyiaW3Di",
        "outputId": "9c80d1ac-02c5-4b3b-efa2-dd5dbbf52a15"
      },
      "execution_count": null,
      "outputs": [
        {
          "output_type": "stream",
          "name": "stdout",
          "text": [
            "Cloning into '/tmp/TensorRT'...\n",
            "remote: Enumerating objects: 12183, done.\u001b[K\n",
            "remote: Counting objects: 100% (1903/1903), done.\u001b[K\n",
            "remote: Compressing objects: 100% (949/949), done.\u001b[K\n",
            "remote: Total 12183 (delta 998), reused 1629 (delta 940), pack-reused 10280\u001b[K\n",
            "Receiving objects: 100% (12183/12183), 41.96 MiB | 18.45 MiB/s, done.\n",
            "Resolving deltas: 100% (7751/7751), done.\n",
            "/tmp/TensorRT /content/ActionAI/torch2trt/scripts\n",
            "Note: checking out 'e724d31ab84626ca334b4284703b5048eb698c98'.\n",
            "\n",
            "You are in 'detached HEAD' state. You can look around, make experimental\n",
            "changes and commit them, and you can discard any commits you make in this\n",
            "state without impacting any branches by performing another checkout.\n",
            "\n",
            "If you want to create a new branch to retain commits you create, you may\n",
            "do so (now or later) by using -b with the checkout command again. Example:\n",
            "\n",
            "  git checkout -b <new-branch-name>\n",
            "\n",
            "HEAD is now at e724d31 Set CUDA_INSTALL_DIR if it is not set by cmake build command\n",
            "git: 'sparse-checkout' is not a git command. See 'git --help'.\n",
            "git: 'sparse-checkout' is not a git command. See 'git --help'.\n",
            "pytorch_nvidia_quantization.patch:18: trailing whitespace.\n",
            "        \n",
            "Checking patch tools/pytorch-quantization/pytorch_quantization/nn/modules/tensor_quantizer.py...\n",
            "Applied patch tools/pytorch-quantization/pytorch_quantization/nn/modules/tensor_quantizer.py cleanly.\n",
            "warning: 1 line applied after fixing whitespace errors.\n",
            "running install\n",
            "running bdist_egg\n",
            "running egg_info\n",
            "creating pytorch_quantization.egg-info\n",
            "writing pytorch_quantization.egg-info/PKG-INFO\n",
            "writing dependency_links to pytorch_quantization.egg-info/dependency_links.txt\n",
            "writing requirements to pytorch_quantization.egg-info/requires.txt\n",
            "writing top-level names to pytorch_quantization.egg-info/top_level.txt\n",
            "writing manifest file 'pytorch_quantization.egg-info/SOURCES.txt'\n",
            "/usr/local/lib/python3.7/dist-packages/torch/utils/cpp_extension.py:411: UserWarning: Attempted to use ninja as the BuildExtension backend but we could not find ninja.. Falling back to using the slow distutils backend.\n",
            "  warnings.warn(msg.format('we could not find ninja.'))\n",
            "reading manifest template 'MANIFEST.in'\n",
            "adding license file 'LICENSE'\n",
            "writing manifest file 'pytorch_quantization.egg-info/SOURCES.txt'\n",
            "installing library code to build/bdist.linux-x86_64/egg\n",
            "running install_lib\n",
            "running build_py\n",
            "creating build\n",
            "creating build/lib.linux-x86_64-3.7\n",
            "creating build/lib.linux-x86_64-3.7/pytorch_quantization\n",
            "copying pytorch_quantization/version.py -> build/lib.linux-x86_64-3.7/pytorch_quantization\n",
            "copying pytorch_quantization/quant_modules.py -> build/lib.linux-x86_64-3.7/pytorch_quantization\n",
            "copying pytorch_quantization/tensor_quant.py -> build/lib.linux-x86_64-3.7/pytorch_quantization\n",
            "copying pytorch_quantization/__init__.py -> build/lib.linux-x86_64-3.7/pytorch_quantization\n",
            "creating build/lib.linux-x86_64-3.7/pytorch_quantization/utils\n",
            "copying pytorch_quantization/utils/quant_logging.py -> build/lib.linux-x86_64-3.7/pytorch_quantization/utils\n",
            "copying pytorch_quantization/utils/__init__.py -> build/lib.linux-x86_64-3.7/pytorch_quantization/utils\n",
            "copying pytorch_quantization/utils/reduce_amax.py -> build/lib.linux-x86_64-3.7/pytorch_quantization/utils\n",
            "creating build/lib.linux-x86_64-3.7/pytorch_quantization/optim\n",
            "copying pytorch_quantization/optim/helper.py -> build/lib.linux-x86_64-3.7/pytorch_quantization/optim\n",
            "copying pytorch_quantization/optim/__init__.py -> build/lib.linux-x86_64-3.7/pytorch_quantization/optim\n",
            "creating build/lib.linux-x86_64-3.7/pytorch_quantization/nn\n",
            "copying pytorch_quantization/nn/functional.py -> build/lib.linux-x86_64-3.7/pytorch_quantization/nn\n",
            "copying pytorch_quantization/nn/__init__.py -> build/lib.linux-x86_64-3.7/pytorch_quantization/nn\n",
            "creating build/lib.linux-x86_64-3.7/pytorch_quantization/calib\n",
            "copying pytorch_quantization/calib/histogram.py -> build/lib.linux-x86_64-3.7/pytorch_quantization/calib\n",
            "copying pytorch_quantization/calib/calibrator.py -> build/lib.linux-x86_64-3.7/pytorch_quantization/calib\n",
            "copying pytorch_quantization/calib/max.py -> build/lib.linux-x86_64-3.7/pytorch_quantization/calib\n",
            "copying pytorch_quantization/calib/__init__.py -> build/lib.linux-x86_64-3.7/pytorch_quantization/calib\n",
            "creating build/lib.linux-x86_64-3.7/pytorch_quantization/nn/modules\n",
            "copying pytorch_quantization/nn/modules/quant_conv.py -> build/lib.linux-x86_64-3.7/pytorch_quantization/nn/modules\n",
            "copying pytorch_quantization/nn/modules/quant_bert.py -> build/lib.linux-x86_64-3.7/pytorch_quantization/nn/modules\n",
            "copying pytorch_quantization/nn/modules/quant_rnn.py -> build/lib.linux-x86_64-3.7/pytorch_quantization/nn/modules\n",
            "copying pytorch_quantization/nn/modules/quant_linear.py -> build/lib.linux-x86_64-3.7/pytorch_quantization/nn/modules\n",
            "copying pytorch_quantization/nn/modules/_utils.py -> build/lib.linux-x86_64-3.7/pytorch_quantization/nn/modules\n",
            "copying pytorch_quantization/nn/modules/quant_pooling.py -> build/lib.linux-x86_64-3.7/pytorch_quantization/nn/modules\n",
            "copying pytorch_quantization/nn/modules/quant_instancenorm.py -> build/lib.linux-x86_64-3.7/pytorch_quantization/nn/modules\n",
            "copying pytorch_quantization/nn/modules/__init__.py -> build/lib.linux-x86_64-3.7/pytorch_quantization/nn/modules\n",
            "copying pytorch_quantization/nn/modules/tensor_quantizer.py -> build/lib.linux-x86_64-3.7/pytorch_quantization/nn/modules\n",
            "copying pytorch_quantization/nn/modules/clip.py -> build/lib.linux-x86_64-3.7/pytorch_quantization/nn/modules\n",
            "creating build/lib.linux-x86_64-3.7/pytorch_quantization/nn/_functions\n",
            "copying pytorch_quantization/nn/_functions/quant_rnn.py -> build/lib.linux-x86_64-3.7/pytorch_quantization/nn/_functions\n",
            "copying pytorch_quantization/nn/_functions/__init__.py -> build/lib.linux-x86_64-3.7/pytorch_quantization/nn/_functions\n",
            "running build_ext\n",
            "/usr/local/lib/python3.7/dist-packages/torch/utils/cpp_extension.py:813: UserWarning: The detected CUDA version (11.2) has a minor version mismatch with the version that was used to compile PyTorch (11.3). Most likely this shouldn't be a problem.\n",
            "  warnings.warn(CUDA_MISMATCH_WARN.format(cuda_str_version, torch.version.cuda))\n",
            "building 'pytorch_quantization.cuda_ext' extension\n",
            "creating build/temp.linux-x86_64-3.7\n",
            "creating build/temp.linux-x86_64-3.7/tmp\n",
            "creating build/temp.linux-x86_64-3.7/tmp/TensorRT\n",
            "creating build/temp.linux-x86_64-3.7/tmp/TensorRT/tools\n",
            "creating build/temp.linux-x86_64-3.7/tmp/TensorRT/tools/pytorch-quantization\n",
            "creating build/temp.linux-x86_64-3.7/tmp/TensorRT/tools/pytorch-quantization/src\n",
            "x86_64-linux-gnu-gcc -pthread -Wno-unused-result -Wsign-compare -DNDEBUG -g -fwrapv -O2 -Wall -g -fstack-protector-strong -Wformat -Werror=format-security -g -fwrapv -O2 -g -fstack-protector-strong -Wformat -Werror=format-security -Wdate-time -D_FORTIFY_SOURCE=2 -fPIC -I/usr/local/lib/python3.7/dist-packages/torch/include -I/usr/local/lib/python3.7/dist-packages/torch/include/torch/csrc/api/include -I/usr/local/lib/python3.7/dist-packages/torch/include/TH -I/usr/local/lib/python3.7/dist-packages/torch/include/THC -I/usr/local/cuda/include -I/usr/include/python3.7m -c /tmp/TensorRT/tools/pytorch-quantization/src/tensor_quant.cpp -o build/temp.linux-x86_64-3.7/tmp/TensorRT/tools/pytorch-quantization/src/tensor_quant.o -DTORCH_API_INCLUDE_EXTENSION_H -DPYBIND11_COMPILER_TYPE=\"_gcc\" -DPYBIND11_STDLIB=\"_libstdcpp\" -DPYBIND11_BUILD_ABI=\"_cxxabi1011\" -DTORCH_EXTENSION_NAME=cuda_ext -D_GLIBCXX_USE_CXX11_ABI=0 -std=c++14\n",
            "\u001b[01m\u001b[K/tmp/TensorRT/tools/pytorch-quantization/src/tensor_quant.cpp:\u001b[m\u001b[K In function ‘\u001b[01m\u001b[Kvoid fake_tensor_quant_(at::Tensor, at::Tensor, int, bool)\u001b[m\u001b[K’:\n",
            "\u001b[01m\u001b[K/tmp/TensorRT/tools/pytorch-quantization/src/tensor_quant.cpp:41:19:\u001b[m\u001b[K \u001b[01;35m\u001b[Kwarning: \u001b[m\u001b[K‘\u001b[01m\u001b[Kat::DeprecatedTypeProperties& at::Tensor::type() const\u001b[m\u001b[K’ is deprecated: Tensor.type() is deprecated. Instead use Tensor.options(), which in many cases (e.g. in a constructor) is a drop-in replacement. If you were using data from type(), that is now available from Tensor itself, so instead of tensor.type().scalar_type(), use tensor.scalar_type() instead and instead of tensor.type().backend() use tensor.device(). [\u001b[01;35m\u001b[K-Wdeprecated-declarations\u001b[m\u001b[K]\n",
            "   if (inputs.type(\u001b[01;35m\u001b[K)\u001b[m\u001b[K.is_cuda()) {\n",
            "                   \u001b[01;35m\u001b[K^\u001b[m\u001b[K\n",
            "In file included from \u001b[01m\u001b[K/usr/local/lib/python3.7/dist-packages/torch/include/ATen/core/Tensor.h:3:0\u001b[m\u001b[K,\n",
            "                 from \u001b[01m\u001b[K/usr/local/lib/python3.7/dist-packages/torch/include/ATen/DeviceGuard.h:4\u001b[m\u001b[K,\n",
            "                 from \u001b[01m\u001b[K/usr/local/lib/python3.7/dist-packages/torch/include/ATen/ATen.h:11\u001b[m\u001b[K,\n",
            "                 from \u001b[01m\u001b[K/usr/local/lib/python3.7/dist-packages/torch/include/torch/csrc/api/include/torch/types.h:3\u001b[m\u001b[K,\n",
            "                 from \u001b[01m\u001b[K/usr/local/lib/python3.7/dist-packages/torch/include/torch/csrc/api/include/torch/data/dataloader_options.h:4\u001b[m\u001b[K,\n",
            "                 from \u001b[01m\u001b[K/usr/local/lib/python3.7/dist-packages/torch/include/torch/csrc/api/include/torch/data/dataloader/base.h:3\u001b[m\u001b[K,\n",
            "                 from \u001b[01m\u001b[K/usr/local/lib/python3.7/dist-packages/torch/include/torch/csrc/api/include/torch/data/dataloader/stateful.h:3\u001b[m\u001b[K,\n",
            "                 from \u001b[01m\u001b[K/usr/local/lib/python3.7/dist-packages/torch/include/torch/csrc/api/include/torch/data/dataloader.h:3\u001b[m\u001b[K,\n",
            "                 from \u001b[01m\u001b[K/usr/local/lib/python3.7/dist-packages/torch/include/torch/csrc/api/include/torch/data.h:3\u001b[m\u001b[K,\n",
            "                 from \u001b[01m\u001b[K/usr/local/lib/python3.7/dist-packages/torch/include/torch/csrc/api/include/torch/all.h:8\u001b[m\u001b[K,\n",
            "                 from \u001b[01m\u001b[K/usr/local/lib/python3.7/dist-packages/torch/include/torch/extension.h:4\u001b[m\u001b[K,\n",
            "                 from \u001b[01m\u001b[K/tmp/TensorRT/tools/pytorch-quantization/src/tensor_quant.cpp:18\u001b[m\u001b[K:\n",
            "\u001b[01m\u001b[K/usr/local/lib/python3.7/dist-packages/torch/include/ATen/core/TensorBody.h:213:30:\u001b[m\u001b[K \u001b[01;36m\u001b[Knote: \u001b[m\u001b[Kdeclared here\n",
            "   DeprecatedTypeProperties & \u001b[01;36m\u001b[Ktype\u001b[m\u001b[K() const {\n",
            "                              \u001b[01;36m\u001b[K^~~~\u001b[m\u001b[K\n",
            "\u001b[01m\u001b[K/tmp/TensorRT/tools/pytorch-quantization/src/tensor_quant.cpp:\u001b[m\u001b[K In function ‘\u001b[01m\u001b[Kat::Tensor fake_tensor_quant(at::Tensor, at::Tensor, int, bool)\u001b[m\u001b[K’:\n",
            "\u001b[01m\u001b[K/tmp/TensorRT/tools/pytorch-quantization/src/tensor_quant.cpp:50:19:\u001b[m\u001b[K \u001b[01;35m\u001b[Kwarning: \u001b[m\u001b[K‘\u001b[01m\u001b[Kat::DeprecatedTypeProperties& at::Tensor::type() const\u001b[m\u001b[K’ is deprecated: Tensor.type() is deprecated. Instead use Tensor.options(), which in many cases (e.g. in a constructor) is a drop-in replacement. If you were using data from type(), that is now available from Tensor itself, so instead of tensor.type().scalar_type(), use tensor.scalar_type() instead and instead of tensor.type().backend() use tensor.device(). [\u001b[01;35m\u001b[K-Wdeprecated-declarations\u001b[m\u001b[K]\n",
            "   if (inputs.type(\u001b[01;35m\u001b[K)\u001b[m\u001b[K.is_cuda()) {\n",
            "                   \u001b[01;35m\u001b[K^\u001b[m\u001b[K\n",
            "In file included from \u001b[01m\u001b[K/usr/local/lib/python3.7/dist-packages/torch/include/ATen/core/Tensor.h:3:0\u001b[m\u001b[K,\n",
            "                 from \u001b[01m\u001b[K/usr/local/lib/python3.7/dist-packages/torch/include/ATen/DeviceGuard.h:4\u001b[m\u001b[K,\n",
            "                 from \u001b[01m\u001b[K/usr/local/lib/python3.7/dist-packages/torch/include/ATen/ATen.h:11\u001b[m\u001b[K,\n",
            "                 from \u001b[01m\u001b[K/usr/local/lib/python3.7/dist-packages/torch/include/torch/csrc/api/include/torch/types.h:3\u001b[m\u001b[K,\n",
            "                 from \u001b[01m\u001b[K/usr/local/lib/python3.7/dist-packages/torch/include/torch/csrc/api/include/torch/data/dataloader_options.h:4\u001b[m\u001b[K,\n",
            "                 from \u001b[01m\u001b[K/usr/local/lib/python3.7/dist-packages/torch/include/torch/csrc/api/include/torch/data/dataloader/base.h:3\u001b[m\u001b[K,\n",
            "                 from \u001b[01m\u001b[K/usr/local/lib/python3.7/dist-packages/torch/include/torch/csrc/api/include/torch/data/dataloader/stateful.h:3\u001b[m\u001b[K,\n",
            "                 from \u001b[01m\u001b[K/usr/local/lib/python3.7/dist-packages/torch/include/torch/csrc/api/include/torch/data/dataloader.h:3\u001b[m\u001b[K,\n",
            "                 from \u001b[01m\u001b[K/usr/local/lib/python3.7/dist-packages/torch/include/torch/csrc/api/include/torch/data.h:3\u001b[m\u001b[K,\n",
            "                 from \u001b[01m\u001b[K/usr/local/lib/python3.7/dist-packages/torch/include/torch/csrc/api/include/torch/all.h:8\u001b[m\u001b[K,\n",
            "                 from \u001b[01m\u001b[K/usr/local/lib/python3.7/dist-packages/torch/include/torch/extension.h:4\u001b[m\u001b[K,\n",
            "                 from \u001b[01m\u001b[K/tmp/TensorRT/tools/pytorch-quantization/src/tensor_quant.cpp:18\u001b[m\u001b[K:\n",
            "\u001b[01m\u001b[K/usr/local/lib/python3.7/dist-packages/torch/include/ATen/core/TensorBody.h:213:30:\u001b[m\u001b[K \u001b[01;36m\u001b[Knote: \u001b[m\u001b[Kdeclared here\n",
            "   DeprecatedTypeProperties & \u001b[01;36m\u001b[Ktype\u001b[m\u001b[K() const {\n",
            "                              \u001b[01;36m\u001b[K^~~~\u001b[m\u001b[K\n",
            "\u001b[01m\u001b[K/tmp/TensorRT/tools/pytorch-quantization/src/tensor_quant.cpp:\u001b[m\u001b[K In function ‘\u001b[01m\u001b[Kat::Tensor fake_tensor_quant_with_axis(at::Tensor, at::Tensor, int, int, bool)\u001b[m\u001b[K’:\n",
            "\u001b[01m\u001b[K/tmp/TensorRT/tools/pytorch-quantization/src/tensor_quant.cpp:62:19:\u001b[m\u001b[K \u001b[01;35m\u001b[Kwarning: \u001b[m\u001b[K‘\u001b[01m\u001b[Kat::DeprecatedTypeProperties& at::Tensor::type() const\u001b[m\u001b[K’ is deprecated: Tensor.type() is deprecated. Instead use Tensor.options(), which in many cases (e.g. in a constructor) is a drop-in replacement. If you were using data from type(), that is now available from Tensor itself, so instead of tensor.type().scalar_type(), use tensor.scalar_type() instead and instead of tensor.type().backend() use tensor.device(). [\u001b[01;35m\u001b[K-Wdeprecated-declarations\u001b[m\u001b[K]\n",
            "   if (inputs.type(\u001b[01;35m\u001b[K)\u001b[m\u001b[K.is_cuda()) {\n",
            "                   \u001b[01;35m\u001b[K^\u001b[m\u001b[K\n",
            "In file included from \u001b[01m\u001b[K/usr/local/lib/python3.7/dist-packages/torch/include/ATen/core/Tensor.h:3:0\u001b[m\u001b[K,\n",
            "                 from \u001b[01m\u001b[K/usr/local/lib/python3.7/dist-packages/torch/include/ATen/DeviceGuard.h:4\u001b[m\u001b[K,\n",
            "                 from \u001b[01m\u001b[K/usr/local/lib/python3.7/dist-packages/torch/include/ATen/ATen.h:11\u001b[m\u001b[K,\n",
            "                 from \u001b[01m\u001b[K/usr/local/lib/python3.7/dist-packages/torch/include/torch/csrc/api/include/torch/types.h:3\u001b[m\u001b[K,\n",
            "                 from \u001b[01m\u001b[K/usr/local/lib/python3.7/dist-packages/torch/include/torch/csrc/api/include/torch/data/dataloader_options.h:4\u001b[m\u001b[K,\n",
            "                 from \u001b[01m\u001b[K/usr/local/lib/python3.7/dist-packages/torch/include/torch/csrc/api/include/torch/data/dataloader/base.h:3\u001b[m\u001b[K,\n",
            "                 from \u001b[01m\u001b[K/usr/local/lib/python3.7/dist-packages/torch/include/torch/csrc/api/include/torch/data/dataloader/stateful.h:3\u001b[m\u001b[K,\n",
            "                 from \u001b[01m\u001b[K/usr/local/lib/python3.7/dist-packages/torch/include/torch/csrc/api/include/torch/data/dataloader.h:3\u001b[m\u001b[K,\n",
            "                 from \u001b[01m\u001b[K/usr/local/lib/python3.7/dist-packages/torch/include/torch/csrc/api/include/torch/data.h:3\u001b[m\u001b[K,\n",
            "                 from \u001b[01m\u001b[K/usr/local/lib/python3.7/dist-packages/torch/include/torch/csrc/api/include/torch/all.h:8\u001b[m\u001b[K,\n",
            "                 from \u001b[01m\u001b[K/usr/local/lib/python3.7/dist-packages/torch/include/torch/extension.h:4\u001b[m\u001b[K,\n",
            "                 from \u001b[01m\u001b[K/tmp/TensorRT/tools/pytorch-quantization/src/tensor_quant.cpp:18\u001b[m\u001b[K:\n",
            "\u001b[01m\u001b[K/usr/local/lib/python3.7/dist-packages/torch/include/ATen/core/TensorBody.h:213:30:\u001b[m\u001b[K \u001b[01;36m\u001b[Knote: \u001b[m\u001b[Kdeclared here\n",
            "   DeprecatedTypeProperties & \u001b[01;36m\u001b[Ktype\u001b[m\u001b[K() const {\n",
            "                              \u001b[01;36m\u001b[K^~~~\u001b[m\u001b[K\n",
            "/usr/local/cuda/bin/nvcc -I/usr/local/lib/python3.7/dist-packages/torch/include -I/usr/local/lib/python3.7/dist-packages/torch/include/torch/csrc/api/include -I/usr/local/lib/python3.7/dist-packages/torch/include/TH -I/usr/local/lib/python3.7/dist-packages/torch/include/THC -I/usr/local/cuda/include -I/usr/include/python3.7m -c /tmp/TensorRT/tools/pytorch-quantization/src/tensor_quant_gpu.cu -o build/temp.linux-x86_64-3.7/tmp/TensorRT/tools/pytorch-quantization/src/tensor_quant_gpu.o -D__CUDA_NO_HALF_OPERATORS__ -D__CUDA_NO_HALF_CONVERSIONS__ -D__CUDA_NO_BFLOAT16_CONVERSIONS__ -D__CUDA_NO_HALF2_OPERATORS__ --expt-relaxed-constexpr --compiler-options '-fPIC' -DTORCH_API_INCLUDE_EXTENSION_H -DPYBIND11_COMPILER_TYPE=\"_gcc\" -DPYBIND11_STDLIB=\"_libstdcpp\" -DPYBIND11_BUILD_ABI=\"_cxxabi1011\" -DTORCH_EXTENSION_NAME=cuda_ext -D_GLIBCXX_USE_CXX11_ABI=0 -gencode=arch=compute_75,code=compute_75 -gencode=arch=compute_75,code=sm_75 -std=c++14\n",
            "/usr/local/lib/python3.7/dist-packages/torch/include/c10/core/SymInt.h(84): warning: integer conversion resulted in a change of sign\n",
            "\n",
            "/usr/local/lib/python3.7/dist-packages/torch/include/c10/core/SymInt.h(84): warning: integer conversion resulted in a change of sign\n",
            "\n",
            "\u001b[01m\u001b[K/tmp/TensorRT/tools/pytorch-quantization/src/tensor_quant_gpu.cu:\u001b[m\u001b[K In lambda function:\n",
            "\u001b[01m\u001b[K/tmp/TensorRT/tools/pytorch-quantization/src/tensor_quant_gpu.cu:74:44:\u001b[m\u001b[K \u001b[01;35m\u001b[Kwarning: \u001b[m\u001b[K‘\u001b[01m\u001b[Kat::DeprecatedTypeProperties& at::Tensor::type() const\u001b[m\u001b[K’ is deprecated: Tensor.type() is deprecated. Instead use Tensor.options(), which in many cases (e.g. in a constructor) is a drop-in replacement. If you were using data from type(), that is now available from Tensor itself, so instead of tensor.type().scalar_type(), use tensor.scalar_type() instead and instead of tensor.type().backend() use tensor.device(). [\u001b[01;35m\u001b[K-Wdeprecated-declarations\u001b[m\u001b[K]\n",
            "   AT_DISPATCH_FLOATING_TYPES_AND_HALF(input\u001b[01;35m\u001b[Ks\u001b[m\u001b[K.type().scalarType(), \"fake_tensor_quant_cuda_inplace\", [&] {\n",
            "                                            \u001b[01;35m\u001b[K^\u001b[m\u001b[K\n",
            "\u001b[01m\u001b[K/usr/local/lib/python3.7/dist-packages/torch/include/ATen/core/TensorBody.h:213:1:\u001b[m\u001b[K \u001b[01;36m\u001b[Knote: \u001b[m\u001b[Kdeclared here\n",
            " \u001b[01;36m\u001b[K  De\u001b[m\u001b[KprecatedTypeProperties & type() const {\n",
            " \u001b[01;36m\u001b[K^\u001b[m\u001b[K \u001b[01;36m\u001b[K~~\u001b[m\u001b[K\n",
            "\u001b[01m\u001b[K/tmp/TensorRT/tools/pytorch-quantization/src/tensor_quant_gpu.cu:\u001b[m\u001b[K In lambda function:\n",
            "\u001b[01m\u001b[K/tmp/TensorRT/tools/pytorch-quantization/src/tensor_quant_gpu.cu:84:44:\u001b[m\u001b[K \u001b[01;35m\u001b[Kwarning: \u001b[m\u001b[K‘\u001b[01m\u001b[Kat::DeprecatedTypeProperties& at::Tensor::type() const\u001b[m\u001b[K’ is deprecated: Tensor.type() is deprecated. Instead use Tensor.options(), which in many cases (e.g. in a constructor) is a drop-in replacement. If you were using data from type(), that is now available from Tensor itself, so instead of tensor.type().scalar_type(), use tensor.scalar_type() instead and instead of tensor.type().backend() use tensor.device(). [\u001b[01;35m\u001b[K-Wdeprecated-declarations\u001b[m\u001b[K]\n",
            "   AT_DISPATCH_FLOATING_TYPES_AND_HALF(input\u001b[01;35m\u001b[Ks\u001b[m\u001b[K.type().scalarType(), \"fake_tensor_quant_cuda\", [&] {\n",
            "                                            \u001b[01;35m\u001b[K^\u001b[m\u001b[K\n",
            "\u001b[01m\u001b[K/usr/local/lib/python3.7/dist-packages/torch/include/ATen/core/TensorBody.h:213:1:\u001b[m\u001b[K \u001b[01;36m\u001b[Knote: \u001b[m\u001b[Kdeclared here\n",
            " \u001b[01;36m\u001b[K  De\u001b[m\u001b[KprecatedTypeProperties & type() const {\n",
            " \u001b[01;36m\u001b[K^\u001b[m\u001b[K \u001b[01;36m\u001b[K~~\u001b[m\u001b[K\n",
            "x86_64-linux-gnu-g++ -pthread -shared -Wl,-O1 -Wl,-Bsymbolic-functions -Wl,-Bsymbolic-functions -g -fwrapv -O2 -Wl,-Bsymbolic-functions -g -fwrapv -O2 -g -fstack-protector-strong -Wformat -Werror=format-security -Wdate-time -D_FORTIFY_SOURCE=2 build/temp.linux-x86_64-3.7/tmp/TensorRT/tools/pytorch-quantization/src/tensor_quant.o build/temp.linux-x86_64-3.7/tmp/TensorRT/tools/pytorch-quantization/src/tensor_quant_gpu.o -L/usr/local/lib/python3.7/dist-packages/torch/lib -L/usr/local/cuda/lib64 -lc10 -ltorch -ltorch_cpu -ltorch_python -lcudart -lc10_cuda -ltorch_cuda_cu -ltorch_cuda_cpp -o build/lib.linux-x86_64-3.7/pytorch_quantization/cuda_ext.cpython-37m-x86_64-linux-gnu.so\n",
            "creating build/bdist.linux-x86_64\n",
            "creating build/bdist.linux-x86_64/egg\n",
            "creating build/bdist.linux-x86_64/egg/pytorch_quantization\n",
            "creating build/bdist.linux-x86_64/egg/pytorch_quantization/utils\n",
            "copying build/lib.linux-x86_64-3.7/pytorch_quantization/utils/quant_logging.py -> build/bdist.linux-x86_64/egg/pytorch_quantization/utils\n",
            "copying build/lib.linux-x86_64-3.7/pytorch_quantization/utils/__init__.py -> build/bdist.linux-x86_64/egg/pytorch_quantization/utils\n",
            "copying build/lib.linux-x86_64-3.7/pytorch_quantization/utils/reduce_amax.py -> build/bdist.linux-x86_64/egg/pytorch_quantization/utils\n",
            "creating build/bdist.linux-x86_64/egg/pytorch_quantization/optim\n",
            "copying build/lib.linux-x86_64-3.7/pytorch_quantization/optim/helper.py -> build/bdist.linux-x86_64/egg/pytorch_quantization/optim\n",
            "copying build/lib.linux-x86_64-3.7/pytorch_quantization/optim/__init__.py -> build/bdist.linux-x86_64/egg/pytorch_quantization/optim\n",
            "copying build/lib.linux-x86_64-3.7/pytorch_quantization/version.py -> build/bdist.linux-x86_64/egg/pytorch_quantization\n",
            "creating build/bdist.linux-x86_64/egg/pytorch_quantization/nn\n",
            "creating build/bdist.linux-x86_64/egg/pytorch_quantization/nn/modules\n",
            "copying build/lib.linux-x86_64-3.7/pytorch_quantization/nn/modules/quant_conv.py -> build/bdist.linux-x86_64/egg/pytorch_quantization/nn/modules\n",
            "copying build/lib.linux-x86_64-3.7/pytorch_quantization/nn/modules/quant_bert.py -> build/bdist.linux-x86_64/egg/pytorch_quantization/nn/modules\n",
            "copying build/lib.linux-x86_64-3.7/pytorch_quantization/nn/modules/quant_rnn.py -> build/bdist.linux-x86_64/egg/pytorch_quantization/nn/modules\n",
            "copying build/lib.linux-x86_64-3.7/pytorch_quantization/nn/modules/quant_linear.py -> build/bdist.linux-x86_64/egg/pytorch_quantization/nn/modules\n",
            "copying build/lib.linux-x86_64-3.7/pytorch_quantization/nn/modules/_utils.py -> build/bdist.linux-x86_64/egg/pytorch_quantization/nn/modules\n",
            "copying build/lib.linux-x86_64-3.7/pytorch_quantization/nn/modules/quant_pooling.py -> build/bdist.linux-x86_64/egg/pytorch_quantization/nn/modules\n",
            "copying build/lib.linux-x86_64-3.7/pytorch_quantization/nn/modules/quant_instancenorm.py -> build/bdist.linux-x86_64/egg/pytorch_quantization/nn/modules\n",
            "copying build/lib.linux-x86_64-3.7/pytorch_quantization/nn/modules/__init__.py -> build/bdist.linux-x86_64/egg/pytorch_quantization/nn/modules\n",
            "copying build/lib.linux-x86_64-3.7/pytorch_quantization/nn/modules/tensor_quantizer.py -> build/bdist.linux-x86_64/egg/pytorch_quantization/nn/modules\n",
            "copying build/lib.linux-x86_64-3.7/pytorch_quantization/nn/modules/clip.py -> build/bdist.linux-x86_64/egg/pytorch_quantization/nn/modules\n",
            "copying build/lib.linux-x86_64-3.7/pytorch_quantization/nn/functional.py -> build/bdist.linux-x86_64/egg/pytorch_quantization/nn\n",
            "copying build/lib.linux-x86_64-3.7/pytorch_quantization/nn/__init__.py -> build/bdist.linux-x86_64/egg/pytorch_quantization/nn\n",
            "creating build/bdist.linux-x86_64/egg/pytorch_quantization/nn/_functions\n",
            "copying build/lib.linux-x86_64-3.7/pytorch_quantization/nn/_functions/quant_rnn.py -> build/bdist.linux-x86_64/egg/pytorch_quantization/nn/_functions\n",
            "copying build/lib.linux-x86_64-3.7/pytorch_quantization/nn/_functions/__init__.py -> build/bdist.linux-x86_64/egg/pytorch_quantization/nn/_functions\n",
            "copying build/lib.linux-x86_64-3.7/pytorch_quantization/cuda_ext.cpython-37m-x86_64-linux-gnu.so -> build/bdist.linux-x86_64/egg/pytorch_quantization\n",
            "creating build/bdist.linux-x86_64/egg/pytorch_quantization/calib\n",
            "copying build/lib.linux-x86_64-3.7/pytorch_quantization/calib/histogram.py -> build/bdist.linux-x86_64/egg/pytorch_quantization/calib\n",
            "copying build/lib.linux-x86_64-3.7/pytorch_quantization/calib/calibrator.py -> build/bdist.linux-x86_64/egg/pytorch_quantization/calib\n",
            "copying build/lib.linux-x86_64-3.7/pytorch_quantization/calib/max.py -> build/bdist.linux-x86_64/egg/pytorch_quantization/calib\n",
            "copying build/lib.linux-x86_64-3.7/pytorch_quantization/calib/__init__.py -> build/bdist.linux-x86_64/egg/pytorch_quantization/calib\n",
            "copying build/lib.linux-x86_64-3.7/pytorch_quantization/quant_modules.py -> build/bdist.linux-x86_64/egg/pytorch_quantization\n",
            "copying build/lib.linux-x86_64-3.7/pytorch_quantization/tensor_quant.py -> build/bdist.linux-x86_64/egg/pytorch_quantization\n",
            "copying build/lib.linux-x86_64-3.7/pytorch_quantization/__init__.py -> build/bdist.linux-x86_64/egg/pytorch_quantization\n",
            "byte-compiling build/bdist.linux-x86_64/egg/pytorch_quantization/utils/quant_logging.py to quant_logging.cpython-37.pyc\n",
            "byte-compiling build/bdist.linux-x86_64/egg/pytorch_quantization/utils/__init__.py to __init__.cpython-37.pyc\n",
            "byte-compiling build/bdist.linux-x86_64/egg/pytorch_quantization/utils/reduce_amax.py to reduce_amax.cpython-37.pyc\n",
            "byte-compiling build/bdist.linux-x86_64/egg/pytorch_quantization/optim/helper.py to helper.cpython-37.pyc\n",
            "byte-compiling build/bdist.linux-x86_64/egg/pytorch_quantization/optim/__init__.py to __init__.cpython-37.pyc\n",
            "byte-compiling build/bdist.linux-x86_64/egg/pytorch_quantization/version.py to version.cpython-37.pyc\n",
            "byte-compiling build/bdist.linux-x86_64/egg/pytorch_quantization/nn/modules/quant_conv.py to quant_conv.cpython-37.pyc\n",
            "byte-compiling build/bdist.linux-x86_64/egg/pytorch_quantization/nn/modules/quant_bert.py to quant_bert.cpython-37.pyc\n",
            "byte-compiling build/bdist.linux-x86_64/egg/pytorch_quantization/nn/modules/quant_rnn.py to quant_rnn.cpython-37.pyc\n",
            "byte-compiling build/bdist.linux-x86_64/egg/pytorch_quantization/nn/modules/quant_linear.py to quant_linear.cpython-37.pyc\n",
            "byte-compiling build/bdist.linux-x86_64/egg/pytorch_quantization/nn/modules/_utils.py to _utils.cpython-37.pyc\n",
            "byte-compiling build/bdist.linux-x86_64/egg/pytorch_quantization/nn/modules/quant_pooling.py to quant_pooling.cpython-37.pyc\n",
            "byte-compiling build/bdist.linux-x86_64/egg/pytorch_quantization/nn/modules/quant_instancenorm.py to quant_instancenorm.cpython-37.pyc\n",
            "byte-compiling build/bdist.linux-x86_64/egg/pytorch_quantization/nn/modules/__init__.py to __init__.cpython-37.pyc\n",
            "byte-compiling build/bdist.linux-x86_64/egg/pytorch_quantization/nn/modules/tensor_quantizer.py to tensor_quantizer.cpython-37.pyc\n",
            "byte-compiling build/bdist.linux-x86_64/egg/pytorch_quantization/nn/modules/clip.py to clip.cpython-37.pyc\n",
            "byte-compiling build/bdist.linux-x86_64/egg/pytorch_quantization/nn/functional.py to functional.cpython-37.pyc\n",
            "byte-compiling build/bdist.linux-x86_64/egg/pytorch_quantization/nn/__init__.py to __init__.cpython-37.pyc\n",
            "byte-compiling build/bdist.linux-x86_64/egg/pytorch_quantization/nn/_functions/quant_rnn.py to quant_rnn.cpython-37.pyc\n",
            "byte-compiling build/bdist.linux-x86_64/egg/pytorch_quantization/nn/_functions/__init__.py to __init__.cpython-37.pyc\n",
            "byte-compiling build/bdist.linux-x86_64/egg/pytorch_quantization/calib/histogram.py to histogram.cpython-37.pyc\n",
            "byte-compiling build/bdist.linux-x86_64/egg/pytorch_quantization/calib/calibrator.py to calibrator.cpython-37.pyc\n",
            "byte-compiling build/bdist.linux-x86_64/egg/pytorch_quantization/calib/max.py to max.cpython-37.pyc\n",
            "byte-compiling build/bdist.linux-x86_64/egg/pytorch_quantization/calib/__init__.py to __init__.cpython-37.pyc\n",
            "byte-compiling build/bdist.linux-x86_64/egg/pytorch_quantization/quant_modules.py to quant_modules.cpython-37.pyc\n",
            "byte-compiling build/bdist.linux-x86_64/egg/pytorch_quantization/tensor_quant.py to tensor_quant.cpython-37.pyc\n",
            "byte-compiling build/bdist.linux-x86_64/egg/pytorch_quantization/__init__.py to __init__.cpython-37.pyc\n",
            "creating stub loader for pytorch_quantization/cuda_ext.cpython-37m-x86_64-linux-gnu.so\n",
            "byte-compiling build/bdist.linux-x86_64/egg/pytorch_quantization/cuda_ext.py to cuda_ext.cpython-37.pyc\n",
            "creating build/bdist.linux-x86_64/egg/EGG-INFO\n",
            "copying pytorch_quantization.egg-info/PKG-INFO -> build/bdist.linux-x86_64/egg/EGG-INFO\n",
            "copying pytorch_quantization.egg-info/SOURCES.txt -> build/bdist.linux-x86_64/egg/EGG-INFO\n",
            "copying pytorch_quantization.egg-info/dependency_links.txt -> build/bdist.linux-x86_64/egg/EGG-INFO\n",
            "copying pytorch_quantization.egg-info/not-zip-safe -> build/bdist.linux-x86_64/egg/EGG-INFO\n",
            "copying pytorch_quantization.egg-info/requires.txt -> build/bdist.linux-x86_64/egg/EGG-INFO\n",
            "copying pytorch_quantization.egg-info/top_level.txt -> build/bdist.linux-x86_64/egg/EGG-INFO\n",
            "writing build/bdist.linux-x86_64/egg/EGG-INFO/native_libs.txt\n",
            "creating dist\n",
            "creating 'dist/pytorch_quantization-2.1.0-py3.7-linux-x86_64.egg' and adding 'build/bdist.linux-x86_64/egg' to it\n",
            "removing 'build/bdist.linux-x86_64/egg' (and everything under it)\n",
            "Processing pytorch_quantization-2.1.0-py3.7-linux-x86_64.egg\n",
            "creating /usr/local/lib/python3.7/dist-packages/pytorch_quantization-2.1.0-py3.7-linux-x86_64.egg\n",
            "Extracting pytorch_quantization-2.1.0-py3.7-linux-x86_64.egg to /usr/local/lib/python3.7/dist-packages\n",
            "Adding pytorch-quantization 2.1.0 to easy-install.pth file\n",
            "\n",
            "Installed /usr/local/lib/python3.7/dist-packages/pytorch_quantization-2.1.0-py3.7-linux-x86_64.egg\n",
            "Processing dependencies for pytorch-quantization==2.1.0\n",
            "Searching for sphinx_glpi_theme\n",
            "Reading https://pypi.org/simple/sphinx_glpi_theme/\n",
            "Downloading https://files.pythonhosted.org/packages/42/cf/5c5cd0436a9ba90afd25507980a18eec50f208972b7099a4e51df52f3436/sphinx_glpi_theme-0.3-py2.py3-none-any.whl#sha256=5acf9a8bd942e8478d987c6da5caccc1e9459d7cbaafbf95eca4f2178b1de29c\n",
            "Best match: sphinx-glpi-theme 0.3\n",
            "Processing sphinx_glpi_theme-0.3-py2.py3-none-any.whl\n",
            "Installing sphinx_glpi_theme-0.3-py2.py3-none-any.whl to /usr/local/lib/python3.7/dist-packages\n",
            "Adding sphinx-glpi-theme 0.3 to easy-install.pth file\n",
            "\n",
            "Installed /usr/local/lib/python3.7/dist-packages/sphinx_glpi_theme-0.3-py3.7.egg\n",
            "Searching for PyYAML==6.0\n",
            "Best match: PyYAML 6.0\n",
            "Adding PyYAML 6.0 to easy-install.pth file\n",
            "\n",
            "Using /usr/local/lib/python3.7/dist-packages\n",
            "Searching for prettytable==3.4.1\n",
            "Best match: prettytable 3.4.1\n",
            "Adding prettytable 3.4.1 to easy-install.pth file\n",
            "\n",
            "Using /usr/local/lib/python3.7/dist-packages\n",
            "Searching for scipy==1.7.3\n",
            "Best match: scipy 1.7.3\n",
            "Adding scipy 1.7.3 to easy-install.pth file\n",
            "\n",
            "Using /usr/local/lib/python3.7/dist-packages\n",
            "Searching for absl-py==1.3.0\n",
            "Best match: absl-py 1.3.0\n",
            "Adding absl-py 1.3.0 to easy-install.pth file\n",
            "\n",
            "Using /usr/local/lib/python3.7/dist-packages\n",
            "Searching for numpy==1.21.6\n",
            "Best match: numpy 1.21.6\n",
            "Adding numpy 1.21.6 to easy-install.pth file\n",
            "Installing f2py script to /usr/local/bin\n",
            "Installing f2py3 script to /usr/local/bin\n",
            "Installing f2py3.7 script to /usr/local/bin\n",
            "\n",
            "Using /usr/local/lib/python3.7/dist-packages\n",
            "Searching for wcwidth==0.2.5\n",
            "Best match: wcwidth 0.2.5\n",
            "Adding wcwidth 0.2.5 to easy-install.pth file\n",
            "\n",
            "Using /usr/local/lib/python3.7/dist-packages\n",
            "Searching for importlib-metadata==4.13.0\n",
            "Best match: importlib-metadata 4.13.0\n",
            "Adding importlib-metadata 4.13.0 to easy-install.pth file\n",
            "\n",
            "Using /usr/local/lib/python3.7/dist-packages\n",
            "Searching for zipp==3.10.0\n",
            "Best match: zipp 3.10.0\n",
            "Adding zipp 3.10.0 to easy-install.pth file\n",
            "\n",
            "Using /usr/local/lib/python3.7/dist-packages\n",
            "Searching for typing-extensions==4.1.1\n",
            "Best match: typing-extensions 4.1.1\n",
            "Adding typing-extensions 4.1.1 to easy-install.pth file\n",
            "\n",
            "Using /usr/local/lib/python3.7/dist-packages\n",
            "Finished processing dependencies for pytorch-quantization==2.1.0\n",
            "/content/ActionAI/torch2trt/scripts\n",
            "/content/ActionAI/torch2trt /content/ActionAI/torch2trt/scripts\n",
            "running install\n",
            "running bdist_egg\n",
            "running egg_info\n",
            "writing torch2trt.egg-info/PKG-INFO\n",
            "writing dependency_links to torch2trt.egg-info/dependency_links.txt\n",
            "writing top-level names to torch2trt.egg-info/top_level.txt\n",
            "/usr/local/lib/python3.7/dist-packages/torch/utils/cpp_extension.py:411: UserWarning: Attempted to use ninja as the BuildExtension backend but we could not find ninja.. Falling back to using the slow distutils backend.\n",
            "  warnings.warn(msg.format('we could not find ninja.'))\n",
            "adding license file 'LICENSE.md'\n",
            "writing manifest file 'torch2trt.egg-info/SOURCES.txt'\n",
            "installing library code to build/bdist.linux-x86_64/egg\n",
            "running install_lib\n",
            "running build_py\n",
            "running build_ext\n",
            "building 'plugins' extension\n",
            "x86_64-linux-gnu-gcc -pthread -Wno-unused-result -Wsign-compare -DNDEBUG -g -fwrapv -O2 -Wall -g -fstack-protector-strong -Wformat -Werror=format-security -g -fwrapv -O2 -g -fstack-protector-strong -Wformat -Werror=format-security -Wdate-time -D_FORTIFY_SOURCE=2 -fPIC -I/usr/include/aarch64-linux-gnu -I/usr/local/lib/python3.7/dist-packages/torch/include -I/usr/local/lib/python3.7/dist-packages/torch/include/torch/csrc/api/include -I/usr/local/lib/python3.7/dist-packages/torch/include/TH -I/usr/local/lib/python3.7/dist-packages/torch/include/THC -I/usr/local/cuda/include -I/usr/include/python3.7m -c torch2trt/plugins/plugins.cpp -o build/temp.linux-x86_64-3.7/torch2trt/plugins/plugins.o -DTORCH_API_INCLUDE_EXTENSION_H -DPYBIND11_COMPILER_TYPE=\"_gcc\" -DPYBIND11_STDLIB=\"_libstdcpp\" -DPYBIND11_BUILD_ABI=\"_cxxabi1011\" -DTORCH_EXTENSION_NAME=plugins -D_GLIBCXX_USE_CXX11_ABI=0 -std=c++14\n",
            "In file included from \u001b[01m\u001b[Ktorch2trt/plugins/plugins.cpp:2:0\u001b[m\u001b[K:\n",
            "\u001b[01m\u001b[Ktorch2trt/plugins/interpolate.cpp:6:10:\u001b[m\u001b[K \u001b[01;31m\u001b[Kfatal error: \u001b[m\u001b[KNvInfer.h: No such file or directory\n",
            " #include \u001b[01;31m\u001b[K<NvInfer.h>\u001b[m\u001b[K\n",
            "          \u001b[01;31m\u001b[K^~~~~~~~~~~\u001b[m\u001b[K\n",
            "compilation terminated.\n",
            "error: command 'x86_64-linux-gnu-gcc' failed with exit status 1\n",
            "/content/ActionAI/torch2trt/scripts\n"
          ]
        }
      ]
    },
    {
      "cell_type": "code",
      "source": [
        "%cd .."
      ],
      "metadata": {
        "colab": {
          "base_uri": "https://localhost:8080/"
        },
        "id": "-OFTJ-7UZaom",
        "outputId": "5bd03d31-9ac0-4b03-a6a7-3b9b58025aa9"
      },
      "execution_count": null,
      "outputs": [
        {
          "output_type": "stream",
          "name": "stdout",
          "text": [
            "/content/ActionAI/torch2trt\n"
          ]
        }
      ]
    },
    {
      "cell_type": "code",
      "source": [
        "!git clone https://github.com/NVIDIA-AI-IOT/trt_pose"
      ],
      "metadata": {
        "colab": {
          "base_uri": "https://localhost:8080/"
        },
        "id": "jHx1HF3fW4cu",
        "outputId": "2f375645-88c5-4dc1-915f-cf46ad1c0566"
      },
      "execution_count": null,
      "outputs": [
        {
          "output_type": "stream",
          "name": "stdout",
          "text": [
            "Cloning into 'trt_pose'...\n",
            "remote: Enumerating objects: 1521, done.\u001b[K\n",
            "remote: Total 1521 (delta 0), reused 0 (delta 0), pack-reused 1521\u001b[K\n",
            "Receiving objects: 100% (1521/1521), 2.02 MiB | 4.11 MiB/s, done.\n",
            "Resolving deltas: 100% (847/847), done.\n"
          ]
        }
      ]
    },
    {
      "cell_type": "code",
      "source": [
        "%cd trt_pose"
      ],
      "metadata": {
        "colab": {
          "base_uri": "https://localhost:8080/"
        },
        "id": "z13bNNAAW6FI",
        "outputId": "9b614e2a-22ce-4608-b0e4-07277d768bbd"
      },
      "execution_count": null,
      "outputs": [
        {
          "output_type": "stream",
          "name": "stdout",
          "text": [
            "/content/ActionAI/torch2trt/trt_pose\n"
          ]
        }
      ]
    },
    {
      "cell_type": "code",
      "source": [
        "! sudo python3 setup.py install"
      ],
      "metadata": {
        "colab": {
          "base_uri": "https://localhost:8080/"
        },
        "id": "xdvmOdk3W7kQ",
        "outputId": "226e7008-a20f-4da7-d32b-82a69da2e5f5"
      },
      "execution_count": null,
      "outputs": [
        {
          "output_type": "stream",
          "name": "stdout",
          "text": [
            "/usr/local/lib/python3.7/dist-packages/torch/cuda/__init__.py:83: UserWarning: CUDA initialization: Unexpected error from cudaGetDeviceCount(). Did you run some cuda functions before calling NumCudaDevices() that might have already set an error? Error 803: system has unsupported display driver / cuda driver combination (Triggered internally at  ../c10/cuda/CUDAFunctions.cpp:109.)\n",
            "  return torch._C._cuda_getDeviceCount() > 0\n",
            "No CUDA runtime is found, using CUDA_HOME='/usr/local/cuda'\n",
            "running install\n",
            "running bdist_egg\n",
            "running egg_info\n",
            "creating trt_pose.egg-info\n",
            "writing trt_pose.egg-info/PKG-INFO\n",
            "writing dependency_links to trt_pose.egg-info/dependency_links.txt\n",
            "writing top-level names to trt_pose.egg-info/top_level.txt\n",
            "writing manifest file 'trt_pose.egg-info/SOURCES.txt'\n",
            "/usr/local/lib/python3.7/dist-packages/torch/utils/cpp_extension.py:411: UserWarning: Attempted to use ninja as the BuildExtension backend but we could not find ninja.. Falling back to using the slow distutils backend.\n",
            "  warnings.warn(msg.format('we could not find ninja.'))\n",
            "adding license file 'LICENSE.md'\n",
            "writing manifest file 'trt_pose.egg-info/SOURCES.txt'\n",
            "installing library code to build/bdist.linux-x86_64/egg\n",
            "running install_lib\n",
            "running build_py\n",
            "creating build\n",
            "creating build/lib.linux-x86_64-3.7\n",
            "creating build/lib.linux-x86_64-3.7/trt_pose\n",
            "copying trt_pose/draw_objects.py -> build/lib.linux-x86_64-3.7/trt_pose\n",
            "copying trt_pose/train.py -> build/lib.linux-x86_64-3.7/trt_pose\n",
            "copying trt_pose/coco.py -> build/lib.linux-x86_64-3.7/trt_pose\n",
            "copying trt_pose/__init__.py -> build/lib.linux-x86_64-3.7/trt_pose\n",
            "copying trt_pose/parse_objects.py -> build/lib.linux-x86_64-3.7/trt_pose\n",
            "creating build/lib.linux-x86_64-3.7/trt_pose/utils\n",
            "copying trt_pose/utils/export_for_isaac.py -> build/lib.linux-x86_64-3.7/trt_pose/utils\n",
            "copying trt_pose/utils/__init__.py -> build/lib.linux-x86_64-3.7/trt_pose/utils\n",
            "creating build/lib.linux-x86_64-3.7/trt_pose/models\n",
            "copying trt_pose/models/dla.py -> build/lib.linux-x86_64-3.7/trt_pose/models\n",
            "copying trt_pose/models/resnet.py -> build/lib.linux-x86_64-3.7/trt_pose/models\n",
            "copying trt_pose/models/densenet.py -> build/lib.linux-x86_64-3.7/trt_pose/models\n",
            "copying trt_pose/models/common.py -> build/lib.linux-x86_64-3.7/trt_pose/models\n",
            "copying trt_pose/models/mnasnet.py -> build/lib.linux-x86_64-3.7/trt_pose/models\n",
            "copying trt_pose/models/__init__.py -> build/lib.linux-x86_64-3.7/trt_pose/models\n",
            "running build_ext\n",
            "building 'plugins' extension\n",
            "creating build/temp.linux-x86_64-3.7\n",
            "creating build/temp.linux-x86_64-3.7/trt_pose\n",
            "creating build/temp.linux-x86_64-3.7/trt_pose/parse\n",
            "creating build/temp.linux-x86_64-3.7/trt_pose/train\n",
            "x86_64-linux-gnu-gcc -pthread -Wno-unused-result -Wsign-compare -DNDEBUG -g -fwrapv -O2 -Wall -g -fstack-protector-strong -Wformat -Werror=format-security -g -fwrapv -O2 -g -fstack-protector-strong -Wformat -Werror=format-security -Wdate-time -D_FORTIFY_SOURCE=2 -fPIC -I/usr/local/lib/python3.7/dist-packages/torch/include -I/usr/local/lib/python3.7/dist-packages/torch/include/torch/csrc/api/include -I/usr/local/lib/python3.7/dist-packages/torch/include/TH -I/usr/local/lib/python3.7/dist-packages/torch/include/THC -I/usr/include/python3.7m -c trt_pose/parse/find_peaks.cpp -o build/temp.linux-x86_64-3.7/trt_pose/parse/find_peaks.o -DTORCH_API_INCLUDE_EXTENSION_H -DPYBIND11_COMPILER_TYPE=\"_gcc\" -DPYBIND11_STDLIB=\"_libstdcpp\" -DPYBIND11_BUILD_ABI=\"_cxxabi1011\" -DTORCH_EXTENSION_NAME=plugins -D_GLIBCXX_USE_CXX11_ABI=0 -std=c++14\n",
            "x86_64-linux-gnu-gcc -pthread -Wno-unused-result -Wsign-compare -DNDEBUG -g -fwrapv -O2 -Wall -g -fstack-protector-strong -Wformat -Werror=format-security -g -fwrapv -O2 -g -fstack-protector-strong -Wformat -Werror=format-security -Wdate-time -D_FORTIFY_SOURCE=2 -fPIC -I/usr/local/lib/python3.7/dist-packages/torch/include -I/usr/local/lib/python3.7/dist-packages/torch/include/torch/csrc/api/include -I/usr/local/lib/python3.7/dist-packages/torch/include/TH -I/usr/local/lib/python3.7/dist-packages/torch/include/THC -I/usr/include/python3.7m -c trt_pose/parse/paf_score_graph.cpp -o build/temp.linux-x86_64-3.7/trt_pose/parse/paf_score_graph.o -DTORCH_API_INCLUDE_EXTENSION_H -DPYBIND11_COMPILER_TYPE=\"_gcc\" -DPYBIND11_STDLIB=\"_libstdcpp\" -DPYBIND11_BUILD_ABI=\"_cxxabi1011\" -DTORCH_EXTENSION_NAME=plugins -D_GLIBCXX_USE_CXX11_ABI=0 -std=c++14\n",
            "\u001b[01m\u001b[Ktrt_pose/parse/paf_score_graph.cpp:\u001b[m\u001b[K In function ‘\u001b[01m\u001b[Kvoid trt_pose::parse::paf_score_graph_out_hw(float*, const float*, const float*, int, int, const float*, const float*, int, int, int, int)\u001b[m\u001b[K’:\n",
            "\u001b[01m\u001b[Ktrt_pose/parse/paf_score_graph.cpp:37:13:\u001b[m\u001b[K \u001b[01;35m\u001b[Kwarning: \u001b[m\u001b[Kunused variable ‘\u001b[01m\u001b[Kincrement\u001b[m\u001b[K’ [\u001b[01;35m\u001b[K-Wunused-variable\u001b[m\u001b[K]\n",
            "       float \u001b[01;35m\u001b[Kincrement\u001b[m\u001b[K = 1.f / num_integral_samples;\n",
            "             \u001b[01;35m\u001b[K^~~~~~~~~\u001b[m\u001b[K\n",
            "x86_64-linux-gnu-gcc -pthread -Wno-unused-result -Wsign-compare -DNDEBUG -g -fwrapv -O2 -Wall -g -fstack-protector-strong -Wformat -Werror=format-security -g -fwrapv -O2 -g -fstack-protector-strong -Wformat -Werror=format-security -Wdate-time -D_FORTIFY_SOURCE=2 -fPIC -I/usr/local/lib/python3.7/dist-packages/torch/include -I/usr/local/lib/python3.7/dist-packages/torch/include/torch/csrc/api/include -I/usr/local/lib/python3.7/dist-packages/torch/include/TH -I/usr/local/lib/python3.7/dist-packages/torch/include/THC -I/usr/include/python3.7m -c trt_pose/parse/refine_peaks.cpp -o build/temp.linux-x86_64-3.7/trt_pose/parse/refine_peaks.o -DTORCH_API_INCLUDE_EXTENSION_H -DPYBIND11_COMPILER_TYPE=\"_gcc\" -DPYBIND11_STDLIB=\"_libstdcpp\" -DPYBIND11_BUILD_ABI=\"_cxxabi1011\" -DTORCH_EXTENSION_NAME=plugins -D_GLIBCXX_USE_CXX11_ABI=0 -std=c++14\n",
            "x86_64-linux-gnu-gcc -pthread -Wno-unused-result -Wsign-compare -DNDEBUG -g -fwrapv -O2 -Wall -g -fstack-protector-strong -Wformat -Werror=format-security -g -fwrapv -O2 -g -fstack-protector-strong -Wformat -Werror=format-security -Wdate-time -D_FORTIFY_SOURCE=2 -fPIC -I/usr/local/lib/python3.7/dist-packages/torch/include -I/usr/local/lib/python3.7/dist-packages/torch/include/torch/csrc/api/include -I/usr/local/lib/python3.7/dist-packages/torch/include/TH -I/usr/local/lib/python3.7/dist-packages/torch/include/THC -I/usr/include/python3.7m -c trt_pose/parse/munkres.cpp -o build/temp.linux-x86_64-3.7/trt_pose/parse/munkres.o -DTORCH_API_INCLUDE_EXTENSION_H -DPYBIND11_COMPILER_TYPE=\"_gcc\" -DPYBIND11_STDLIB=\"_libstdcpp\" -DPYBIND11_BUILD_ABI=\"_cxxabi1011\" -DTORCH_EXTENSION_NAME=plugins -D_GLIBCXX_USE_CXX11_ABI=0 -std=c++14\n",
            "\u001b[01m\u001b[Ktrt_pose/parse/munkres.cpp:\u001b[m\u001b[K In function ‘\u001b[01m\u001b[Kvoid trt_pose::parse::munkresStep5(float*, int, const trt_pose::parse::utils::CoverTable&, int, int)\u001b[m\u001b[K’:\n",
            "\u001b[01m\u001b[Ktrt_pose/parse/munkres.cpp:135:31:\u001b[m\u001b[K \u001b[01;35m\u001b[Kwarning: \u001b[m\u001b[K‘\u001b[01m\u001b[Kmin\u001b[m\u001b[K’ may be used uninitialized in this function [\u001b[01;35m\u001b[K-Wmaybe-uninitialized\u001b[m\u001b[K]\n",
            "         \u001b[01;35m\u001b[Kcost_graph[i * M + j] += min\u001b[m\u001b[K;\n",
            "         \u001b[01;35m\u001b[K~~~~~~~~~~~~~~~~~~~~~~^~~~~~\u001b[m\u001b[K\n",
            "x86_64-linux-gnu-gcc -pthread -Wno-unused-result -Wsign-compare -DNDEBUG -g -fwrapv -O2 -Wall -g -fstack-protector-strong -Wformat -Werror=format-security -g -fwrapv -O2 -g -fstack-protector-strong -Wformat -Werror=format-security -Wdate-time -D_FORTIFY_SOURCE=2 -fPIC -I/usr/local/lib/python3.7/dist-packages/torch/include -I/usr/local/lib/python3.7/dist-packages/torch/include/torch/csrc/api/include -I/usr/local/lib/python3.7/dist-packages/torch/include/TH -I/usr/local/lib/python3.7/dist-packages/torch/include/THC -I/usr/include/python3.7m -c trt_pose/parse/connect_parts.cpp -o build/temp.linux-x86_64-3.7/trt_pose/parse/connect_parts.o -DTORCH_API_INCLUDE_EXTENSION_H -DPYBIND11_COMPILER_TYPE=\"_gcc\" -DPYBIND11_STDLIB=\"_libstdcpp\" -DPYBIND11_BUILD_ABI=\"_cxxabi1011\" -DTORCH_EXTENSION_NAME=plugins -D_GLIBCXX_USE_CXX11_ABI=0 -std=c++14\n",
            "x86_64-linux-gnu-gcc -pthread -Wno-unused-result -Wsign-compare -DNDEBUG -g -fwrapv -O2 -Wall -g -fstack-protector-strong -Wformat -Werror=format-security -g -fwrapv -O2 -g -fstack-protector-strong -Wformat -Werror=format-security -Wdate-time -D_FORTIFY_SOURCE=2 -fPIC -I/usr/local/lib/python3.7/dist-packages/torch/include -I/usr/local/lib/python3.7/dist-packages/torch/include/torch/csrc/api/include -I/usr/local/lib/python3.7/dist-packages/torch/include/TH -I/usr/local/lib/python3.7/dist-packages/torch/include/THC -I/usr/include/python3.7m -c trt_pose/plugins.cpp -o build/temp.linux-x86_64-3.7/trt_pose/plugins.o -DTORCH_API_INCLUDE_EXTENSION_H -DPYBIND11_COMPILER_TYPE=\"_gcc\" -DPYBIND11_STDLIB=\"_libstdcpp\" -DPYBIND11_BUILD_ABI=\"_cxxabi1011\" -DTORCH_EXTENSION_NAME=plugins -D_GLIBCXX_USE_CXX11_ABI=0 -std=c++14\n",
            "\u001b[01m\u001b[Ktrt_pose/plugins.cpp:\u001b[m\u001b[K In function ‘\u001b[01m\u001b[Kstd::vector<at::Tensor> find_peaks_torch(at::Tensor, float, int, int)\u001b[m\u001b[K’:\n",
            "\u001b[01m\u001b[Ktrt_pose/plugins.cpp:45:13:\u001b[m\u001b[K \u001b[01;35m\u001b[Kwarning: \u001b[m\u001b[Kunused variable ‘\u001b[01m\u001b[KH\u001b[m\u001b[K’ [\u001b[01;35m\u001b[K-Wunused-variable\u001b[m\u001b[K]\n",
            "   const int \u001b[01;35m\u001b[KH\u001b[m\u001b[K = input.size(2);\n",
            "             \u001b[01;35m\u001b[K^\u001b[m\u001b[K\n",
            "\u001b[01m\u001b[Ktrt_pose/plugins.cpp:46:13:\u001b[m\u001b[K \u001b[01;35m\u001b[Kwarning: \u001b[m\u001b[Kunused variable ‘\u001b[01m\u001b[KW\u001b[m\u001b[K’ [\u001b[01;35m\u001b[K-Wunused-variable\u001b[m\u001b[K]\n",
            "   const int \u001b[01;35m\u001b[KW\u001b[m\u001b[K = input.size(3);\n",
            "             \u001b[01;35m\u001b[K^\u001b[m\u001b[K\n",
            "\u001b[01m\u001b[Ktrt_pose/plugins.cpp:\u001b[m\u001b[K In function ‘\u001b[01m\u001b[Kstd::vector<at::Tensor> connect_parts_torch(at::Tensor, at::Tensor, at::Tensor, int)\u001b[m\u001b[K’:\n",
            "\u001b[01m\u001b[Ktrt_pose/plugins.cpp:186:9:\u001b[m\u001b[K \u001b[01;35m\u001b[Kwarning: \u001b[m\u001b[Kunused variable ‘\u001b[01m\u001b[KK\u001b[m\u001b[K’ [\u001b[01;35m\u001b[K-Wunused-variable\u001b[m\u001b[K]\n",
            "     int \u001b[01;35m\u001b[KK\u001b[m\u001b[K = topology.size(0);\n",
            "         \u001b[01;35m\u001b[K^\u001b[m\u001b[K\n",
            "\u001b[01m\u001b[Ktrt_pose/plugins.cpp:188:9:\u001b[m\u001b[K \u001b[01;35m\u001b[Kwarning: \u001b[m\u001b[Kunused variable ‘\u001b[01m\u001b[KM\u001b[m\u001b[K’ [\u001b[01;35m\u001b[K-Wunused-variable\u001b[m\u001b[K]\n",
            "     int \u001b[01;35m\u001b[KM\u001b[m\u001b[K = connections.size(3);\n",
            "         \u001b[01;35m\u001b[K^\u001b[m\u001b[K\n",
            "x86_64-linux-gnu-gcc -pthread -Wno-unused-result -Wsign-compare -DNDEBUG -g -fwrapv -O2 -Wall -g -fstack-protector-strong -Wformat -Werror=format-security -g -fwrapv -O2 -g -fstack-protector-strong -Wformat -Werror=format-security -Wdate-time -D_FORTIFY_SOURCE=2 -fPIC -I/usr/local/lib/python3.7/dist-packages/torch/include -I/usr/local/lib/python3.7/dist-packages/torch/include/torch/csrc/api/include -I/usr/local/lib/python3.7/dist-packages/torch/include/TH -I/usr/local/lib/python3.7/dist-packages/torch/include/THC -I/usr/include/python3.7m -c trt_pose/train/generate_cmap.cpp -o build/temp.linux-x86_64-3.7/trt_pose/train/generate_cmap.o -DTORCH_API_INCLUDE_EXTENSION_H -DPYBIND11_COMPILER_TYPE=\"_gcc\" -DPYBIND11_STDLIB=\"_libstdcpp\" -DPYBIND11_BUILD_ABI=\"_cxxabi1011\" -DTORCH_EXTENSION_NAME=plugins -D_GLIBCXX_USE_CXX11_ABI=0 -std=c++14\n",
            "\u001b[01m\u001b[Ktrt_pose/train/generate_cmap.cpp:\u001b[m\u001b[K In function ‘\u001b[01m\u001b[Kat::Tensor trt_pose::train::generate_cmap(at::Tensor, at::Tensor, int, int, float, int)\u001b[m\u001b[K’:\n",
            "\u001b[01m\u001b[Ktrt_pose/train/generate_cmap.cpp:16:9:\u001b[m\u001b[K \u001b[01;35m\u001b[Kwarning: \u001b[m\u001b[Kunused variable ‘\u001b[01m\u001b[KM\u001b[m\u001b[K’ [\u001b[01;35m\u001b[K-Wunused-variable\u001b[m\u001b[K]\n",
            "     int \u001b[01;35m\u001b[KM\u001b[m\u001b[K = peaks.size(2);\n",
            "         \u001b[01;35m\u001b[K^\u001b[m\u001b[K\n",
            "x86_64-linux-gnu-gcc -pthread -Wno-unused-result -Wsign-compare -DNDEBUG -g -fwrapv -O2 -Wall -g -fstack-protector-strong -Wformat -Werror=format-security -g -fwrapv -O2 -g -fstack-protector-strong -Wformat -Werror=format-security -Wdate-time -D_FORTIFY_SOURCE=2 -fPIC -I/usr/local/lib/python3.7/dist-packages/torch/include -I/usr/local/lib/python3.7/dist-packages/torch/include/torch/csrc/api/include -I/usr/local/lib/python3.7/dist-packages/torch/include/TH -I/usr/local/lib/python3.7/dist-packages/torch/include/THC -I/usr/include/python3.7m -c trt_pose/train/generate_paf.cpp -o build/temp.linux-x86_64-3.7/trt_pose/train/generate_paf.o -DTORCH_API_INCLUDE_EXTENSION_H -DPYBIND11_COMPILER_TYPE=\"_gcc\" -DPYBIND11_STDLIB=\"_libstdcpp\" -DPYBIND11_BUILD_ABI=\"_cxxabi1011\" -DTORCH_EXTENSION_NAME=plugins -D_GLIBCXX_USE_CXX11_ABI=0 -std=c++14\n",
            "x86_64-linux-gnu-g++ -pthread -shared -Wl,-O1 -Wl,-Bsymbolic-functions -Wl,-Bsymbolic-functions -g -fwrapv -O2 -Wl,-Bsymbolic-functions -g -fwrapv -O2 -g -fstack-protector-strong -Wformat -Werror=format-security -Wdate-time -D_FORTIFY_SOURCE=2 build/temp.linux-x86_64-3.7/trt_pose/parse/find_peaks.o build/temp.linux-x86_64-3.7/trt_pose/parse/paf_score_graph.o build/temp.linux-x86_64-3.7/trt_pose/parse/refine_peaks.o build/temp.linux-x86_64-3.7/trt_pose/parse/munkres.o build/temp.linux-x86_64-3.7/trt_pose/parse/connect_parts.o build/temp.linux-x86_64-3.7/trt_pose/plugins.o build/temp.linux-x86_64-3.7/trt_pose/train/generate_cmap.o build/temp.linux-x86_64-3.7/trt_pose/train/generate_paf.o -L/usr/local/lib/python3.7/dist-packages/torch/lib -lc10 -ltorch -ltorch_cpu -ltorch_python -o build/lib.linux-x86_64-3.7/trt_pose/plugins.cpython-37m-x86_64-linux-gnu.so\n",
            "creating build/bdist.linux-x86_64\n",
            "creating build/bdist.linux-x86_64/egg\n",
            "creating build/bdist.linux-x86_64/egg/trt_pose\n",
            "copying build/lib.linux-x86_64-3.7/trt_pose/draw_objects.py -> build/bdist.linux-x86_64/egg/trt_pose\n",
            "creating build/bdist.linux-x86_64/egg/trt_pose/utils\n",
            "copying build/lib.linux-x86_64-3.7/trt_pose/utils/export_for_isaac.py -> build/bdist.linux-x86_64/egg/trt_pose/utils\n",
            "copying build/lib.linux-x86_64-3.7/trt_pose/utils/__init__.py -> build/bdist.linux-x86_64/egg/trt_pose/utils\n",
            "copying build/lib.linux-x86_64-3.7/trt_pose/train.py -> build/bdist.linux-x86_64/egg/trt_pose\n",
            "copying build/lib.linux-x86_64-3.7/trt_pose/coco.py -> build/bdist.linux-x86_64/egg/trt_pose\n",
            "copying build/lib.linux-x86_64-3.7/trt_pose/plugins.cpython-37m-x86_64-linux-gnu.so -> build/bdist.linux-x86_64/egg/trt_pose\n",
            "creating build/bdist.linux-x86_64/egg/trt_pose/models\n",
            "copying build/lib.linux-x86_64-3.7/trt_pose/models/dla.py -> build/bdist.linux-x86_64/egg/trt_pose/models\n",
            "copying build/lib.linux-x86_64-3.7/trt_pose/models/resnet.py -> build/bdist.linux-x86_64/egg/trt_pose/models\n",
            "copying build/lib.linux-x86_64-3.7/trt_pose/models/densenet.py -> build/bdist.linux-x86_64/egg/trt_pose/models\n",
            "copying build/lib.linux-x86_64-3.7/trt_pose/models/common.py -> build/bdist.linux-x86_64/egg/trt_pose/models\n",
            "copying build/lib.linux-x86_64-3.7/trt_pose/models/mnasnet.py -> build/bdist.linux-x86_64/egg/trt_pose/models\n",
            "copying build/lib.linux-x86_64-3.7/trt_pose/models/__init__.py -> build/bdist.linux-x86_64/egg/trt_pose/models\n",
            "copying build/lib.linux-x86_64-3.7/trt_pose/__init__.py -> build/bdist.linux-x86_64/egg/trt_pose\n",
            "copying build/lib.linux-x86_64-3.7/trt_pose/parse_objects.py -> build/bdist.linux-x86_64/egg/trt_pose\n",
            "byte-compiling build/bdist.linux-x86_64/egg/trt_pose/draw_objects.py to draw_objects.cpython-37.pyc\n",
            "byte-compiling build/bdist.linux-x86_64/egg/trt_pose/utils/export_for_isaac.py to export_for_isaac.cpython-37.pyc\n",
            "byte-compiling build/bdist.linux-x86_64/egg/trt_pose/utils/__init__.py to __init__.cpython-37.pyc\n",
            "byte-compiling build/bdist.linux-x86_64/egg/trt_pose/train.py to train.cpython-37.pyc\n",
            "byte-compiling build/bdist.linux-x86_64/egg/trt_pose/coco.py to coco.cpython-37.pyc\n",
            "byte-compiling build/bdist.linux-x86_64/egg/trt_pose/models/dla.py to dla.cpython-37.pyc\n",
            "byte-compiling build/bdist.linux-x86_64/egg/trt_pose/models/resnet.py to resnet.cpython-37.pyc\n",
            "byte-compiling build/bdist.linux-x86_64/egg/trt_pose/models/densenet.py to densenet.cpython-37.pyc\n",
            "byte-compiling build/bdist.linux-x86_64/egg/trt_pose/models/common.py to common.cpython-37.pyc\n",
            "byte-compiling build/bdist.linux-x86_64/egg/trt_pose/models/mnasnet.py to mnasnet.cpython-37.pyc\n",
            "byte-compiling build/bdist.linux-x86_64/egg/trt_pose/models/__init__.py to __init__.cpython-37.pyc\n",
            "byte-compiling build/bdist.linux-x86_64/egg/trt_pose/__init__.py to __init__.cpython-37.pyc\n",
            "byte-compiling build/bdist.linux-x86_64/egg/trt_pose/parse_objects.py to parse_objects.cpython-37.pyc\n",
            "creating stub loader for trt_pose/plugins.cpython-37m-x86_64-linux-gnu.so\n",
            "byte-compiling build/bdist.linux-x86_64/egg/trt_pose/plugins.py to plugins.cpython-37.pyc\n",
            "creating build/bdist.linux-x86_64/egg/EGG-INFO\n",
            "copying trt_pose.egg-info/PKG-INFO -> build/bdist.linux-x86_64/egg/EGG-INFO\n",
            "copying trt_pose.egg-info/SOURCES.txt -> build/bdist.linux-x86_64/egg/EGG-INFO\n",
            "copying trt_pose.egg-info/dependency_links.txt -> build/bdist.linux-x86_64/egg/EGG-INFO\n",
            "copying trt_pose.egg-info/top_level.txt -> build/bdist.linux-x86_64/egg/EGG-INFO\n",
            "writing build/bdist.linux-x86_64/egg/EGG-INFO/native_libs.txt\n",
            "zip_safe flag not set; analyzing archive contents...\n",
            "trt_pose.__pycache__.plugins.cpython-37: module references __file__\n",
            "trt_pose.models.__pycache__.dla.cpython-37: module references __file__\n",
            "creating dist\n",
            "creating 'dist/trt_pose-0.0.1-py3.7-linux-x86_64.egg' and adding 'build/bdist.linux-x86_64/egg' to it\n",
            "removing 'build/bdist.linux-x86_64/egg' (and everything under it)\n",
            "Processing trt_pose-0.0.1-py3.7-linux-x86_64.egg\n",
            "creating /usr/local/lib/python3.7/dist-packages/trt_pose-0.0.1-py3.7-linux-x86_64.egg\n",
            "Extracting trt_pose-0.0.1-py3.7-linux-x86_64.egg to /usr/local/lib/python3.7/dist-packages\n",
            "Adding trt-pose 0.0.1 to easy-install.pth file\n",
            "\n",
            "Installed /usr/local/lib/python3.7/dist-packages/trt_pose-0.0.1-py3.7-linux-x86_64.egg\n",
            "Processing dependencies for trt-pose==0.0.1\n",
            "Finished processing dependencies for trt-pose==0.0.1\n"
          ]
        }
      ]
    },
    {
      "cell_type": "code",
      "source": [
        "!pwd"
      ],
      "metadata": {
        "colab": {
          "base_uri": "https://localhost:8080/"
        },
        "id": "K8cdq_zKW88g",
        "outputId": "bb050110-84b5-44fa-b8d7-fd6a71a6e79d"
      },
      "execution_count": null,
      "outputs": [
        {
          "output_type": "stream",
          "name": "stdout",
          "text": [
            "/content/ActionAI/torch2trt/trt_pose\n"
          ]
        }
      ]
    },
    {
      "cell_type": "code",
      "source": [
        "%cd /content/ActionAI"
      ],
      "metadata": {
        "colab": {
          "base_uri": "https://localhost:8080/"
        },
        "id": "3yDyuARjW-eL",
        "outputId": "4af2758a-a4be-4dbd-b6ba-67515a775479"
      },
      "execution_count": null,
      "outputs": [
        {
          "output_type": "stream",
          "name": "stdout",
          "text": [
            "/content/ActionAI\n"
          ]
        }
      ]
    },
    {
      "cell_type": "code",
      "source": [
        "!pip install -r requirements.txt"
      ],
      "metadata": {
        "colab": {
          "base_uri": "https://localhost:8080/"
        },
        "id": "HGyK3NhlXCFt",
        "outputId": "39f269ef-83ec-4a42-e65f-231a3c1be5e6"
      },
      "execution_count": null,
      "outputs": [
        {
          "output_type": "stream",
          "name": "stdout",
          "text": [
            "Looking in indexes: https://pypi.org/simple, https://us-python.pkg.dev/colab-wheels/public/simple/, https://pypi.ngc.nvidia.com\n",
            "Requirement already satisfied: tensorflow>=2.6.2 in /usr/local/lib/python3.7/dist-packages (from -r requirements.txt (line 1)) (2.9.2)\n",
            "Requirement already satisfied: scipy in /usr/local/lib/python3.7/dist-packages (from -r requirements.txt (line 2)) (1.7.3)\n",
            "Requirement already satisfied: scikit-learn in /usr/local/lib/python3.7/dist-packages (from -r requirements.txt (line 3)) (1.0.2)\n",
            "Requirement already satisfied: opencv-contrib-python in /usr/local/lib/python3.7/dist-packages (from -r requirements.txt (line 4)) (4.6.0.66)\n",
            "Requirement already satisfied: pandas in /usr/local/lib/python3.7/dist-packages (from -r requirements.txt (line 5)) (1.3.5)\n",
            "Requirement already satisfied: pillow in /usr/local/lib/python3.7/dist-packages (from -r requirements.txt (line 6)) (7.1.2)\n",
            "Requirement already satisfied: google-pasta>=0.1.1 in /usr/local/lib/python3.7/dist-packages (from tensorflow>=2.6.2->-r requirements.txt (line 1)) (0.2.0)\n",
            "Requirement already satisfied: libclang>=13.0.0 in /usr/local/lib/python3.7/dist-packages (from tensorflow>=2.6.2->-r requirements.txt (line 1)) (14.0.6)\n",
            "Requirement already satisfied: keras-preprocessing>=1.1.1 in /usr/local/lib/python3.7/dist-packages (from tensorflow>=2.6.2->-r requirements.txt (line 1)) (1.1.2)\n",
            "Requirement already satisfied: protobuf<3.20,>=3.9.2 in /usr/local/lib/python3.7/dist-packages (from tensorflow>=2.6.2->-r requirements.txt (line 1)) (3.17.3)\n",
            "Requirement already satisfied: tensorflow-estimator<2.10.0,>=2.9.0rc0 in /usr/local/lib/python3.7/dist-packages (from tensorflow>=2.6.2->-r requirements.txt (line 1)) (2.9.0)\n",
            "Requirement already satisfied: termcolor>=1.1.0 in /usr/local/lib/python3.7/dist-packages (from tensorflow>=2.6.2->-r requirements.txt (line 1)) (2.0.1)\n",
            "Requirement already satisfied: tensorflow-io-gcs-filesystem>=0.23.1 in /usr/local/lib/python3.7/dist-packages (from tensorflow>=2.6.2->-r requirements.txt (line 1)) (0.27.0)\n",
            "Requirement already satisfied: wrapt>=1.11.0 in /usr/local/lib/python3.7/dist-packages (from tensorflow>=2.6.2->-r requirements.txt (line 1)) (1.14.1)\n",
            "Requirement already satisfied: setuptools in /usr/local/lib/python3.7/dist-packages (from tensorflow>=2.6.2->-r requirements.txt (line 1)) (57.4.0)\n",
            "Requirement already satisfied: flatbuffers<2,>=1.12 in /usr/local/lib/python3.7/dist-packages (from tensorflow>=2.6.2->-r requirements.txt (line 1)) (1.12)\n",
            "Requirement already satisfied: typing-extensions>=3.6.6 in /usr/local/lib/python3.7/dist-packages (from tensorflow>=2.6.2->-r requirements.txt (line 1)) (4.1.1)\n",
            "Requirement already satisfied: keras<2.10.0,>=2.9.0rc0 in /usr/local/lib/python3.7/dist-packages (from tensorflow>=2.6.2->-r requirements.txt (line 1)) (2.9.0)\n",
            "Requirement already satisfied: gast<=0.4.0,>=0.2.1 in /usr/local/lib/python3.7/dist-packages (from tensorflow>=2.6.2->-r requirements.txt (line 1)) (0.4.0)\n",
            "Requirement already satisfied: grpcio<2.0,>=1.24.3 in /usr/local/lib/python3.7/dist-packages (from tensorflow>=2.6.2->-r requirements.txt (line 1)) (1.50.0)\n",
            "Requirement already satisfied: packaging in /usr/local/lib/python3.7/dist-packages (from tensorflow>=2.6.2->-r requirements.txt (line 1)) (21.3)\n",
            "Requirement already satisfied: six>=1.12.0 in /usr/local/lib/python3.7/dist-packages (from tensorflow>=2.6.2->-r requirements.txt (line 1)) (1.15.0)\n",
            "Requirement already satisfied: numpy>=1.20 in /usr/local/lib/python3.7/dist-packages (from tensorflow>=2.6.2->-r requirements.txt (line 1)) (1.21.6)\n",
            "Requirement already satisfied: opt-einsum>=2.3.2 in /usr/local/lib/python3.7/dist-packages (from tensorflow>=2.6.2->-r requirements.txt (line 1)) (3.3.0)\n",
            "Requirement already satisfied: h5py>=2.9.0 in /usr/local/lib/python3.7/dist-packages (from tensorflow>=2.6.2->-r requirements.txt (line 1)) (3.1.0)\n",
            "Requirement already satisfied: absl-py>=1.0.0 in /usr/local/lib/python3.7/dist-packages (from tensorflow>=2.6.2->-r requirements.txt (line 1)) (1.3.0)\n",
            "Requirement already satisfied: astunparse>=1.6.0 in /usr/local/lib/python3.7/dist-packages (from tensorflow>=2.6.2->-r requirements.txt (line 1)) (1.6.3)\n",
            "Requirement already satisfied: tensorboard<2.10,>=2.9 in /usr/local/lib/python3.7/dist-packages (from tensorflow>=2.6.2->-r requirements.txt (line 1)) (2.9.1)\n",
            "Requirement already satisfied: wheel<1.0,>=0.23.0 in /usr/local/lib/python3.7/dist-packages (from astunparse>=1.6.0->tensorflow>=2.6.2->-r requirements.txt (line 1)) (0.37.1)\n",
            "Requirement already satisfied: cached-property in /usr/local/lib/python3.7/dist-packages (from h5py>=2.9.0->tensorflow>=2.6.2->-r requirements.txt (line 1)) (1.5.2)\n",
            "Requirement already satisfied: markdown>=2.6.8 in /usr/local/lib/python3.7/dist-packages (from tensorboard<2.10,>=2.9->tensorflow>=2.6.2->-r requirements.txt (line 1)) (3.4.1)\n",
            "Requirement already satisfied: google-auth<3,>=1.6.3 in /usr/local/lib/python3.7/dist-packages (from tensorboard<2.10,>=2.9->tensorflow>=2.6.2->-r requirements.txt (line 1)) (1.35.0)\n",
            "Requirement already satisfied: google-auth-oauthlib<0.5,>=0.4.1 in /usr/local/lib/python3.7/dist-packages (from tensorboard<2.10,>=2.9->tensorflow>=2.6.2->-r requirements.txt (line 1)) (0.4.6)\n",
            "Requirement already satisfied: werkzeug>=1.0.1 in /usr/local/lib/python3.7/dist-packages (from tensorboard<2.10,>=2.9->tensorflow>=2.6.2->-r requirements.txt (line 1)) (1.0.1)\n",
            "Requirement already satisfied: tensorboard-data-server<0.7.0,>=0.6.0 in /usr/local/lib/python3.7/dist-packages (from tensorboard<2.10,>=2.9->tensorflow>=2.6.2->-r requirements.txt (line 1)) (0.6.1)\n",
            "Requirement already satisfied: requests<3,>=2.21.0 in /usr/local/lib/python3.7/dist-packages (from tensorboard<2.10,>=2.9->tensorflow>=2.6.2->-r requirements.txt (line 1)) (2.23.0)\n",
            "Requirement already satisfied: tensorboard-plugin-wit>=1.6.0 in /usr/local/lib/python3.7/dist-packages (from tensorboard<2.10,>=2.9->tensorflow>=2.6.2->-r requirements.txt (line 1)) (1.8.1)\n",
            "Requirement already satisfied: cachetools<5.0,>=2.0.0 in /usr/local/lib/python3.7/dist-packages (from google-auth<3,>=1.6.3->tensorboard<2.10,>=2.9->tensorflow>=2.6.2->-r requirements.txt (line 1)) (4.2.4)\n",
            "Requirement already satisfied: rsa<5,>=3.1.4 in /usr/local/lib/python3.7/dist-packages (from google-auth<3,>=1.6.3->tensorboard<2.10,>=2.9->tensorflow>=2.6.2->-r requirements.txt (line 1)) (4.9)\n",
            "Requirement already satisfied: pyasn1-modules>=0.2.1 in /usr/local/lib/python3.7/dist-packages (from google-auth<3,>=1.6.3->tensorboard<2.10,>=2.9->tensorflow>=2.6.2->-r requirements.txt (line 1)) (0.2.8)\n",
            "Requirement already satisfied: requests-oauthlib>=0.7.0 in /usr/local/lib/python3.7/dist-packages (from google-auth-oauthlib<0.5,>=0.4.1->tensorboard<2.10,>=2.9->tensorflow>=2.6.2->-r requirements.txt (line 1)) (1.3.1)\n",
            "Requirement already satisfied: importlib-metadata>=4.4 in /usr/local/lib/python3.7/dist-packages (from markdown>=2.6.8->tensorboard<2.10,>=2.9->tensorflow>=2.6.2->-r requirements.txt (line 1)) (4.13.0)\n",
            "Requirement already satisfied: zipp>=0.5 in /usr/local/lib/python3.7/dist-packages (from importlib-metadata>=4.4->markdown>=2.6.8->tensorboard<2.10,>=2.9->tensorflow>=2.6.2->-r requirements.txt (line 1)) (3.10.0)\n",
            "Requirement already satisfied: pyasn1<0.5.0,>=0.4.6 in /usr/local/lib/python3.7/dist-packages (from pyasn1-modules>=0.2.1->google-auth<3,>=1.6.3->tensorboard<2.10,>=2.9->tensorflow>=2.6.2->-r requirements.txt (line 1)) (0.4.8)\n",
            "Requirement already satisfied: idna<3,>=2.5 in /usr/local/lib/python3.7/dist-packages (from requests<3,>=2.21.0->tensorboard<2.10,>=2.9->tensorflow>=2.6.2->-r requirements.txt (line 1)) (2.10)\n",
            "Requirement already satisfied: urllib3!=1.25.0,!=1.25.1,<1.26,>=1.21.1 in /usr/local/lib/python3.7/dist-packages (from requests<3,>=2.21.0->tensorboard<2.10,>=2.9->tensorflow>=2.6.2->-r requirements.txt (line 1)) (1.24.3)\n",
            "Requirement already satisfied: certifi>=2017.4.17 in /usr/local/lib/python3.7/dist-packages (from requests<3,>=2.21.0->tensorboard<2.10,>=2.9->tensorflow>=2.6.2->-r requirements.txt (line 1)) (2022.9.24)\n",
            "Requirement already satisfied: chardet<4,>=3.0.2 in /usr/local/lib/python3.7/dist-packages (from requests<3,>=2.21.0->tensorboard<2.10,>=2.9->tensorflow>=2.6.2->-r requirements.txt (line 1)) (3.0.4)\n",
            "Requirement already satisfied: oauthlib>=3.0.0 in /usr/local/lib/python3.7/dist-packages (from requests-oauthlib>=0.7.0->google-auth-oauthlib<0.5,>=0.4.1->tensorboard<2.10,>=2.9->tensorflow>=2.6.2->-r requirements.txt (line 1)) (3.2.2)\n",
            "Requirement already satisfied: joblib>=0.11 in /usr/local/lib/python3.7/dist-packages (from scikit-learn->-r requirements.txt (line 3)) (1.2.0)\n",
            "Requirement already satisfied: threadpoolctl>=2.0.0 in /usr/local/lib/python3.7/dist-packages (from scikit-learn->-r requirements.txt (line 3)) (3.1.0)\n",
            "Requirement already satisfied: pytz>=2017.3 in /usr/local/lib/python3.7/dist-packages (from pandas->-r requirements.txt (line 5)) (2022.5)\n",
            "Requirement already satisfied: python-dateutil>=2.7.3 in /usr/local/lib/python3.7/dist-packages (from pandas->-r requirements.txt (line 5)) (2.8.2)\n",
            "Requirement already satisfied: pyparsing!=3.0.5,>=2.0.2 in /usr/local/lib/python3.7/dist-packages (from packaging->tensorflow>=2.6.2->-r requirements.txt (line 1)) (3.0.9)\n"
          ]
        }
      ]
    },
    {
      "cell_type": "code",
      "source": [
        "!pwd"
      ],
      "metadata": {
        "colab": {
          "base_uri": "https://localhost:8080/"
        },
        "id": "NFmIo1DjXDnj",
        "outputId": "1eaec35c-8d77-41a7-d013-7011c0cc2a42"
      },
      "execution_count": null,
      "outputs": [
        {
          "output_type": "stream",
          "name": "stdout",
          "text": [
            "/content/ActionAI\n"
          ]
        }
      ]
    },
    {
      "cell_type": "code",
      "source": [
        "! python iva.py /content/4th_trim.mp4"
      ],
      "metadata": {
        "colab": {
          "base_uri": "https://localhost:8080/"
        },
        "id": "ZFGzpu99XFpK",
        "outputId": "bf77b778-3efe-46e4-ac02-22da916a53f5"
      },
      "execution_count": null,
      "outputs": [
        {
          "output_type": "stream",
          "name": "stdout",
          "text": [
            "[11/05/2022-16:02:09] [TRT] [E] 1: [stdArchiveReader.cpp::StdArchiveReader::30] Error Code 1: Serialization (Serialization assertion magicTagRead == kMAGIC_TAG failed.Magic tag does not match)\n",
            "[11/05/2022-16:02:09] [TRT] [E] 4: [runtime.cpp::deserializeCudaEngine::50] Error Code 4: Internal Error (Engine deserialization failed.)\n",
            "Traceback (most recent call last):\n",
            "  File \"iva.py\", line 8, in <module>\n",
            "    from model import *\n",
            "  File \"/content/ActionAI/model.py\", line 75, in <module>\n",
            "    model_trt.load_state_dict(torch.load(MODEL_PATH))\n",
            "  File \"/usr/local/lib/python3.7/dist-packages/torch/nn/modules/module.py\", line 1590, in load_state_dict\n",
            "    load(self)\n",
            "  File \"/usr/local/lib/python3.7/dist-packages/torch/nn/modules/module.py\", line 1575, in load\n",
            "    state_dict, prefix, local_metadata, True, missing_keys, unexpected_keys, error_msgs)\n",
            "  File \"/content/ActionAI/torch2trt/torch2trt/torch2trt.py\", line 561, in _load_from_state_dict\n",
            "    self.context = self.engine.create_execution_context()\n",
            "AttributeError: 'NoneType' object has no attribute 'create_execution_context'\n"
          ]
        }
      ]
    },
    {
      "cell_type": "code",
      "source": [
        "! python iva.py 0"
      ],
      "metadata": {
        "colab": {
          "base_uri": "https://localhost:8080/"
        },
        "id": "6a0dqgLNYJ-9",
        "outputId": "88843e72-5745-4654-b410-6052050e41d3"
      },
      "execution_count": null,
      "outputs": [
        {
          "output_type": "stream",
          "name": "stdout",
          "text": [
            "[11/05/2022-16:16:19] [TRT] [E] 1: [stdArchiveReader.cpp::StdArchiveReader::30] Error Code 1: Serialization (Serialization assertion magicTagRead == kMAGIC_TAG failed.Magic tag does not match)\n",
            "[11/05/2022-16:16:19] [TRT] [E] 4: [runtime.cpp::deserializeCudaEngine::50] Error Code 4: Internal Error (Engine deserialization failed.)\n",
            "Traceback (most recent call last):\n",
            "  File \"iva.py\", line 8, in <module>\n",
            "    from model import *\n",
            "  File \"/content/ActionAI/model.py\", line 75, in <module>\n",
            "    model_trt.load_state_dict(torch.load(MODEL_PATH))\n",
            "  File \"/usr/local/lib/python3.7/dist-packages/torch/nn/modules/module.py\", line 1590, in load_state_dict\n",
            "    load(self)\n",
            "  File \"/usr/local/lib/python3.7/dist-packages/torch/nn/modules/module.py\", line 1575, in load\n",
            "    state_dict, prefix, local_metadata, True, missing_keys, unexpected_keys, error_msgs)\n",
            "  File \"/content/ActionAI/torch2trt/torch2trt/torch2trt.py\", line 561, in _load_from_state_dict\n",
            "    self.context = self.engine.create_execution_context()\n",
            "AttributeError: 'NoneType' object has no attribute 'create_execution_context'\n"
          ]
        }
      ]
    },
    {
      "cell_type": "code",
      "source": [],
      "metadata": {
        "id": "GAXVdzzQlBRt"
      },
      "execution_count": null,
      "outputs": []
    }
  ]
}