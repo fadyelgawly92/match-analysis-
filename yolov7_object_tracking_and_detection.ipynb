{
  "nbformat": 4,
  "nbformat_minor": 0,
  "metadata": {
    "colab": {
      "provenance": [],
      "collapsed_sections": []
    },
    "kernelspec": {
      "name": "python3",
      "display_name": "Python 3"
    },
    "language_info": {
      "name": "python"
    },
    "accelerator": "GPU",
    "gpuClass": "standard"
  },
  "cells": [
    {
      "cell_type": "code",
      "execution_count": 1,
      "metadata": {
        "colab": {
          "base_uri": "https://localhost:8080/"
        },
        "id": "L-alLYwCyG9M",
        "outputId": "5b0cce93-a060-4ae7-c08d-612a384bbc44"
      },
      "outputs": [
        {
          "output_type": "stream",
          "name": "stdout",
          "text": [
            "Cloning into 'yolov7-object-tracking'...\n",
            "remote: Enumerating objects: 130, done.\u001b[K\n",
            "remote: Counting objects: 100% (56/56), done.\u001b[K\n",
            "remote: Compressing objects: 100% (52/52), done.\u001b[K\n",
            "remote: Total 130 (delta 30), reused 9 (delta 4), pack-reused 74\u001b[K\n",
            "Receiving objects: 100% (130/130), 141.40 KiB | 11.78 MiB/s, done.\n",
            "Resolving deltas: 100% (51/51), done.\n"
          ]
        }
      ],
      "source": [
        "! git clone https://github.com/RizwanMunawar/yolov7-object-tracking.git"
      ]
    },
    {
      "cell_type": "code",
      "source": [
        "%cd yolov7-object-tracking"
      ],
      "metadata": {
        "colab": {
          "base_uri": "https://localhost:8080/"
        },
        "id": "qaDM9kxzyKOo",
        "outputId": "812232f4-8b6e-4762-b49e-b46c0790982a"
      },
      "execution_count": 2,
      "outputs": [
        {
          "output_type": "stream",
          "name": "stdout",
          "text": [
            "/content/yolov7-object-tracking\n"
          ]
        }
      ]
    },
    {
      "cell_type": "code",
      "source": [
        "# !python3 -m venv yolov7objtracking\n",
        "!source /content/yolov7-object-tracking/yolov7objtracking/bin/activate"
      ],
      "metadata": {
        "colab": {
          "base_uri": "https://localhost:8080/"
        },
        "id": "c761ArBEQH31",
        "outputId": "ee6c9ca7-c2f5-416c-e43b-6c70f0be28a4"
      },
      "execution_count": 11,
      "outputs": [
        {
          "output_type": "stream",
          "name": "stdout",
          "text": [
            "/bin/bash: /content/yolov7-object-tracking/yolov7objtracking/bin/activate: No such file or directory\n"
          ]
        }
      ]
    },
    {
      "cell_type": "code",
      "source": [
        "! python3 -m venv yolov7objtracking\n",
        "%cd yolov7objtracking\n",
        "%cd Scripts\n",
        "!activate\n",
        "%cd ..\n",
        "%cd .."
      ],
      "metadata": {
        "colab": {
          "base_uri": "https://localhost:8080/"
        },
        "id": "uDMPmUIJyVXH",
        "outputId": "bb5f1537-4a19-4ff1-e980-ad4d41b31b8f"
      },
      "execution_count": 7,
      "outputs": [
        {
          "output_type": "stream",
          "name": "stdout",
          "text": [
            "Error: Command '['/content/yolov7objtracking/yolov7objtracking/yolov7objtracking/bin/python3', '-Im', 'ensurepip', '--upgrade', '--default-pip']' returned non-zero exit status 1.\n",
            "/content/yolov7objtracking/yolov7objtracking/yolov7objtracking\n",
            "[Errno 2] No such file or directory: 'Scripts'\n",
            "/content/yolov7objtracking/yolov7objtracking/yolov7objtracking\n",
            "/bin/bash: activate: command not found\n",
            "/content/yolov7objtracking/yolov7objtracking\n",
            "/content/yolov7objtracking\n"
          ]
        }
      ]
    },
    {
      "cell_type": "code",
      "source": [
        "%cd /content/yolov7-object-tracking"
      ],
      "metadata": {
        "colab": {
          "base_uri": "https://localhost:8080/"
        },
        "id": "vo739iUUzQQk",
        "outputId": "9e6d9bae-68b6-4108-9f93-ad0dbca0cabd"
      },
      "execution_count": 13,
      "outputs": [
        {
          "output_type": "stream",
          "name": "stdout",
          "text": [
            "/content/yolov7-object-tracking\n"
          ]
        }
      ]
    },
    {
      "cell_type": "code",
      "source": [
        "! pip install --upgrade pip\n"
      ],
      "metadata": {
        "colab": {
          "base_uri": "https://localhost:8080/"
        },
        "id": "e130GH8Yzh3i",
        "outputId": "0b8c151a-a880-47ae-d469-3a581a82292c"
      },
      "execution_count": 14,
      "outputs": [
        {
          "output_type": "stream",
          "name": "stdout",
          "text": [
            "Looking in indexes: https://pypi.org/simple, https://us-python.pkg.dev/colab-wheels/public/simple/\n",
            "Requirement already satisfied: pip in /usr/local/lib/python3.7/dist-packages (21.1.3)\n",
            "Collecting pip\n",
            "  Downloading pip-22.3.1-py3-none-any.whl (2.1 MB)\n",
            "\u001b[K     |████████████████████████████████| 2.1 MB 35.2 MB/s \n",
            "\u001b[?25hInstalling collected packages: pip\n",
            "  Attempting uninstall: pip\n",
            "    Found existing installation: pip 21.1.3\n",
            "    Uninstalling pip-21.1.3:\n",
            "      Successfully uninstalled pip-21.1.3\n",
            "Successfully installed pip-22.3.1\n"
          ]
        }
      ]
    },
    {
      "cell_type": "code",
      "source": [
        "! pip install -r requirements.txt"
      ],
      "metadata": {
        "colab": {
          "base_uri": "https://localhost:8080/"
        },
        "id": "A_AON5aTzpSF",
        "outputId": "188f0c01-eba8-4b25-8414-c047469628c5"
      },
      "execution_count": 15,
      "outputs": [
        {
          "output_type": "stream",
          "name": "stdout",
          "text": [
            "Looking in indexes: https://pypi.org/simple, https://us-python.pkg.dev/colab-wheels/public/simple/\n",
            "Requirement already satisfied: matplotlib>=3.2.2 in /usr/local/lib/python3.7/dist-packages (from -r requirements.txt (line 4)) (3.2.2)\n",
            "Requirement already satisfied: numpy>=1.18.5 in /usr/local/lib/python3.7/dist-packages (from -r requirements.txt (line 5)) (1.21.6)\n",
            "Requirement already satisfied: opencv-python>=4.1.1 in /usr/local/lib/python3.7/dist-packages (from -r requirements.txt (line 6)) (4.6.0.66)\n",
            "Requirement already satisfied: Pillow>=7.1.2 in /usr/local/lib/python3.7/dist-packages (from -r requirements.txt (line 7)) (7.1.2)\n",
            "Requirement already satisfied: PyYAML>=5.3.1 in /usr/local/lib/python3.7/dist-packages (from -r requirements.txt (line 8)) (6.0)\n",
            "Requirement already satisfied: requests>=2.23.0 in /usr/local/lib/python3.7/dist-packages (from -r requirements.txt (line 9)) (2.23.0)\n",
            "Requirement already satisfied: scipy>=1.4.1 in /usr/local/lib/python3.7/dist-packages (from -r requirements.txt (line 10)) (1.7.3)\n",
            "Requirement already satisfied: torch!=1.12.0,>=1.7.0 in /usr/local/lib/python3.7/dist-packages (from -r requirements.txt (line 11)) (1.12.1+cu113)\n",
            "Requirement already satisfied: torchvision!=0.13.0,>=0.8.1 in /usr/local/lib/python3.7/dist-packages (from -r requirements.txt (line 12)) (0.13.1+cu113)\n",
            "Requirement already satisfied: tqdm>=4.41.0 in /usr/local/lib/python3.7/dist-packages (from -r requirements.txt (line 13)) (4.64.1)\n",
            "Collecting protobuf==4.21.6\n",
            "  Downloading protobuf-4.21.6-cp37-abi3-manylinux2014_x86_64.whl (408 kB)\n",
            "\u001b[2K     \u001b[90m━━━━━━━━━━━━━━━━━━━━━━━━━━━━━━━━━━━━━━\u001b[0m \u001b[32m408.4/408.4 kB\u001b[0m \u001b[31m27.0 MB/s\u001b[0m eta \u001b[36m0:00:00\u001b[0m\n",
            "\u001b[?25hCollecting filterpy\n",
            "  Downloading filterpy-1.4.5.zip (177 kB)\n",
            "\u001b[2K     \u001b[90m━━━━━━━━━━━━━━━━━━━━━━━━━━━━━━━━━━━━━━\u001b[0m \u001b[32m178.0/178.0 kB\u001b[0m \u001b[31m25.3 MB/s\u001b[0m eta \u001b[36m0:00:00\u001b[0m\n",
            "\u001b[?25h  Preparing metadata (setup.py) ... \u001b[?25l\u001b[?25hdone\n",
            "Requirement already satisfied: scikit-image in /usr/local/lib/python3.7/dist-packages (from -r requirements.txt (line 18)) (0.18.3)\n",
            "Requirement already satisfied: tensorboard>=2.4.1 in /usr/local/lib/python3.7/dist-packages (from -r requirements.txt (line 21)) (2.9.1)\n",
            "Requirement already satisfied: pandas>=1.1.4 in /usr/local/lib/python3.7/dist-packages (from -r requirements.txt (line 25)) (1.3.5)\n",
            "Requirement already satisfied: seaborn>=0.11.0 in /usr/local/lib/python3.7/dist-packages (from -r requirements.txt (line 26)) (0.11.2)\n",
            "Requirement already satisfied: ipython in /usr/local/lib/python3.7/dist-packages (from -r requirements.txt (line 38)) (7.9.0)\n",
            "Requirement already satisfied: psutil in /usr/local/lib/python3.7/dist-packages (from -r requirements.txt (line 39)) (5.4.8)\n",
            "Collecting thop\n",
            "  Downloading thop-0.1.1.post2209072238-py3-none-any.whl (15 kB)\n",
            "Requirement already satisfied: pyparsing!=2.0.4,!=2.1.2,!=2.1.6,>=2.0.1 in /usr/local/lib/python3.7/dist-packages (from matplotlib>=3.2.2->-r requirements.txt (line 4)) (3.0.9)\n",
            "Requirement already satisfied: kiwisolver>=1.0.1 in /usr/local/lib/python3.7/dist-packages (from matplotlib>=3.2.2->-r requirements.txt (line 4)) (1.4.4)\n",
            "Requirement already satisfied: python-dateutil>=2.1 in /usr/local/lib/python3.7/dist-packages (from matplotlib>=3.2.2->-r requirements.txt (line 4)) (2.8.2)\n",
            "Requirement already satisfied: cycler>=0.10 in /usr/local/lib/python3.7/dist-packages (from matplotlib>=3.2.2->-r requirements.txt (line 4)) (0.11.0)\n",
            "Requirement already satisfied: idna<3,>=2.5 in /usr/local/lib/python3.7/dist-packages (from requests>=2.23.0->-r requirements.txt (line 9)) (2.10)\n",
            "Requirement already satisfied: chardet<4,>=3.0.2 in /usr/local/lib/python3.7/dist-packages (from requests>=2.23.0->-r requirements.txt (line 9)) (3.0.4)\n",
            "Requirement already satisfied: certifi>=2017.4.17 in /usr/local/lib/python3.7/dist-packages (from requests>=2.23.0->-r requirements.txt (line 9)) (2022.9.24)\n",
            "Requirement already satisfied: urllib3!=1.25.0,!=1.25.1,<1.26,>=1.21.1 in /usr/local/lib/python3.7/dist-packages (from requests>=2.23.0->-r requirements.txt (line 9)) (1.24.3)\n",
            "Requirement already satisfied: typing-extensions in /usr/local/lib/python3.7/dist-packages (from torch!=1.12.0,>=1.7.0->-r requirements.txt (line 11)) (4.1.1)\n",
            "Requirement already satisfied: tifffile>=2019.7.26 in /usr/local/lib/python3.7/dist-packages (from scikit-image->-r requirements.txt (line 18)) (2021.11.2)\n",
            "Requirement already satisfied: imageio>=2.3.0 in /usr/local/lib/python3.7/dist-packages (from scikit-image->-r requirements.txt (line 18)) (2.9.0)\n",
            "Requirement already satisfied: networkx>=2.0 in /usr/local/lib/python3.7/dist-packages (from scikit-image->-r requirements.txt (line 18)) (2.6.3)\n",
            "Requirement already satisfied: PyWavelets>=1.1.1 in /usr/local/lib/python3.7/dist-packages (from scikit-image->-r requirements.txt (line 18)) (1.3.0)\n",
            "Requirement already satisfied: absl-py>=0.4 in /usr/local/lib/python3.7/dist-packages (from tensorboard>=2.4.1->-r requirements.txt (line 21)) (1.3.0)\n",
            "Requirement already satisfied: tensorboard-data-server<0.7.0,>=0.6.0 in /usr/local/lib/python3.7/dist-packages (from tensorboard>=2.4.1->-r requirements.txt (line 21)) (0.6.1)\n",
            "Requirement already satisfied: google-auth-oauthlib<0.5,>=0.4.1 in /usr/local/lib/python3.7/dist-packages (from tensorboard>=2.4.1->-r requirements.txt (line 21)) (0.4.6)\n",
            "Requirement already satisfied: setuptools>=41.0.0 in /usr/local/lib/python3.7/dist-packages (from tensorboard>=2.4.1->-r requirements.txt (line 21)) (57.4.0)\n",
            "Requirement already satisfied: werkzeug>=1.0.1 in /usr/local/lib/python3.7/dist-packages (from tensorboard>=2.4.1->-r requirements.txt (line 21)) (1.0.1)\n",
            "Requirement already satisfied: wheel>=0.26 in /usr/local/lib/python3.7/dist-packages (from tensorboard>=2.4.1->-r requirements.txt (line 21)) (0.37.1)\n",
            "Requirement already satisfied: tensorboard-plugin-wit>=1.6.0 in /usr/local/lib/python3.7/dist-packages (from tensorboard>=2.4.1->-r requirements.txt (line 21)) (1.8.1)\n",
            "Requirement already satisfied: grpcio>=1.24.3 in /usr/local/lib/python3.7/dist-packages (from tensorboard>=2.4.1->-r requirements.txt (line 21)) (1.50.0)\n",
            "Collecting tensorboard>=2.4.1\n",
            "  Downloading tensorboard-2.10.1-py3-none-any.whl (5.9 MB)\n",
            "\u001b[2K     \u001b[90m━━━━━━━━━━━━━━━━━━━━━━━━━━━━━━━━━━━━━━━━\u001b[0m \u001b[32m5.9/5.9 MB\u001b[0m \u001b[31m73.5 MB/s\u001b[0m eta \u001b[36m0:00:00\u001b[0m\n",
            "\u001b[?25h  Downloading tensorboard-2.10.0-py3-none-any.whl (5.9 MB)\n",
            "\u001b[2K     \u001b[90m━━━━━━━━━━━━━━━━━━━━━━━━━━━━━━━━━━━━━━━━\u001b[0m \u001b[32m5.9/5.9 MB\u001b[0m \u001b[31m94.7 MB/s\u001b[0m eta \u001b[36m0:00:00\u001b[0m\n",
            "\u001b[?25h  Downloading tensorboard-2.9.0-py3-none-any.whl (5.8 MB)\n",
            "\u001b[2K     \u001b[90m━━━━━━━━━━━━━━━━━━━━━━━━━━━━━━━━━━━━━━━━\u001b[0m \u001b[32m5.8/5.8 MB\u001b[0m \u001b[31m84.4 MB/s\u001b[0m eta \u001b[36m0:00:00\u001b[0m\n",
            "\u001b[?25hRequirement already satisfied: google-auth<3,>=1.6.3 in /usr/local/lib/python3.7/dist-packages (from tensorboard>=2.4.1->-r requirements.txt (line 21)) (1.35.0)\n",
            "Requirement already satisfied: markdown>=2.6.8 in /usr/local/lib/python3.7/dist-packages (from tensorboard>=2.4.1->-r requirements.txt (line 21)) (3.4.1)\n",
            "Requirement already satisfied: pytz>=2017.3 in /usr/local/lib/python3.7/dist-packages (from pandas>=1.1.4->-r requirements.txt (line 25)) (2022.5)\n",
            "Requirement already satisfied: backcall in /usr/local/lib/python3.7/dist-packages (from ipython->-r requirements.txt (line 38)) (0.2.0)\n",
            "Requirement already satisfied: traitlets>=4.2 in /usr/local/lib/python3.7/dist-packages (from ipython->-r requirements.txt (line 38)) (5.1.1)\n",
            "Requirement already satisfied: pickleshare in /usr/local/lib/python3.7/dist-packages (from ipython->-r requirements.txt (line 38)) (0.7.5)\n",
            "Requirement already satisfied: prompt-toolkit<2.1.0,>=2.0.0 in /usr/local/lib/python3.7/dist-packages (from ipython->-r requirements.txt (line 38)) (2.0.10)\n",
            "Requirement already satisfied: decorator in /usr/local/lib/python3.7/dist-packages (from ipython->-r requirements.txt (line 38)) (4.4.2)\n",
            "Requirement already satisfied: pexpect in /usr/local/lib/python3.7/dist-packages (from ipython->-r requirements.txt (line 38)) (4.8.0)\n",
            "Requirement already satisfied: pygments in /usr/local/lib/python3.7/dist-packages (from ipython->-r requirements.txt (line 38)) (2.6.1)\n",
            "Collecting jedi>=0.10\n",
            "  Downloading jedi-0.18.1-py2.py3-none-any.whl (1.6 MB)\n",
            "\u001b[2K     \u001b[90m━━━━━━━━━━━━━━━━━━━━━━━━━━━━━━━━━━━━━━━━\u001b[0m \u001b[32m1.6/1.6 MB\u001b[0m \u001b[31m74.1 MB/s\u001b[0m eta \u001b[36m0:00:00\u001b[0m\n",
            "\u001b[?25hRequirement already satisfied: six>=1.9.0 in /usr/local/lib/python3.7/dist-packages (from google-auth<3,>=1.6.3->tensorboard>=2.4.1->-r requirements.txt (line 21)) (1.15.0)\n",
            "Requirement already satisfied: rsa<5,>=3.1.4 in /usr/local/lib/python3.7/dist-packages (from google-auth<3,>=1.6.3->tensorboard>=2.4.1->-r requirements.txt (line 21)) (4.9)\n",
            "Requirement already satisfied: pyasn1-modules>=0.2.1 in /usr/local/lib/python3.7/dist-packages (from google-auth<3,>=1.6.3->tensorboard>=2.4.1->-r requirements.txt (line 21)) (0.2.8)\n",
            "Requirement already satisfied: cachetools<5.0,>=2.0.0 in /usr/local/lib/python3.7/dist-packages (from google-auth<3,>=1.6.3->tensorboard>=2.4.1->-r requirements.txt (line 21)) (4.2.4)\n",
            "Requirement already satisfied: requests-oauthlib>=0.7.0 in /usr/local/lib/python3.7/dist-packages (from google-auth-oauthlib<0.5,>=0.4.1->tensorboard>=2.4.1->-r requirements.txt (line 21)) (1.3.1)\n",
            "Requirement already satisfied: parso<0.9.0,>=0.8.0 in /usr/local/lib/python3.7/dist-packages (from jedi>=0.10->ipython->-r requirements.txt (line 38)) (0.8.3)\n",
            "Requirement already satisfied: importlib-metadata>=4.4 in /usr/local/lib/python3.7/dist-packages (from markdown>=2.6.8->tensorboard>=2.4.1->-r requirements.txt (line 21)) (4.13.0)\n",
            "Requirement already satisfied: wcwidth in /usr/local/lib/python3.7/dist-packages (from prompt-toolkit<2.1.0,>=2.0.0->ipython->-r requirements.txt (line 38)) (0.2.5)\n",
            "Requirement already satisfied: ptyprocess>=0.5 in /usr/local/lib/python3.7/dist-packages (from pexpect->ipython->-r requirements.txt (line 38)) (0.7.0)\n",
            "Requirement already satisfied: zipp>=0.5 in /usr/local/lib/python3.7/dist-packages (from importlib-metadata>=4.4->markdown>=2.6.8->tensorboard>=2.4.1->-r requirements.txt (line 21)) (3.10.0)\n",
            "Requirement already satisfied: pyasn1<0.5.0,>=0.4.6 in /usr/local/lib/python3.7/dist-packages (from pyasn1-modules>=0.2.1->google-auth<3,>=1.6.3->tensorboard>=2.4.1->-r requirements.txt (line 21)) (0.4.8)\n",
            "Requirement already satisfied: oauthlib>=3.0.0 in /usr/local/lib/python3.7/dist-packages (from requests-oauthlib>=0.7.0->google-auth-oauthlib<0.5,>=0.4.1->tensorboard>=2.4.1->-r requirements.txt (line 21)) (3.2.2)\n",
            "Building wheels for collected packages: filterpy\n",
            "  Building wheel for filterpy (setup.py) ... \u001b[?25l\u001b[?25hdone\n",
            "  Created wheel for filterpy: filename=filterpy-1.4.5-py3-none-any.whl size=110474 sha256=eade25860f8b5563212f8b42437ea140fe351dc752692c9a2e26863ca1c89813\n",
            "  Stored in directory: /root/.cache/pip/wheels/09/c1/ac/dbb7930f0a0761ab94991d016e089c683ded83e950b17cb51e\n",
            "Successfully built filterpy\n",
            "Installing collected packages: protobuf, jedi, thop, filterpy, tensorboard\n",
            "  Attempting uninstall: protobuf\n",
            "    Found existing installation: protobuf 3.17.3\n",
            "    Uninstalling protobuf-3.17.3:\n",
            "      Successfully uninstalled protobuf-3.17.3\n",
            "  Attempting uninstall: tensorboard\n",
            "    Found existing installation: tensorboard 2.9.1\n",
            "    Uninstalling tensorboard-2.9.1:\n",
            "      Successfully uninstalled tensorboard-2.9.1\n",
            "\u001b[31mERROR: pip's dependency resolver does not currently take into account all the packages that are installed. This behaviour is the source of the following dependency conflicts.\n",
            "tensorflow 2.9.2 requires protobuf<3.20,>=3.9.2, but you have protobuf 4.21.6 which is incompatible.\n",
            "tensorflow-metadata 1.10.0 requires protobuf<4,>=3.13, but you have protobuf 4.21.6 which is incompatible.\n",
            "google-cloud-bigquery-storage 1.1.2 requires protobuf<4.0.0dev, but you have protobuf 4.21.6 which is incompatible.\n",
            "google-api-core 1.31.6 requires protobuf<4.0.0dev,>=3.12.0; python_version > \"3\", but you have protobuf 4.21.6 which is incompatible.\u001b[0m\u001b[31m\n",
            "\u001b[0mSuccessfully installed filterpy-1.4.5 jedi-0.18.1 protobuf-4.21.6 tensorboard-2.9.0 thop-0.1.1.post2209072238\n",
            "\u001b[33mWARNING: Running pip as the 'root' user can result in broken permissions and conflicting behaviour with the system package manager. It is recommended to use a virtual environment instead: https://pip.pypa.io/warnings/venv\u001b[0m\u001b[33m\n",
            "\u001b[0m"
          ]
        }
      ]
    },
    {
      "cell_type": "code",
      "source": [
        "#go to sort and hash matplotlib.use('TKAgg')"
      ],
      "metadata": {
        "id": "Exwwc-AjRHHA"
      },
      "execution_count": null,
      "outputs": []
    },
    {
      "cell_type": "code",
      "source": [
        "! python detect_and_track.py --weights yolov7.pt --source \"/content/4th_trim.mp4\" --classes 0"
      ],
      "metadata": {
        "colab": {
          "base_uri": "https://localhost:8080/"
        },
        "id": "-Iwf4vhIzsN2",
        "outputId": "1d7db9f0-4b26-4966-d80f-745e6f088373"
      },
      "execution_count": 19,
      "outputs": [
        {
          "output_type": "stream",
          "name": "stdout",
          "text": [
            "Namespace(agnostic_nms=False, augment=False, classes=[0], conf_thres=0.25, device='', download=True, exist_ok=False, img_size=640, iou_thres=0.45, name='object_tracking', no_trace=False, nosave=False, project='runs/detect', save_conf=False, save_txt=False, source='/content/4th_trim.mp4', update=False, view_img=False, weights=['yolov7.pt'])\n",
            "Model weights not found. Attempting to download now...\n",
            "yolov7.pt: 100% 72.1M/72.1M [00:00<00:00, 77.1MiB/s]\n",
            "YOLOR 🚀 yolov7-object-tracking-19-gc7aecc9 torch 1.12.1+cu113 CUDA:0 (Tesla T4, 15109.75MB)\n",
            "\n",
            "Fusing layers... \n",
            "RepConv.fuse_repvgg_block\n",
            "RepConv.fuse_repvgg_block\n",
            "RepConv.fuse_repvgg_block\n",
            "Model Summary: 306 layers, 36905341 parameters, 6652669 gradients\n",
            " Convert model to Traced-model... \n",
            " traced_script_module saved! \n",
            " model is traced! \n",
            "\n",
            "/usr/local/lib/python3.7/dist-packages/torch/functional.py:478: UserWarning: torch.meshgrid: in an upcoming release, it will be required to pass the indexing argument. (Triggered internally at  ../aten/src/ATen/native/TensorShape.cpp:2894.)\n",
            "  return _VF.meshgrid(tensors, **kwargs)  # type: ignore[attr-defined]\n",
            "video 1/1 (1/221) /content/4th_trim.mp4: 13 persons, Done. (16.4ms) Inference, (19.1ms) NMS\n",
            "video 1/1 (2/221) /content/4th_trim.mp4: 13 persons, Done. (16.6ms) Inference, (1.3ms) NMS\n",
            "video 1/1 (3/221) /content/4th_trim.mp4: 13 persons, Done. (42.7ms) Inference, (1.6ms) NMS\n",
            "video 1/1 (4/221) /content/4th_trim.mp4: 13 persons, Done. (78.9ms) Inference, (1.7ms) NMS\n",
            "video 1/1 (5/221) /content/4th_trim.mp4: 13 persons, Done. (64.5ms) Inference, (1.5ms) NMS\n",
            "video 1/1 (6/221) /content/4th_trim.mp4: 13 persons, Done. (73.0ms) Inference, (4.6ms) NMS\n",
            "video 1/1 (7/221) /content/4th_trim.mp4: 13 persons, Done. (16.1ms) Inference, (1.4ms) NMS\n",
            "video 1/1 (8/221) /content/4th_trim.mp4: 14 persons, Done. (16.5ms) Inference, (1.5ms) NMS\n",
            "video 1/1 (9/221) /content/4th_trim.mp4: 14 persons, Done. (16.5ms) Inference, (1.5ms) NMS\n",
            "video 1/1 (10/221) /content/4th_trim.mp4: 14 persons, Done. (16.9ms) Inference, (1.5ms) NMS\n",
            "video 1/1 (11/221) /content/4th_trim.mp4: 14 persons, Done. (32.7ms) Inference, (1.6ms) NMS\n",
            "video 1/1 (12/221) /content/4th_trim.mp4: 14 persons, Done. (16.1ms) Inference, (1.5ms) NMS\n",
            "video 1/1 (13/221) /content/4th_trim.mp4: 14 persons, Done. (16.4ms) Inference, (1.5ms) NMS\n",
            "video 1/1 (14/221) /content/4th_trim.mp4: 15 persons, Done. (16.9ms) Inference, (1.4ms) NMS\n",
            "video 1/1 (15/221) /content/4th_trim.mp4: 15 persons, Done. (16.1ms) Inference, (1.4ms) NMS\n",
            "video 1/1 (16/221) /content/4th_trim.mp4: 15 persons, Done. (18.9ms) Inference, (1.5ms) NMS\n",
            "video 1/1 (17/221) /content/4th_trim.mp4: 15 persons, Done. (16.3ms) Inference, (1.4ms) NMS\n",
            "video 1/1 (18/221) /content/4th_trim.mp4: 15 persons, Done. (16.4ms) Inference, (1.4ms) NMS\n",
            "video 1/1 (19/221) /content/4th_trim.mp4: 15 persons, Done. (16.6ms) Inference, (1.4ms) NMS\n",
            "video 1/1 (20/221) /content/4th_trim.mp4: 14 persons, Done. (16.3ms) Inference, (1.5ms) NMS\n",
            "video 1/1 (21/221) /content/4th_trim.mp4: 13 persons, Done. (16.2ms) Inference, (1.5ms) NMS\n",
            "video 1/1 (22/221) /content/4th_trim.mp4: 13 persons, Done. (16.5ms) Inference, (1.5ms) NMS\n",
            "video 1/1 (23/221) /content/4th_trim.mp4: 14 persons, Done. (20.0ms) Inference, (1.4ms) NMS\n",
            "video 1/1 (24/221) /content/4th_trim.mp4: 14 persons, Done. (16.1ms) Inference, (1.3ms) NMS\n",
            "video 1/1 (25/221) /content/4th_trim.mp4: 14 persons, Done. (16.1ms) Inference, (1.3ms) NMS\n",
            "video 1/1 (26/221) /content/4th_trim.mp4: 14 persons, Done. (20.6ms) Inference, (1.9ms) NMS\n",
            "video 1/1 (27/221) /content/4th_trim.mp4: 14 persons, Done. (16.1ms) Inference, (1.4ms) NMS\n",
            "video 1/1 (28/221) /content/4th_trim.mp4: 13 persons, Done. (17.7ms) Inference, (1.4ms) NMS\n",
            "video 1/1 (29/221) /content/4th_trim.mp4: 13 persons, Done. (16.1ms) Inference, (1.4ms) NMS\n",
            "video 1/1 (30/221) /content/4th_trim.mp4: 13 persons, Done. (16.1ms) Inference, (1.3ms) NMS\n",
            "video 1/1 (31/221) /content/4th_trim.mp4: 13 persons, Done. (16.1ms) Inference, (1.4ms) NMS\n",
            "video 1/1 (32/221) /content/4th_trim.mp4: 14 persons, Done. (16.2ms) Inference, (1.5ms) NMS\n",
            "video 1/1 (33/221) /content/4th_trim.mp4: 13 persons, Done. (16.1ms) Inference, (1.5ms) NMS\n",
            "video 1/1 (34/221) /content/4th_trim.mp4: 13 persons, Done. (30.8ms) Inference, (1.4ms) NMS\n",
            "video 1/1 (35/221) /content/4th_trim.mp4: 13 persons, Done. (16.1ms) Inference, (1.5ms) NMS\n",
            "video 1/1 (36/221) /content/4th_trim.mp4: 13 persons, Done. (16.1ms) Inference, (1.4ms) NMS\n",
            "video 1/1 (37/221) /content/4th_trim.mp4: 13 persons, Done. (16.1ms) Inference, (1.3ms) NMS\n",
            "video 1/1 (38/221) /content/4th_trim.mp4: 13 persons, Done. (25.3ms) Inference, (2.1ms) NMS\n",
            "video 1/1 (39/221) /content/4th_trim.mp4: 13 persons, Done. (16.6ms) Inference, (1.5ms) NMS\n",
            "video 1/1 (40/221) /content/4th_trim.mp4: 13 persons, Done. (16.2ms) Inference, (1.4ms) NMS\n",
            "video 1/1 (41/221) /content/4th_trim.mp4: 13 persons, Done. (16.1ms) Inference, (1.4ms) NMS\n",
            "video 1/1 (42/221) /content/4th_trim.mp4: 13 persons, Done. (16.1ms) Inference, (1.4ms) NMS\n",
            "video 1/1 (43/221) /content/4th_trim.mp4: 12 persons, Done. (18.2ms) Inference, (1.4ms) NMS\n",
            "video 1/1 (44/221) /content/4th_trim.mp4: 12 persons, Done. (18.9ms) Inference, (1.5ms) NMS\n",
            "video 1/1 (45/221) /content/4th_trim.mp4: 12 persons, Done. (19.8ms) Inference, (1.4ms) NMS\n",
            "video 1/1 (46/221) /content/4th_trim.mp4: 12 persons, Done. (16.1ms) Inference, (1.4ms) NMS\n",
            "video 1/1 (47/221) /content/4th_trim.mp4: 12 persons, Done. (16.1ms) Inference, (1.4ms) NMS\n",
            "video 1/1 (48/221) /content/4th_trim.mp4: 12 persons, Done. (16.9ms) Inference, (4.9ms) NMS\n",
            "video 1/1 (49/221) /content/4th_trim.mp4: 12 persons, Done. (16.1ms) Inference, (1.3ms) NMS\n",
            "video 1/1 (50/221) /content/4th_trim.mp4: 12 persons, Done. (15.8ms) Inference, (1.4ms) NMS\n",
            "video 1/1 (51/221) /content/4th_trim.mp4: 12 persons, Done. (15.8ms) Inference, (1.4ms) NMS\n",
            "video 1/1 (52/221) /content/4th_trim.mp4: 14 persons, Done. (19.0ms) Inference, (1.4ms) NMS\n",
            "video 1/1 (53/221) /content/4th_trim.mp4: 14 persons, Done. (15.8ms) Inference, (1.3ms) NMS\n",
            "video 1/1 (54/221) /content/4th_trim.mp4: 13 persons, Done. (20.6ms) Inference, (1.3ms) NMS\n",
            "video 1/1 (55/221) /content/4th_trim.mp4: 13 persons, Done. (15.8ms) Inference, (1.5ms) NMS\n",
            "video 1/1 (56/221) /content/4th_trim.mp4: 13 persons, Done. (15.8ms) Inference, (1.3ms) NMS\n",
            "video 1/1 (57/221) /content/4th_trim.mp4: 14 persons, Done. (19.1ms) Inference, (1.4ms) NMS\n",
            "video 1/1 (58/221) /content/4th_trim.mp4: 14 persons, Done. (16.8ms) Inference, (1.5ms) NMS\n",
            "video 1/1 (59/221) /content/4th_trim.mp4: 14 persons, Done. (17.2ms) Inference, (1.5ms) NMS\n",
            "video 1/1 (60/221) /content/4th_trim.mp4: 14 persons, Done. (16.0ms) Inference, (1.4ms) NMS\n",
            "video 1/1 (61/221) /content/4th_trim.mp4: 14 persons, Done. (16.1ms) Inference, (1.4ms) NMS\n",
            "video 1/1 (62/221) /content/4th_trim.mp4: 15 persons, Done. (27.6ms) Inference, (1.6ms) NMS\n",
            "video 1/1 (63/221) /content/4th_trim.mp4: 14 persons, Done. (16.2ms) Inference, (1.4ms) NMS\n",
            "video 1/1 (64/221) /content/4th_trim.mp4: 13 persons, Done. (15.9ms) Inference, (1.5ms) NMS\n",
            "video 1/1 (65/221) /content/4th_trim.mp4: 13 persons, Done. (16.3ms) Inference, (1.5ms) NMS\n",
            "video 1/1 (66/221) /content/4th_trim.mp4: 12 persons, Done. (16.2ms) Inference, (1.4ms) NMS\n",
            "video 1/1 (67/221) /content/4th_trim.mp4: 12 persons, Done. (16.4ms) Inference, (1.4ms) NMS\n",
            "video 1/1 (68/221) /content/4th_trim.mp4: 12 persons, Done. (15.8ms) Inference, (1.4ms) NMS\n",
            "video 1/1 (69/221) /content/4th_trim.mp4: 12 persons, Done. (16.6ms) Inference, (1.4ms) NMS\n",
            "video 1/1 (70/221) /content/4th_trim.mp4: 12 persons, Done. (16.4ms) Inference, (1.4ms) NMS\n",
            "video 1/1 (71/221) /content/4th_trim.mp4: 12 persons, Done. (17.1ms) Inference, (1.5ms) NMS\n",
            "video 1/1 (72/221) /content/4th_trim.mp4: 13 persons, Done. (16.6ms) Inference, (1.5ms) NMS\n",
            "video 1/1 (73/221) /content/4th_trim.mp4: 12 persons, Done. (16.6ms) Inference, (1.5ms) NMS\n",
            "video 1/1 (74/221) /content/4th_trim.mp4: 12 persons, Done. (18.2ms) Inference, (1.5ms) NMS\n",
            "video 1/1 (75/221) /content/4th_trim.mp4: 12 persons, Done. (17.8ms) Inference, (1.4ms) NMS\n",
            "video 1/1 (76/221) /content/4th_trim.mp4: 13 persons, Done. (16.1ms) Inference, (1.4ms) NMS\n",
            "video 1/1 (77/221) /content/4th_trim.mp4: 11 persons, Done. (19.1ms) Inference, (1.4ms) NMS\n",
            "video 1/1 (78/221) /content/4th_trim.mp4: 11 persons, Done. (19.7ms) Inference, (1.9ms) NMS\n",
            "video 1/1 (79/221) /content/4th_trim.mp4: 10 persons, Done. (17.1ms) Inference, (1.4ms) NMS\n",
            "video 1/1 (80/221) /content/4th_trim.mp4: 11 persons, Done. (19.7ms) Inference, (2.1ms) NMS\n",
            "video 1/1 (81/221) /content/4th_trim.mp4: 11 persons, Done. (16.1ms) Inference, (1.4ms) NMS\n",
            "video 1/1 (82/221) /content/4th_trim.mp4: 11 persons, Done. (17.0ms) Inference, (1.5ms) NMS\n",
            "video 1/1 (83/221) /content/4th_trim.mp4: 11 persons, Done. (17.3ms) Inference, (1.4ms) NMS\n",
            "video 1/1 (84/221) /content/4th_trim.mp4: 11 persons, Done. (17.4ms) Inference, (1.5ms) NMS\n",
            "video 1/1 (85/221) /content/4th_trim.mp4: 11 persons, Done. (16.0ms) Inference, (1.5ms) NMS\n",
            "video 1/1 (86/221) /content/4th_trim.mp4: 11 persons, Done. (15.8ms) Inference, (1.3ms) NMS\n",
            "video 1/1 (87/221) /content/4th_trim.mp4: 11 persons, Done. (17.2ms) Inference, (1.4ms) NMS\n",
            "video 1/1 (88/221) /content/4th_trim.mp4: 11 persons, Done. (16.0ms) Inference, (1.3ms) NMS\n",
            "video 1/1 (89/221) /content/4th_trim.mp4: 11 persons, Done. (16.3ms) Inference, (1.4ms) NMS\n",
            "video 1/1 (90/221) /content/4th_trim.mp4: 11 persons, Done. (16.3ms) Inference, (1.4ms) NMS\n",
            "video 1/1 (91/221) /content/4th_trim.mp4: 11 persons, Done. (16.2ms) Inference, (1.4ms) NMS\n",
            "video 1/1 (92/221) /content/4th_trim.mp4: 12 persons, Done. (16.4ms) Inference, (5.3ms) NMS\n",
            "video 1/1 (93/221) /content/4th_trim.mp4: 11 persons, Done. (16.8ms) Inference, (1.5ms) NMS\n",
            "video 1/1 (94/221) /content/4th_trim.mp4: 12 persons, Done. (20.5ms) Inference, (1.5ms) NMS\n",
            "video 1/1 (95/221) /content/4th_trim.mp4: 11 persons, Done. (15.8ms) Inference, (1.3ms) NMS\n",
            "video 1/1 (96/221) /content/4th_trim.mp4: 11 persons, Done. (15.8ms) Inference, (1.7ms) NMS\n",
            "video 1/1 (97/221) /content/4th_trim.mp4: 11 persons, Done. (17.1ms) Inference, (1.5ms) NMS\n",
            "video 1/1 (98/221) /content/4th_trim.mp4: 10 persons, Done. (15.8ms) Inference, (1.3ms) NMS\n",
            "video 1/1 (99/221) /content/4th_trim.mp4: 10 persons, Done. (27.9ms) Inference, (1.5ms) NMS\n",
            "video 1/1 (100/221) /content/4th_trim.mp4: 10 persons, Done. (16.4ms) Inference, (1.5ms) NMS\n",
            "video 1/1 (101/221) /content/4th_trim.mp4: 10 persons, Done. (16.7ms) Inference, (1.4ms) NMS\n",
            "video 1/1 (102/221) /content/4th_trim.mp4: 9 persons, Done. (15.9ms) Inference, (1.4ms) NMS\n",
            "video 1/1 (103/221) /content/4th_trim.mp4: 9 persons, Done. (16.4ms) Inference, (1.4ms) NMS\n",
            "video 1/1 (104/221) /content/4th_trim.mp4: 9 persons, Done. (16.0ms) Inference, (1.3ms) NMS\n",
            "video 1/1 (105/221) /content/4th_trim.mp4: 9 persons, Done. (17.9ms) Inference, (1.5ms) NMS\n",
            "video 1/1 (106/221) /content/4th_trim.mp4: 9 persons, Done. (17.9ms) Inference, (1.5ms) NMS\n",
            "video 1/1 (107/221) /content/4th_trim.mp4: 8 persons, Done. (17.5ms) Inference, (3.5ms) NMS\n",
            "video 1/1 (108/221) /content/4th_trim.mp4: 8 persons, Done. (16.3ms) Inference, (1.4ms) NMS\n",
            "video 1/1 (109/221) /content/4th_trim.mp4: 8 persons, Done. (16.4ms) Inference, (1.4ms) NMS\n",
            "video 1/1 (110/221) /content/4th_trim.mp4: 8 persons, Done. (16.9ms) Inference, (1.4ms) NMS\n",
            "video 1/1 (111/221) /content/4th_trim.mp4: 8 persons, Done. (15.9ms) Inference, (1.3ms) NMS\n",
            "video 1/1 (112/221) /content/4th_trim.mp4: 8 persons, Done. (20.4ms) Inference, (1.4ms) NMS\n",
            "video 1/1 (113/221) /content/4th_trim.mp4: 8 persons, Done. (16.1ms) Inference, (1.4ms) NMS\n",
            "video 1/1 (114/221) /content/4th_trim.mp4: 8 persons, Done. (16.0ms) Inference, (1.8ms) NMS\n",
            "video 1/1 (115/221) /content/4th_trim.mp4: 8 persons, Done. (16.5ms) Inference, (1.4ms) NMS\n",
            "video 1/1 (116/221) /content/4th_trim.mp4: 8 persons, Done. (15.8ms) Inference, (1.4ms) NMS\n",
            "video 1/1 (117/221) /content/4th_trim.mp4: 8 persons, Done. (16.2ms) Inference, (1.4ms) NMS\n",
            "video 1/1 (118/221) /content/4th_trim.mp4: 8 persons, Done. (15.8ms) Inference, (1.4ms) NMS\n",
            "video 1/1 (119/221) /content/4th_trim.mp4: 8 persons, Done. (17.2ms) Inference, (2.4ms) NMS\n",
            "video 1/1 (120/221) /content/4th_trim.mp4: 8 persons, Done. (15.8ms) Inference, (1.5ms) NMS\n",
            "video 1/1 (121/221) /content/4th_trim.mp4: 8 persons, Done. (16.3ms) Inference, (1.3ms) NMS\n",
            "video 1/1 (122/221) /content/4th_trim.mp4: 8 persons, Done. (16.5ms) Inference, (1.4ms) NMS\n",
            "video 1/1 (123/221) /content/4th_trim.mp4: 8 persons, Done. (15.9ms) Inference, (1.3ms) NMS\n",
            "video 1/1 (124/221) /content/4th_trim.mp4: 8 persons, Done. (16.4ms) Inference, (1.4ms) NMS\n",
            "video 1/1 (125/221) /content/4th_trim.mp4: 8 persons, Done. (16.2ms) Inference, (1.3ms) NMS\n",
            "video 1/1 (126/221) /content/4th_trim.mp4: 8 persons, Done. (18.1ms) Inference, (1.4ms) NMS\n",
            "video 1/1 (127/221) /content/4th_trim.mp4: 8 persons, Done. (16.6ms) Inference, (1.4ms) NMS\n",
            "video 1/1 (128/221) /content/4th_trim.mp4: 9 persons, Done. (16.5ms) Inference, (1.4ms) NMS\n",
            "video 1/1 (129/221) /content/4th_trim.mp4: 8 persons, Done. (16.5ms) Inference, (1.7ms) NMS\n",
            "video 1/1 (130/221) /content/4th_trim.mp4: 8 persons, Done. (17.1ms) Inference, (1.4ms) NMS\n",
            "video 1/1 (131/221) /content/4th_trim.mp4: 8 persons, Done. (16.9ms) Inference, (1.5ms) NMS\n",
            "video 1/1 (132/221) /content/4th_trim.mp4: 8 persons, Done. (15.8ms) Inference, (1.4ms) NMS\n",
            "video 1/1 (133/221) /content/4th_trim.mp4: 8 persons, Done. (19.2ms) Inference, (1.5ms) NMS\n",
            "video 1/1 (134/221) /content/4th_trim.mp4: 8 persons, Done. (17.0ms) Inference, (1.5ms) NMS\n",
            "video 1/1 (135/221) /content/4th_trim.mp4: 8 persons, Done. (16.6ms) Inference, (1.3ms) NMS\n",
            "video 1/1 (136/221) /content/4th_trim.mp4: 8 persons, Done. (16.5ms) Inference, (1.4ms) NMS\n",
            "video 1/1 (137/221) /content/4th_trim.mp4: 8 persons, Done. (16.7ms) Inference, (1.4ms) NMS\n",
            "video 1/1 (138/221) /content/4th_trim.mp4: 8 persons, Done. (16.5ms) Inference, (1.4ms) NMS\n",
            "video 1/1 (139/221) /content/4th_trim.mp4: 8 persons, Done. (15.8ms) Inference, (1.4ms) NMS\n",
            "video 1/1 (140/221) /content/4th_trim.mp4: 8 persons, Done. (19.7ms) Inference, (1.3ms) NMS\n",
            "video 1/1 (141/221) /content/4th_trim.mp4: 8 persons, Done. (18.9ms) Inference, (1.5ms) NMS\n",
            "video 1/1 (142/221) /content/4th_trim.mp4: 8 persons, Done. (16.2ms) Inference, (1.4ms) NMS\n",
            "video 1/1 (143/221) /content/4th_trim.mp4: 9 persons, Done. (16.2ms) Inference, (1.4ms) NMS\n",
            "video 1/1 (144/221) /content/4th_trim.mp4: 9 persons, Done. (29.3ms) Inference, (1.5ms) NMS\n",
            "video 1/1 (145/221) /content/4th_trim.mp4: 9 persons, Done. (34.5ms) Inference, (1.5ms) NMS\n",
            "video 1/1 (146/221) /content/4th_trim.mp4: 9 persons, Done. (16.8ms) Inference, (1.4ms) NMS\n",
            "video 1/1 (147/221) /content/4th_trim.mp4: 8 persons, Done. (16.0ms) Inference, (1.4ms) NMS\n",
            "video 1/1 (148/221) /content/4th_trim.mp4: 9 persons, Done. (15.6ms) Inference, (1.4ms) NMS\n",
            "video 1/1 (149/221) /content/4th_trim.mp4: 9 persons, Done. (15.7ms) Inference, (1.3ms) NMS\n",
            "video 1/1 (150/221) /content/4th_trim.mp4: 10 persons, Done. (18.6ms) Inference, (1.4ms) NMS\n",
            "video 1/1 (151/221) /content/4th_trim.mp4: 10 persons, Done. (16.8ms) Inference, (1.4ms) NMS\n",
            "video 1/1 (152/221) /content/4th_trim.mp4: 11 persons, Done. (16.6ms) Inference, (1.6ms) NMS\n",
            "video 1/1 (153/221) /content/4th_trim.mp4: 10 persons, Done. (20.9ms) Inference, (1.4ms) NMS\n",
            "video 1/1 (154/221) /content/4th_trim.mp4: 9 persons, Done. (15.8ms) Inference, (1.4ms) NMS\n",
            "video 1/1 (155/221) /content/4th_trim.mp4: 9 persons, Done. (16.0ms) Inference, (1.4ms) NMS\n",
            "video 1/1 (156/221) /content/4th_trim.mp4: 9 persons, Done. (15.5ms) Inference, (1.3ms) NMS\n",
            "video 1/1 (157/221) /content/4th_trim.mp4: 9 persons, Done. (15.5ms) Inference, (1.4ms) NMS\n",
            "video 1/1 (158/221) /content/4th_trim.mp4: 9 persons, Done. (15.5ms) Inference, (1.5ms) NMS\n",
            "video 1/1 (159/221) /content/4th_trim.mp4: 9 persons, Done. (16.0ms) Inference, (1.4ms) NMS\n",
            "video 1/1 (160/221) /content/4th_trim.mp4: 9 persons, Done. (15.5ms) Inference, (1.3ms) NMS\n",
            "video 1/1 (161/221) /content/4th_trim.mp4: 9 persons, Done. (16.5ms) Inference, (1.4ms) NMS\n",
            "video 1/1 (162/221) /content/4th_trim.mp4: 11 persons, Done. (16.9ms) Inference, (1.5ms) NMS\n",
            "video 1/1 (163/221) /content/4th_trim.mp4: 11 persons, Done. (19.6ms) Inference, (1.4ms) NMS\n",
            "video 1/1 (164/221) /content/4th_trim.mp4: 10 persons, Done. (20.1ms) Inference, (1.5ms) NMS\n",
            "video 1/1 (165/221) /content/4th_trim.mp4: 10 persons, Done. (16.9ms) Inference, (1.4ms) NMS\n",
            "video 1/1 (166/221) /content/4th_trim.mp4: 10 persons, Done. (23.6ms) Inference, (1.4ms) NMS\n",
            "video 1/1 (167/221) /content/4th_trim.mp4: 10 persons, Done. (16.9ms) Inference, (1.6ms) NMS\n",
            "video 1/1 (168/221) /content/4th_trim.mp4: 10 persons, Done. (18.7ms) Inference, (1.8ms) NMS\n",
            "video 1/1 (169/221) /content/4th_trim.mp4: 10 persons, Done. (19.2ms) Inference, (1.5ms) NMS\n",
            "video 1/1 (170/221) /content/4th_trim.mp4: 10 persons, Done. (15.9ms) Inference, (1.5ms) NMS\n",
            "video 1/1 (171/221) /content/4th_trim.mp4: 9 persons, Done. (16.7ms) Inference, (1.5ms) NMS\n",
            "video 1/1 (172/221) /content/4th_trim.mp4: 9 persons, Done. (16.0ms) Inference, (1.5ms) NMS\n",
            "video 1/1 (173/221) /content/4th_trim.mp4: 9 persons, Done. (16.5ms) Inference, (1.4ms) NMS\n",
            "video 1/1 (174/221) /content/4th_trim.mp4: 9 persons, Done. (16.2ms) Inference, (1.4ms) NMS\n",
            "video 1/1 (175/221) /content/4th_trim.mp4: 9 persons, Done. (19.3ms) Inference, (1.4ms) NMS\n",
            "video 1/1 (176/221) /content/4th_trim.mp4: 8 persons, Done. (16.1ms) Inference, (1.5ms) NMS\n",
            "video 1/1 (177/221) /content/4th_trim.mp4: 7 persons, Done. (18.0ms) Inference, (1.4ms) NMS\n",
            "video 1/1 (178/221) /content/4th_trim.mp4: 8 persons, Done. (16.5ms) Inference, (1.5ms) NMS\n",
            "video 1/1 (179/221) /content/4th_trim.mp4: 8 persons, Done. (17.1ms) Inference, (1.4ms) NMS\n",
            "video 1/1 (180/221) /content/4th_trim.mp4: 8 persons, Done. (22.5ms) Inference, (1.5ms) NMS\n",
            "video 1/1 (181/221) /content/4th_trim.mp4: 8 persons, Done. (19.3ms) Inference, (1.5ms) NMS\n",
            "video 1/1 (182/221) /content/4th_trim.mp4: 8 persons, Done. (17.5ms) Inference, (1.5ms) NMS\n",
            "video 1/1 (183/221) /content/4th_trim.mp4: 8 persons, Done. (16.5ms) Inference, (1.4ms) NMS\n",
            "video 1/1 (184/221) /content/4th_trim.mp4: 8 persons, Done. (16.5ms) Inference, (1.4ms) NMS\n",
            "video 1/1 (185/221) /content/4th_trim.mp4: 8 persons, Done. (16.5ms) Inference, (1.5ms) NMS\n",
            "video 1/1 (186/221) /content/4th_trim.mp4: 8 persons, Done. (16.4ms) Inference, (1.4ms) NMS\n",
            "video 1/1 (187/221) /content/4th_trim.mp4: 8 persons, Done. (22.6ms) Inference, (1.6ms) NMS\n",
            "video 1/1 (188/221) /content/4th_trim.mp4: 8 persons, Done. (16.7ms) Inference, (1.4ms) NMS\n",
            "video 1/1 (189/221) /content/4th_trim.mp4: 9 persons, Done. (16.6ms) Inference, (1.4ms) NMS\n",
            "video 1/1 (190/221) /content/4th_trim.mp4: 10 persons, Done. (16.5ms) Inference, (1.5ms) NMS\n",
            "video 1/1 (191/221) /content/4th_trim.mp4: 10 persons, Done. (18.9ms) Inference, (1.7ms) NMS\n",
            "video 1/1 (192/221) /content/4th_trim.mp4: 10 persons, Done. (16.5ms) Inference, (1.4ms) NMS\n",
            "video 1/1 (193/221) /content/4th_trim.mp4: 10 persons, Done. (19.1ms) Inference, (1.4ms) NMS\n",
            "video 1/1 (194/221) /content/4th_trim.mp4: 10 persons, Done. (21.1ms) Inference, (1.4ms) NMS\n",
            "video 1/1 (195/221) /content/4th_trim.mp4: 10 persons, Done. (16.5ms) Inference, (1.4ms) NMS\n",
            "video 1/1 (196/221) /content/4th_trim.mp4: 10 persons, Done. (16.5ms) Inference, (1.7ms) NMS\n",
            "video 1/1 (197/221) /content/4th_trim.mp4: 9 persons, Done. (16.5ms) Inference, (1.4ms) NMS\n",
            "video 1/1 (198/221) /content/4th_trim.mp4: 8 persons, Done. (20.9ms) Inference, (1.6ms) NMS\n",
            "video 1/1 (199/221) /content/4th_trim.mp4: 8 persons, Done. (16.5ms) Inference, (1.4ms) NMS\n",
            "video 1/1 (200/221) /content/4th_trim.mp4: 8 persons, Done. (16.5ms) Inference, (1.4ms) NMS\n",
            "video 1/1 (201/221) /content/4th_trim.mp4: 8 persons, Done. (16.7ms) Inference, (1.4ms) NMS\n",
            "video 1/1 (202/221) /content/4th_trim.mp4: 8 persons, Done. (16.5ms) Inference, (1.4ms) NMS\n",
            "video 1/1 (203/221) /content/4th_trim.mp4: 8 persons, Done. (16.5ms) Inference, (1.6ms) NMS\n",
            "video 1/1 (204/221) /content/4th_trim.mp4: 8 persons, Done. (20.0ms) Inference, (1.7ms) NMS\n",
            "video 1/1 (205/221) /content/4th_trim.mp4: 8 persons, Done. (16.5ms) Inference, (1.5ms) NMS\n",
            "video 1/1 (206/221) /content/4th_trim.mp4: 8 persons, Done. (16.5ms) Inference, (1.4ms) NMS\n",
            "video 1/1 (207/221) /content/4th_trim.mp4: 8 persons, Done. (28.1ms) Inference, (1.5ms) NMS\n",
            "video 1/1 (208/221) /content/4th_trim.mp4: 8 persons, Done. (18.4ms) Inference, (1.5ms) NMS\n",
            "video 1/1 (209/221) /content/4th_trim.mp4: 8 persons, Done. (17.1ms) Inference, (1.4ms) NMS\n",
            "video 1/1 (210/221) /content/4th_trim.mp4: 8 persons, Done. (17.8ms) Inference, (1.6ms) NMS\n",
            "video 1/1 (211/221) /content/4th_trim.mp4: 8 persons, Done. (16.5ms) Inference, (1.4ms) NMS\n",
            "video 1/1 (212/221) /content/4th_trim.mp4: 8 persons, Done. (16.5ms) Inference, (1.6ms) NMS\n",
            "video 1/1 (213/221) /content/4th_trim.mp4: 8 persons, Done. (16.5ms) Inference, (1.6ms) NMS\n",
            "video 1/1 (214/221) /content/4th_trim.mp4: 8 persons, Done. (16.5ms) Inference, (1.4ms) NMS\n",
            "video 1/1 (215/221) /content/4th_trim.mp4: 8 persons, Done. (16.6ms) Inference, (1.5ms) NMS\n",
            "video 1/1 (216/221) /content/4th_trim.mp4: 8 persons, Done. (16.5ms) Inference, (1.4ms) NMS\n",
            "video 1/1 (217/221) /content/4th_trim.mp4: 9 persons, Done. (16.5ms) Inference, (1.5ms) NMS\n",
            "video 1/1 (218/221) /content/4th_trim.mp4: 9 persons, Done. (19.4ms) Inference, (1.3ms) NMS\n",
            "video 1/1 (219/221) /content/4th_trim.mp4: 9 persons, Done. (16.5ms) Inference, (1.6ms) NMS\n",
            "video 1/1 (220/221) /content/4th_trim.mp4: 9 persons, Done. (16.5ms) Inference, (1.5ms) NMS\n",
            "video 1/1 (221/221) /content/4th_trim.mp4: 9 persons, Done. (16.5ms) Inference, (1.4ms) NMS\n",
            "Done. (11.138s)\n"
          ]
        }
      ]
    },
    {
      "cell_type": "code",
      "source": [],
      "metadata": {
        "id": "9hQpuPFFz-bZ"
      },
      "execution_count": null,
      "outputs": []
    }
  ]
}