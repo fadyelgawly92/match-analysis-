{
  "cells": [
    {
      "cell_type": "code",
      "execution_count": null,
      "metadata": {
        "colab": {
          "base_uri": "https://localhost:8080/"
        },
        "id": "5rq9IPHj_DGF",
        "outputId": "6cb6a468-ab4a-44ed-beb6-2a5e3728e70d"
      },
      "outputs": [
        {
          "output_type": "stream",
          "name": "stdout",
          "text": [
            "Looking in indexes: https://pypi.org/simple, https://us-python.pkg.dev/colab-wheels/public/simple/\n",
            "Looking in links: https://www.paddlepaddle.org.cn/whl/linux/mkl/avx/stable.html\n",
            "\u001b[33mWARNING: Retrying (Retry(total=4, connect=None, read=None, redirect=None, status=None)) after connection broken by 'ReadTimeoutError(\"HTTPSConnectionPool(host='www.paddlepaddle.org.cn', port=443): Read timed out. (read timeout=15)\")': /whl/linux/mkl/avx/stable.html\u001b[0m\n",
            "Collecting paddlepaddle-gpu==2.2.1.post110\n",
            "  Downloading https://paddle-wheel.bj.bcebos.com/2.2.1/linux/linux-gpu-cuda11.0-cudnn8-mkl-gcc8.2-avx/paddlepaddle_gpu-2.2.1.post110-cp37-cp37m-linux_x86_64.whl (399.1 MB)\n",
            "\u001b[K     |████████████████████████████████| 399.1 MB 34 kB/s \n",
            "\u001b[?25hRequirement already satisfied: Pillow in /usr/local/lib/python3.7/dist-packages (from paddlepaddle-gpu==2.2.1.post110) (7.1.2)\n",
            "Requirement already satisfied: decorator in /usr/local/lib/python3.7/dist-packages (from paddlepaddle-gpu==2.2.1.post110) (4.4.2)\n",
            "Requirement already satisfied: numpy>=1.13 in /usr/local/lib/python3.7/dist-packages (from paddlepaddle-gpu==2.2.1.post110) (1.21.6)\n",
            "Requirement already satisfied: astor in /usr/local/lib/python3.7/dist-packages (from paddlepaddle-gpu==2.2.1.post110) (0.8.1)\n",
            "Requirement already satisfied: protobuf>=3.1.0 in /usr/local/lib/python3.7/dist-packages (from paddlepaddle-gpu==2.2.1.post110) (3.17.3)\n",
            "Requirement already satisfied: requests>=2.20.0 in /usr/local/lib/python3.7/dist-packages (from paddlepaddle-gpu==2.2.1.post110) (2.23.0)\n",
            "Requirement already satisfied: six in /usr/local/lib/python3.7/dist-packages (from paddlepaddle-gpu==2.2.1.post110) (1.15.0)\n",
            "Requirement already satisfied: chardet<4,>=3.0.2 in /usr/local/lib/python3.7/dist-packages (from requests>=2.20.0->paddlepaddle-gpu==2.2.1.post110) (3.0.4)\n",
            "Requirement already satisfied: urllib3!=1.25.0,!=1.25.1,<1.26,>=1.21.1 in /usr/local/lib/python3.7/dist-packages (from requests>=2.20.0->paddlepaddle-gpu==2.2.1.post110) (1.24.3)\n",
            "Requirement already satisfied: idna<3,>=2.5 in /usr/local/lib/python3.7/dist-packages (from requests>=2.20.0->paddlepaddle-gpu==2.2.1.post110) (2.10)\n",
            "Requirement already satisfied: certifi>=2017.4.17 in /usr/local/lib/python3.7/dist-packages (from requests>=2.20.0->paddlepaddle-gpu==2.2.1.post110) (2022.9.24)\n",
            "Installing collected packages: paddlepaddle-gpu\n",
            "Successfully installed paddlepaddle-gpu-2.2.1.post110\n"
          ]
        }
      ],
      "source": [
        "# https://www.paddlepaddle.org.cn/install/quick?docurl=/documentation/docs/zh/install/pip/linux-pip.html\n",
        "!python -m pip install paddlepaddle-gpu==2.2.1.post110 -f https://www.paddlepaddle.org.cn/whl/linux/mkl/avx/stable.html"
      ]
    },
    {
      "cell_type": "code",
      "source": [
        "!pip install atari-py==0.1.15\n",
        "!pip install gym=0.12.0"
      ],
      "metadata": {
        "colab": {
          "base_uri": "https://localhost:8080/"
        },
        "id": "I__52hU2TmLj",
        "outputId": "e0fb29d4-47e4-4c9d-99dd-30f61deec9f5"
      },
      "execution_count": null,
      "outputs": [
        {
          "output_type": "stream",
          "name": "stdout",
          "text": [
            "Looking in indexes: https://pypi.org/simple, https://us-python.pkg.dev/colab-wheels/public/simple/\n",
            "Collecting atari-py==0.1.15\n",
            "  Downloading atari_py-0.1.15-cp37-cp37m-manylinux1_x86_64.whl (2.6 MB)\n",
            "\u001b[K     |████████████████████████████████| 2.6 MB 15.1 MB/s \n",
            "\u001b[?25hRequirement already satisfied: six in /usr/local/lib/python3.7/dist-packages (from atari-py==0.1.15) (1.15.0)\n",
            "Requirement already satisfied: numpy in /usr/local/lib/python3.7/dist-packages (from atari-py==0.1.15) (1.21.6)\n",
            "Installing collected packages: atari-py\n",
            "  Attempting uninstall: atari-py\n",
            "    Found existing installation: atari-py 0.2.9\n",
            "    Uninstalling atari-py-0.2.9:\n",
            "      Successfully uninstalled atari-py-0.2.9\n",
            "Successfully installed atari-py-0.1.15\n",
            "\u001b[31mERROR: Invalid requirement: 'gym=0.12.0'\n",
            "Hint: = is not a valid operator. Did you mean == ?\u001b[0m\n"
          ]
        }
      ]
    },
    {
      "cell_type": "code",
      "execution_count": null,
      "metadata": {
        "id": "7zHCH-iB_URM",
        "colab": {
          "base_uri": "https://localhost:8080/"
        },
        "outputId": "e9209e92-7fb3-4f99-8dfc-4f5ebd06eae5"
      },
      "outputs": [
        {
          "output_type": "stream",
          "name": "stdout",
          "text": [
            "Running verify PaddlePaddle program ... \n",
            "PaddlePaddle works well on 1 GPU.\n",
            "PaddlePaddle works well on 1 GPUs.\n",
            "PaddlePaddle is installed successfully! Let's start deep learning with PaddlePaddle now.\n"
          ]
        }
      ],
      "source": [
        "import paddle\n",
        "paddle.utils.run_check()"
      ]
    },
    {
      "cell_type": "code",
      "execution_count": null,
      "metadata": {
        "id": "iMKktEZy02H0",
        "colab": {
          "base_uri": "https://localhost:8080/"
        },
        "outputId": "97195571-99f3-46c4-8b6a-d91f577e6bd9"
      },
      "outputs": [
        {
          "output_type": "stream",
          "name": "stdout",
          "text": [
            "Cloning into 'PaddleVideo'...\n",
            "remote: Enumerating objects: 20450, done.\u001b[K\n",
            "remote: Counting objects: 100% (1490/1490), done.\u001b[K\n",
            "remote: Compressing objects: 100% (550/550), done.\u001b[K\n",
            "remote: Total 20450 (delta 1047), reused 1313 (delta 939), pack-reused 18960\u001b[K\n",
            "Receiving objects: 100% (20450/20450), 108.42 MiB | 18.53 MiB/s, done.\n",
            "Resolving deltas: 100% (13917/13917), done.\n",
            "Checking out files: 100% (1039/1039), done.\n"
          ]
        }
      ],
      "source": [
        "! git clone https://github.com/PaddlePaddle/PaddleVideo.git"
      ]
    },
    {
      "cell_type": "code",
      "execution_count": null,
      "metadata": {
        "id": "7m_5Lj7904oN",
        "colab": {
          "base_uri": "https://localhost:8080/"
        },
        "outputId": "12c6324d-b8a2-4ece-da68-44ca0f32524b"
      },
      "outputs": [
        {
          "output_type": "stream",
          "name": "stdout",
          "text": [
            "/content/PaddleVideo\n"
          ]
        }
      ],
      "source": [
        "%cd PaddleVideo/"
      ]
    },
    {
      "cell_type": "code",
      "execution_count": null,
      "metadata": {
        "colab": {
          "base_uri": "https://localhost:8080/",
          "height": 834
        },
        "id": "tk9QthG51O7H",
        "outputId": "2d11854a-e66c-4c1c-f0d7-d0b7a408ae6e"
      },
      "outputs": [
        {
          "output_type": "stream",
          "name": "stdout",
          "text": [
            "Looking in indexes: https://pypi.org/simple, https://us-python.pkg.dev/colab-wheels/public/simple/\n",
            "Requirement already satisfied: numpy in /usr/local/lib/python3.7/dist-packages (from -r requirements.txt (line 1)) (1.21.6)\n",
            "Requirement already satisfied: pandas in /usr/local/lib/python3.7/dist-packages (from -r requirements.txt (line 2)) (1.3.5)\n",
            "Requirement already satisfied: tqdm in /usr/local/lib/python3.7/dist-packages (from -r requirements.txt (line 3)) (4.64.1)\n",
            "Requirement already satisfied: PyYAML>=5.1 in /usr/local/lib/python3.7/dist-packages (from -r requirements.txt (line 4)) (6.0)\n",
            "Collecting opencv-python==4.2.0.32\n",
            "  Downloading opencv_python-4.2.0.32-cp37-cp37m-manylinux1_x86_64.whl (28.2 MB)\n",
            "\u001b[K     |████████████████████████████████| 28.2 MB 1.4 MB/s \n",
            "\u001b[?25hCollecting decord==0.4.2\n",
            "  Downloading decord-0.4.2-py2.py3-none-manylinux1_x86_64.whl (11.8 MB)\n",
            "\u001b[K     |████████████████████████████████| 11.8 MB 54.3 MB/s \n",
            "\u001b[?25hCollecting av==8.0.3\n",
            "  Downloading av-8.0.3-cp37-cp37m-manylinux2010_x86_64.whl (37.2 MB)\n",
            "\u001b[K     |████████████████████████████████| 37.2 MB 177 kB/s \n",
            "\u001b[?25hCollecting scipy==1.6.3\n",
            "  Downloading scipy-1.6.3-cp37-cp37m-manylinux1_x86_64.whl (27.4 MB)\n",
            "\u001b[K     |████████████████████████████████| 27.4 MB 1.3 MB/s \n",
            "\u001b[?25hRequirement already satisfied: scikit-image in /usr/local/lib/python3.7/dist-packages (from -r requirements.txt (line 9)) (0.18.3)\n",
            "Requirement already satisfied: pytz>=2017.3 in /usr/local/lib/python3.7/dist-packages (from pandas->-r requirements.txt (line 2)) (2022.5)\n",
            "Requirement already satisfied: python-dateutil>=2.7.3 in /usr/local/lib/python3.7/dist-packages (from pandas->-r requirements.txt (line 2)) (2.8.2)\n",
            "Requirement already satisfied: six>=1.5 in /usr/local/lib/python3.7/dist-packages (from python-dateutil>=2.7.3->pandas->-r requirements.txt (line 2)) (1.15.0)\n",
            "Requirement already satisfied: tifffile>=2019.7.26 in /usr/local/lib/python3.7/dist-packages (from scikit-image->-r requirements.txt (line 9)) (2021.11.2)\n",
            "Requirement already satisfied: matplotlib!=3.0.0,>=2.0.0 in /usr/local/lib/python3.7/dist-packages (from scikit-image->-r requirements.txt (line 9)) (3.2.2)\n",
            "Requirement already satisfied: pillow!=7.1.0,!=7.1.1,>=4.3.0 in /usr/local/lib/python3.7/dist-packages (from scikit-image->-r requirements.txt (line 9)) (7.1.2)\n",
            "Requirement already satisfied: imageio>=2.3.0 in /usr/local/lib/python3.7/dist-packages (from scikit-image->-r requirements.txt (line 9)) (2.9.0)\n",
            "Requirement already satisfied: networkx>=2.0 in /usr/local/lib/python3.7/dist-packages (from scikit-image->-r requirements.txt (line 9)) (2.6.3)\n",
            "Requirement already satisfied: PyWavelets>=1.1.1 in /usr/local/lib/python3.7/dist-packages (from scikit-image->-r requirements.txt (line 9)) (1.3.0)\n",
            "Requirement already satisfied: pyparsing!=2.0.4,!=2.1.2,!=2.1.6,>=2.0.1 in /usr/local/lib/python3.7/dist-packages (from matplotlib!=3.0.0,>=2.0.0->scikit-image->-r requirements.txt (line 9)) (3.0.9)\n",
            "Requirement already satisfied: cycler>=0.10 in /usr/local/lib/python3.7/dist-packages (from matplotlib!=3.0.0,>=2.0.0->scikit-image->-r requirements.txt (line 9)) (0.11.0)\n",
            "Requirement already satisfied: kiwisolver>=1.0.1 in /usr/local/lib/python3.7/dist-packages (from matplotlib!=3.0.0,>=2.0.0->scikit-image->-r requirements.txt (line 9)) (1.4.4)\n",
            "Requirement already satisfied: typing-extensions in /usr/local/lib/python3.7/dist-packages (from kiwisolver>=1.0.1->matplotlib!=3.0.0,>=2.0.0->scikit-image->-r requirements.txt (line 9)) (4.1.1)\n",
            "Installing collected packages: scipy, opencv-python, decord, av\n",
            "  Attempting uninstall: scipy\n",
            "    Found existing installation: scipy 1.7.3\n",
            "    Uninstalling scipy-1.7.3:\n",
            "      Successfully uninstalled scipy-1.7.3\n",
            "  Attempting uninstall: opencv-python\n",
            "    Found existing installation: opencv-python 4.6.0.66\n",
            "    Uninstalling opencv-python-4.6.0.66:\n",
            "      Successfully uninstalled opencv-python-4.6.0.66\n",
            "Successfully installed av-8.0.3 decord-0.4.2 opencv-python-4.2.0.32 scipy-1.6.3\n"
          ]
        },
        {
          "output_type": "display_data",
          "data": {
            "application/vnd.colab-display-data+json": {
              "pip_warning": {
                "packages": [
                  "cv2"
                ]
              }
            }
          },
          "metadata": {}
        }
      ],
      "source": [
        "!pip3 install -r requirements.txt"
      ]
    },
    {
      "cell_type": "code",
      "source": [
        "! pip3.7 install ppvideo==2.3.0"
      ],
      "metadata": {
        "colab": {
          "base_uri": "https://localhost:8080/"
        },
        "id": "Qs9M2pD8KuhF",
        "outputId": "98bbb1e5-48b2-480e-d123-4659bf4c2fb5"
      },
      "execution_count": null,
      "outputs": [
        {
          "output_type": "stream",
          "name": "stdout",
          "text": [
            "Looking in indexes: https://pypi.org/simple, https://us-python.pkg.dev/colab-wheels/public/simple/\n",
            "Collecting ppvideo==2.3.0\n",
            "  Downloading ppvideo-2.3.0-py3-none-any.whl (479 kB)\n",
            "\u001b[K     |████████████████████████████████| 479 kB 13.0 MB/s \n",
            "\u001b[?25hRequirement already satisfied: av==8.0.3 in /usr/local/lib/python3.7/dist-packages (from ppvideo==2.3.0) (8.0.3)\n",
            "Requirement already satisfied: scikit-image in /usr/local/lib/python3.7/dist-packages (from ppvideo==2.3.0) (0.18.3)\n",
            "Requirement already satisfied: tqdm in /usr/local/lib/python3.7/dist-packages (from ppvideo==2.3.0) (4.64.1)\n",
            "Requirement already satisfied: opencv-python==4.2.0.32 in /usr/local/lib/python3.7/dist-packages (from ppvideo==2.3.0) (4.2.0.32)\n",
            "Requirement already satisfied: PyYAML>=5.1 in /usr/local/lib/python3.7/dist-packages (from ppvideo==2.3.0) (6.0)\n",
            "Requirement already satisfied: numpy in /usr/local/lib/python3.7/dist-packages (from ppvideo==2.3.0) (1.21.6)\n",
            "Requirement already satisfied: pandas in /usr/local/lib/python3.7/dist-packages (from ppvideo==2.3.0) (1.3.5)\n",
            "Requirement already satisfied: scipy==1.6.3 in /usr/local/lib/python3.7/dist-packages (from ppvideo==2.3.0) (1.6.3)\n",
            "Requirement already satisfied: decord==0.4.2 in /usr/local/lib/python3.7/dist-packages (from ppvideo==2.3.0) (0.4.2)\n",
            "Requirement already satisfied: python-dateutil>=2.7.3 in /usr/local/lib/python3.7/dist-packages (from pandas->ppvideo==2.3.0) (2.8.2)\n",
            "Requirement already satisfied: pytz>=2017.3 in /usr/local/lib/python3.7/dist-packages (from pandas->ppvideo==2.3.0) (2022.5)\n",
            "Requirement already satisfied: six>=1.5 in /usr/local/lib/python3.7/dist-packages (from python-dateutil>=2.7.3->pandas->ppvideo==2.3.0) (1.15.0)\n",
            "Requirement already satisfied: pillow!=7.1.0,!=7.1.1,>=4.3.0 in /usr/local/lib/python3.7/dist-packages (from scikit-image->ppvideo==2.3.0) (7.1.2)\n",
            "Requirement already satisfied: imageio>=2.3.0 in /usr/local/lib/python3.7/dist-packages (from scikit-image->ppvideo==2.3.0) (2.9.0)\n",
            "Requirement already satisfied: PyWavelets>=1.1.1 in /usr/local/lib/python3.7/dist-packages (from scikit-image->ppvideo==2.3.0) (1.3.0)\n",
            "Requirement already satisfied: networkx>=2.0 in /usr/local/lib/python3.7/dist-packages (from scikit-image->ppvideo==2.3.0) (2.6.3)\n",
            "Requirement already satisfied: matplotlib!=3.0.0,>=2.0.0 in /usr/local/lib/python3.7/dist-packages (from scikit-image->ppvideo==2.3.0) (3.2.2)\n",
            "Requirement already satisfied: tifffile>=2019.7.26 in /usr/local/lib/python3.7/dist-packages (from scikit-image->ppvideo==2.3.0) (2021.11.2)\n",
            "Requirement already satisfied: kiwisolver>=1.0.1 in /usr/local/lib/python3.7/dist-packages (from matplotlib!=3.0.0,>=2.0.0->scikit-image->ppvideo==2.3.0) (1.4.4)\n",
            "Requirement already satisfied: cycler>=0.10 in /usr/local/lib/python3.7/dist-packages (from matplotlib!=3.0.0,>=2.0.0->scikit-image->ppvideo==2.3.0) (0.11.0)\n",
            "Requirement already satisfied: pyparsing!=2.0.4,!=2.1.2,!=2.1.6,>=2.0.1 in /usr/local/lib/python3.7/dist-packages (from matplotlib!=3.0.0,>=2.0.0->scikit-image->ppvideo==2.3.0) (3.0.9)\n",
            "Requirement already satisfied: typing-extensions in /usr/local/lib/python3.7/dist-packages (from kiwisolver>=1.0.1->matplotlib!=3.0.0,>=2.0.0->scikit-image->ppvideo==2.3.0) (4.1.1)\n",
            "Installing collected packages: ppvideo\n",
            "Successfully installed ppvideo-2.3.0\n"
          ]
        }
      ]
    },
    {
      "cell_type": "code",
      "execution_count": null,
      "metadata": {
        "colab": {
          "base_uri": "https://localhost:8080/"
        },
        "id": "u5m7LqREdx9j",
        "outputId": "51027e9e-9772-4b37-ae0c-9a799d8bfbfc"
      },
      "outputs": [
        {
          "output_type": "stream",
          "name": "stdout",
          "text": [
            "/content/PaddleVideo/applications/FootballAction/datasets/EuroCup2016\n"
          ]
        }
      ],
      "source": [
        "%cd /content/PaddleVideo/applications/FootballAction/datasets/EuroCup2016"
      ]
    },
    {
      "cell_type": "code",
      "execution_count": null,
      "metadata": {
        "id": "7fi4sc1sd0HS",
        "colab": {
          "base_uri": "https://localhost:8080/"
        },
        "outputId": "d73e794e-7dc3-40d4-e86f-d34d5805cfec"
      },
      "outputs": [
        {
          "output_type": "stream",
          "name": "stdout",
          "text": [
            "--2022-11-03 16:34:35--  https://bj.bcebos.com/v1/tmt-pub/datasets/EuroCup2016/63e51df254d2402fac703b6c4fdb4ea9.mp4\n",
            "Resolving bj.bcebos.com (bj.bcebos.com)... 103.235.46.61, 2409:8c04:1001:1002:0:ff:b001:368a\n",
            "Connecting to bj.bcebos.com (bj.bcebos.com)|103.235.46.61|:443... connected.\n",
            "HTTP request sent, awaiting response... 200 OK\n",
            "Length: 1562942061 (1.5G) [video/mp4]\n",
            "Saving to: ‘63e51df254d2402fac703b6c4fdb4ea9.mp4’\n",
            "\n",
            "63e51df254d2402fac7 100%[===================>]   1.46G  11.1MB/s    in 2m 35s  \n",
            "\n",
            "2022-11-03 16:37:12 (9.61 MB/s) - ‘63e51df254d2402fac703b6c4fdb4ea9.mp4’ saved [1562942061/1562942061]\n",
            "\n",
            "--2022-11-03 16:37:12--  https://bj.bcebos.com/v1/tmt-pub/datasets/EuroCup2016/76b5f7ee28d942988c6b224bfac136bd.mp4\n",
            "Resolving bj.bcebos.com (bj.bcebos.com)... 103.235.46.61, 2409:8c04:1001:1002:0:ff:b001:368a\n",
            "Connecting to bj.bcebos.com (bj.bcebos.com)|103.235.46.61|:443... connected.\n",
            "HTTP request sent, awaiting response... 200 OK\n",
            "Length: 1560571999 (1.5G) [video/mp4]\n",
            "Saving to: ‘76b5f7ee28d942988c6b224bfac136bd.mp4’\n",
            "\n",
            "2988c6b224bfac136bd  29%[====>               ] 444.52M  10.2MB/s    eta 2m 43s ^C\n"
          ]
        }
      ],
      "source": [
        "!sh download_dataset.sh"
      ]
    },
    {
      "cell_type": "code",
      "execution_count": null,
      "metadata": {
        "colab": {
          "base_uri": "https://localhost:8080/"
        },
        "id": "DN8fmC1O6Ktg",
        "outputId": "9798b130-de76-4113-e8df-69fbb0e3844c"
      },
      "outputs": [
        {
          "output_type": "stream",
          "name": "stdout",
          "text": [
            "/content/PaddleVideo/applications/FootballAction/datasets/script\n"
          ]
        }
      ],
      "source": [
        "%cd /content/PaddleVideo/applications/FootballAction/datasets/script"
      ]
    },
    {
      "cell_type": "code",
      "execution_count": null,
      "metadata": {
        "colab": {
          "base_uri": "https://localhost:8080/"
        },
        "id": "yD70J-p56PgD",
        "outputId": "2914904c-adff-43b7-b1f0-04340d9662b2"
      },
      "outputs": [
        {
          "output_type": "stream",
          "name": "stdout",
          "text": [
            "mp4/big_video.mp4\n",
            "done\n"
          ]
        }
      ],
      "source": [
        "!python get_frames_pcm.py"
      ]
    },
    {
      "cell_type": "code",
      "execution_count": null,
      "metadata": {
        "colab": {
          "base_uri": "https://localhost:8080/"
        },
        "id": "4EkJbC6Wbvk7",
        "outputId": "1311adc2-72e7-48a2-ae68-a76ffbf307e0"
      },
      "outputs": [
        {
          "output_type": "stream",
          "name": "stdout",
          "text": [
            "/content/PaddleVideo/applications/FootballAction/checkpoints\n"
          ]
        }
      ],
      "source": [
        "%cd /content/PaddleVideo/applications/FootballAction/checkpoints"
      ]
    },
    {
      "cell_type": "code",
      "execution_count": null,
      "metadata": {
        "colab": {
          "base_uri": "https://localhost:8080/"
        },
        "id": "Hgr3ZnHCcHFJ",
        "outputId": "54180519-ff3c-4515-e6b8-3976dd691fa8"
      },
      "outputs": [
        {
          "output_type": "stream",
          "name": "stdout",
          "text": [
            "--2022-11-03 15:59:38--  https://videotag.bj.bcebos.com/PaddleVideo-release2.1/FootballAction/audio.tar\n",
            "Resolving videotag.bj.bcebos.com (videotag.bj.bcebos.com)... 103.235.46.61, 2409:8c04:1001:1002:0:ff:b001:368a\n",
            "Connecting to videotag.bj.bcebos.com (videotag.bj.bcebos.com)|103.235.46.61|:443... connected.\n",
            "HTTP request sent, awaiting response... 200 OK\n",
            "Length: 36945920 (35M) [application/x-tar]\n",
            "Saving to: ‘audio.tar’\n",
            "\n",
            "audio.tar           100%[===================>]  35.23M  3.78MB/s    in 29s     \n",
            "\n",
            "2022-11-03 16:00:10 (1.20 MB/s) - ‘audio.tar’ saved [36945920/36945920]\n",
            "\n",
            "--2022-11-03 16:00:10--  https://videotag.bj.bcebos.com/PaddleVideo-release2.1/FootballAction/pptsm.tar\n",
            "Resolving videotag.bj.bcebos.com (videotag.bj.bcebos.com)... 103.235.46.61, 2409:8c04:1001:1002:0:ff:b001:368a\n",
            "Connecting to videotag.bj.bcebos.com (videotag.bj.bcebos.com)|103.235.46.61|:443... connected.\n",
            "HTTP request sent, awaiting response... 200 OK\n",
            "Length: 95621120 (91M) [application/x-tar]\n",
            "Saving to: ‘pptsm.tar’\n",
            "\n",
            "pptsm.tar           100%[===================>]  91.19M  10.1MB/s    in 18s     \n",
            "\n",
            "2022-11-03 16:00:30 (5.04 MB/s) - ‘pptsm.tar’ saved [95621120/95621120]\n",
            "\n",
            "--2022-11-03 16:00:30--  https://videotag.bj.bcebos.com/PaddleVideo-release2.1/FootballAction/bmn.tar\n",
            "Resolving videotag.bj.bcebos.com (videotag.bj.bcebos.com)... 103.235.46.61, 2409:8c04:1001:1002:0:ff:b001:368a\n",
            "Connecting to videotag.bj.bcebos.com (videotag.bj.bcebos.com)|103.235.46.61|:443... connected.\n",
            "HTTP request sent, awaiting response... 200 OK\n",
            "Length: 1037015040 (989M) [application/x-tar]\n",
            "Saving to: ‘bmn.tar’\n",
            "\n",
            "bmn.tar             100%[===================>] 988.97M  9.94MB/s    in 2m 7s   \n",
            "\n",
            "2022-11-03 16:02:39 (7.77 MB/s) - ‘bmn.tar’ saved [1037015040/1037015040]\n",
            "\n",
            "--2022-11-03 16:02:39--  https://videotag.bj.bcebos.com/PaddleVideo-release2.1/FootballAction/lstm.tar\n",
            "Resolving videotag.bj.bcebos.com (videotag.bj.bcebos.com)... 103.235.46.61, 2409:8c04:1001:1002:0:ff:b001:368a\n",
            "Connecting to videotag.bj.bcebos.com (videotag.bj.bcebos.com)|103.235.46.61|:443... connected.\n",
            "HTTP request sent, awaiting response... 200 OK\n",
            "Length: 223375360 (213M) [application/x-tar]\n",
            "Saving to: ‘lstm.tar’\n",
            "\n",
            "lstm.tar            100%[===================>] 213.03M  9.42MB/s    in 35s     \n",
            "\n",
            "2022-11-03 16:03:18 (6.05 MB/s) - ‘lstm.tar’ saved [223375360/223375360]\n",
            "\n",
            "AUDIO/\n",
            "AUDIO/__param__\n",
            "AUDIO/__model__\n",
            "ppTSM/\n",
            "ppTSM/ppTSM.pdmodel\n",
            "ppTSM/ppTSM.pdiparams.info\n",
            "ppTSM/ppTSM.pdiparams\n",
            "BMN/\n",
            "BMN/__param__\n",
            "BMN/__model__\n",
            "LSTM/\n",
            "LSTM/__param__\n",
            "LSTM/__model__\n"
          ]
        }
      ],
      "source": [
        "!sh download.sh"
      ]
    },
    {
      "cell_type": "code",
      "execution_count": null,
      "metadata": {
        "colab": {
          "base_uri": "https://localhost:8080/"
        },
        "id": "Snvu6XZC1-g3",
        "outputId": "d7fd789a-115c-4b38-f9fe-d8f1f3aefcc9"
      },
      "outputs": [
        {
          "output_type": "stream",
          "name": "stdout",
          "text": [
            "/content/PaddleVideo/applications/FootballAction/predict\n"
          ]
        }
      ],
      "source": [
        "%cd /content/PaddleVideo/applications/FootballAction/predict"
      ]
    },
    {
      "cell_type": "code",
      "execution_count": null,
      "metadata": {
        "colab": {
          "base_uri": "https://localhost:8080/"
        },
        "id": "RbfmwsuM2Azq",
        "outputId": "225369c4-bf8b-4203-cb3c-67fbde5ea17e"
      },
      "outputs": [
        {
          "output_type": "stream",
          "name": "stdout",
          "text": [
            "W1103 16:56:32.848491  1132 analysis_predictor.cc:798] The one-time configuration of analysis predictor failed, which may be due to native predictor called first and its configurations taken effect.\n",
            "\u001b[1m\u001b[35m--- Running analysis [ir_graph_build_pass]\u001b[0m\n",
            "\u001b[1m\u001b[35m--- Running analysis [ir_graph_clean_pass]\u001b[0m\n",
            "\u001b[1m\u001b[35m--- Running analysis [ir_analysis_pass]\u001b[0m\n",
            "\u001b[32m--- Running IR pass [is_test_pass]\u001b[0m\n",
            "\u001b[32m--- Running IR pass [simplify_with_basic_ops_pass]\u001b[0m\n",
            "\u001b[32m--- Running IR pass [conv_affine_channel_fuse_pass]\u001b[0m\n",
            "\u001b[32m--- Running IR pass [conv_eltwiseadd_affine_channel_fuse_pass]\u001b[0m\n",
            "\u001b[32m--- Running IR pass [conv_bn_fuse_pass]\u001b[0m\n",
            "I1103 16:56:32.996731  1132 fuse_pass_base.cc:57] ---  detected 55 subgraphs\n",
            "\u001b[32m--- Running IR pass [conv_eltwiseadd_bn_fuse_pass]\u001b[0m\n",
            "\u001b[32m--- Running IR pass [embedding_eltwise_layernorm_fuse_pass]\u001b[0m\n",
            "\u001b[32m--- Running IR pass [multihead_matmul_fuse_pass_v2]\u001b[0m\n",
            "\u001b[32m--- Running IR pass [squeeze2_matmul_fuse_pass]\u001b[0m\n",
            "\u001b[32m--- Running IR pass [reshape2_matmul_fuse_pass]\u001b[0m\n",
            "\u001b[32m--- Running IR pass [flatten2_matmul_fuse_pass]\u001b[0m\n",
            "\u001b[32m--- Running IR pass [map_matmul_v2_to_mul_pass]\u001b[0m\n",
            "\u001b[32m--- Running IR pass [map_matmul_v2_to_matmul_pass]\u001b[0m\n",
            "\u001b[32m--- Running IR pass [map_matmul_to_mul_pass]\u001b[0m\n",
            "I1103 16:56:33.009198  1132 fuse_pass_base.cc:57] ---  detected 1 subgraphs\n",
            "\u001b[32m--- Running IR pass [fc_fuse_pass]\u001b[0m\n",
            "I1103 16:56:33.010299  1132 fuse_pass_base.cc:57] ---  detected 1 subgraphs\n",
            "\u001b[32m--- Running IR pass [fc_elementwise_layernorm_fuse_pass]\u001b[0m\n",
            "\u001b[32m--- Running IR pass [conv_elementwise_add_fuse_pass]\u001b[0m\n",
            "\u001b[32m--- Running IR pass [transpose_flatten_concat_fuse_pass]\u001b[0m\n",
            "\u001b[32m--- Running IR pass [runtime_context_cache_pass]\u001b[0m\n",
            "\u001b[1m\u001b[35m--- Running analysis [ir_params_sync_among_devices_pass]\u001b[0m\n",
            "I1103 16:56:33.026774  1132 ir_params_sync_among_devices_pass.cc:45] Sync params from CPU to GPU\n",
            "\u001b[1m\u001b[35m--- Running analysis [adjust_cudnn_workspace_size_pass]\u001b[0m\n",
            "\u001b[1m\u001b[35m--- Running analysis [inference_op_replace_pass]\u001b[0m\n",
            "\u001b[1m\u001b[35m--- Running analysis [memory_optimize_pass]\u001b[0m\n",
            "I1103 16:56:33.084739  1132 memory_optimize_pass.cc:216] Cluster name : batch_norm_11.tmp_2  size: 802816\n",
            "I1103 16:56:33.084769  1132 memory_optimize_pass.cc:216] Cluster name : elementwise_add_2  size: 3211264\n",
            "I1103 16:56:33.084775  1132 memory_optimize_pass.cc:216] Cluster name : imgs  size: 4816896\n",
            "I1103 16:56:33.084780  1132 memory_optimize_pass.cc:216] Cluster name : temporal_shift_2.tmp_0  size: 3211264\n",
            "I1103 16:56:33.084785  1132 memory_optimize_pass.cc:216] Cluster name : batch_norm_5.tmp_2  size: 3211264\n",
            "\u001b[1m\u001b[35m--- Running analysis [ir_graph_to_program_pass]\u001b[0m\n",
            "I1103 16:56:33.127640  1132 analysis_predictor.cc:717] ======= optimize end =======\n",
            "I1103 16:56:33.127751  1132 naive_executor.cc:98] ---  skip [feed], feed -> imgs\n",
            "I1103 16:56:33.129285  1132 naive_executor.cc:98] ---  skip [save_infer_model/scale_0.tmp_1], fetch -> fetch\n",
            "I1103 16:56:33.129308  1132 naive_executor.cc:98] ---  skip [save_infer_model/scale_1.tmp_1], fetch -> fetch\n",
            "\u001b[1m\u001b[35m--- Running analysis [ir_graph_build_pass]\u001b[0m\n",
            "\u001b[1m\u001b[35m--- Running analysis [ir_graph_clean_pass]\u001b[0m\n",
            "\u001b[1m\u001b[35m--- Running analysis [ir_analysis_pass]\u001b[0m\n",
            "\u001b[32m--- Running IR pass [is_test_pass]\u001b[0m\n",
            "\u001b[32m--- Running IR pass [simplify_with_basic_ops_pass]\u001b[0m\n",
            "\u001b[32m--- Running IR pass [conv_affine_channel_fuse_pass]\u001b[0m\n",
            "\u001b[32m--- Running IR pass [conv_eltwiseadd_affine_channel_fuse_pass]\u001b[0m\n",
            "\u001b[32m--- Running IR pass [conv_bn_fuse_pass]\u001b[0m\n",
            "\u001b[32m--- Running IR pass [conv_eltwiseadd_bn_fuse_pass]\u001b[0m\n",
            "\u001b[32m--- Running IR pass [embedding_eltwise_layernorm_fuse_pass]\u001b[0m\n",
            "\u001b[32m--- Running IR pass [multihead_matmul_fuse_pass_v2]\u001b[0m\n",
            "\u001b[32m--- Running IR pass [squeeze2_matmul_fuse_pass]\u001b[0m\n",
            "\u001b[32m--- Running IR pass [reshape2_matmul_fuse_pass]\u001b[0m\n",
            "\u001b[32m--- Running IR pass [flatten2_matmul_fuse_pass]\u001b[0m\n",
            "\u001b[32m--- Running IR pass [map_matmul_v2_to_mul_pass]\u001b[0m\n",
            "\u001b[32m--- Running IR pass [map_matmul_v2_to_matmul_pass]\u001b[0m\n",
            "\u001b[32m--- Running IR pass [map_matmul_to_mul_pass]\u001b[0m\n",
            "\u001b[32m--- Running IR pass [fc_fuse_pass]\u001b[0m\n",
            "\u001b[32m--- Running IR pass [fc_elementwise_layernorm_fuse_pass]\u001b[0m\n",
            "\u001b[32m--- Running IR pass [conv_elementwise_add_fuse_pass]\u001b[0m\n",
            "\u001b[32m--- Running IR pass [transpose_flatten_concat_fuse_pass]\u001b[0m\n",
            "\u001b[32m--- Running IR pass [runtime_context_cache_pass]\u001b[0m\n",
            "\u001b[1m\u001b[35m--- Running analysis [ir_params_sync_among_devices_pass]\u001b[0m\n",
            "I1103 16:56:33.145854  1132 ir_params_sync_among_devices_pass.cc:45] Sync params from CPU to GPU\n",
            "\u001b[1m\u001b[35m--- Running analysis [adjust_cudnn_workspace_size_pass]\u001b[0m\n",
            "\u001b[1m\u001b[35m--- Running analysis [inference_op_replace_pass]\u001b[0m\n",
            "\u001b[1m\u001b[35m--- Running analysis [memory_optimize_pass]\u001b[0m\n",
            "I1103 16:56:33.161852  1132 memory_optimize_pass.cc:216] Cluster name : audio  size: 12800\n",
            "I1103 16:56:33.161875  1132 memory_optimize_pass.cc:216] Cluster name : pool2d_0.tmp_0  size: 204800\n",
            "I1103 16:56:33.161880  1132 memory_optimize_pass.cc:216] Cluster name : conv2d_0.tmp_2  size: 819200\n",
            "I1103 16:56:33.161885  1132 memory_optimize_pass.cc:216] Cluster name : conv2d_0.tmp_1  size: 819200\n",
            "\u001b[1m\u001b[35m--- Running analysis [ir_graph_to_program_pass]\u001b[0m\n",
            "I1103 16:56:33.164608  1132 analysis_predictor.cc:717] ======= optimize end =======\n",
            "I1103 16:56:33.164674  1132 naive_executor.cc:98] ---  skip [feed], feed -> audio\n",
            "I1103 16:56:33.164896  1132 naive_executor.cc:98] ---  skip [save_infer_model/scale_0.tmp_0], fetch -> fetch\n",
            "\u001b[1m\u001b[35m--- Running analysis [ir_graph_build_pass]\u001b[0m\n",
            "\u001b[1m\u001b[35m--- Running analysis [ir_graph_clean_pass]\u001b[0m\n",
            "\u001b[1m\u001b[35m--- Running analysis [ir_analysis_pass]\u001b[0m\n",
            "\u001b[32m--- Running IR pass [is_test_pass]\u001b[0m\n",
            "\u001b[32m--- Running IR pass [simplify_with_basic_ops_pass]\u001b[0m\n",
            "\u001b[32m--- Running IR pass [conv_affine_channel_fuse_pass]\u001b[0m\n",
            "\u001b[32m--- Running IR pass [conv_eltwiseadd_affine_channel_fuse_pass]\u001b[0m\n",
            "\u001b[32m--- Running IR pass [conv_bn_fuse_pass]\u001b[0m\n",
            "\u001b[32m--- Running IR pass [conv_eltwiseadd_bn_fuse_pass]\u001b[0m\n",
            "\u001b[32m--- Running IR pass [embedding_eltwise_layernorm_fuse_pass]\u001b[0m\n",
            "\u001b[32m--- Running IR pass [multihead_matmul_fuse_pass_v2]\u001b[0m\n",
            "\u001b[32m--- Running IR pass [squeeze2_matmul_fuse_pass]\u001b[0m\n",
            "\u001b[32m--- Running IR pass [reshape2_matmul_fuse_pass]\u001b[0m\n",
            "\u001b[32m--- Running IR pass [flatten2_matmul_fuse_pass]\u001b[0m\n",
            "\u001b[32m--- Running IR pass [map_matmul_v2_to_mul_pass]\u001b[0m\n",
            "\u001b[32m--- Running IR pass [map_matmul_v2_to_matmul_pass]\u001b[0m\n",
            "\u001b[32m--- Running IR pass [map_matmul_to_mul_pass]\u001b[0m\n",
            "I1103 16:56:33.920365  1132 fuse_pass_base.cc:57] ---  detected 1 subgraphs\n",
            "\u001b[32m--- Running IR pass [fc_fuse_pass]\u001b[0m\n",
            "\u001b[32m--- Running IR pass [fc_elementwise_layernorm_fuse_pass]\u001b[0m\n",
            "\u001b[32m--- Running IR pass [conv_elementwise_add_fuse_pass]\u001b[0m\n",
            "\u001b[32m--- Running IR pass [transpose_flatten_concat_fuse_pass]\u001b[0m\n",
            "\u001b[32m--- Running IR pass [runtime_context_cache_pass]\u001b[0m\n",
            "\u001b[1m\u001b[35m--- Running analysis [ir_params_sync_among_devices_pass]\u001b[0m\n",
            "I1103 16:56:33.923137  1132 ir_params_sync_among_devices_pass.cc:45] Sync params from CPU to GPU\n",
            "\u001b[1m\u001b[35m--- Running analysis [adjust_cudnn_workspace_size_pass]\u001b[0m\n",
            "\u001b[1m\u001b[35m--- Running analysis [inference_op_replace_pass]\u001b[0m\n",
            "\u001b[1m\u001b[35m--- Running analysis [memory_optimize_pass]\u001b[0m\n",
            "I1103 16:56:34.907255  1132 memory_optimize_pass.cc:216] Cluster name : squeeze_3.tmp_0  size: 800\n",
            "I1103 16:56:34.907282  1132 memory_optimize_pass.cc:216] Cluster name : feat  size: 2150400\n",
            "I1103 16:56:34.907289  1132 memory_optimize_pass.cc:216] Cluster name : reshape2_1.tmp_0  size: 20480000\n",
            "I1103 16:56:34.907294  1132 memory_optimize_pass.cc:216] Cluster name : matmul_0.tmp_0  size: 655360000\n",
            "I1103 16:56:34.907306  1132 memory_optimize_pass.cc:216] Cluster name : squeeze_4.tmp_0  size: 204800\n",
            "I1103 16:56:34.907318  1132 memory_optimize_pass.cc:216] Cluster name : PEM_3d1.tmp_0  size: 81920000\n",
            "\u001b[1m\u001b[35m--- Running analysis [ir_graph_to_program_pass]\u001b[0m\n",
            "I1103 16:56:34.913288  1132 analysis_predictor.cc:717] ======= optimize end =======\n",
            "I1103 16:56:34.913355  1132 naive_executor.cc:98] ---  skip [feed], feed -> feat\n",
            "I1103 16:56:34.913717  1132 naive_executor.cc:98] ---  skip [save_infer_model/scale_0.tmp_0], fetch -> fetch\n",
            "I1103 16:56:34.913733  1132 naive_executor.cc:98] ---  skip [save_infer_model/scale_1.tmp_0], fetch -> fetch\n",
            "I1103 16:56:34.913739  1132 naive_executor.cc:98] ---  skip [save_infer_model/scale_2.tmp_0], fetch -> fetch\n",
            "\u001b[1m\u001b[35m--- Running analysis [ir_graph_build_pass]\u001b[0m\n",
            "\u001b[1m\u001b[35m--- Running analysis [ir_graph_clean_pass]\u001b[0m\n",
            "\u001b[1m\u001b[35m--- Running analysis [ir_analysis_pass]\u001b[0m\n",
            "\u001b[32m--- Running IR pass [is_test_pass]\u001b[0m\n",
            "\u001b[32m--- Running IR pass [simplify_with_basic_ops_pass]\u001b[0m\n",
            "\u001b[32m--- Running IR pass [conv_affine_channel_fuse_pass]\u001b[0m\n",
            "\u001b[32m--- Running IR pass [conv_eltwiseadd_affine_channel_fuse_pass]\u001b[0m\n",
            "\u001b[32m--- Running IR pass [conv_bn_fuse_pass]\u001b[0m\n",
            "\u001b[32m--- Running IR pass [conv_eltwiseadd_bn_fuse_pass]\u001b[0m\n",
            "\u001b[32m--- Running IR pass [embedding_eltwise_layernorm_fuse_pass]\u001b[0m\n",
            "\u001b[32m--- Running IR pass [multihead_matmul_fuse_pass_v2]\u001b[0m\n",
            "\u001b[32m--- Running IR pass [squeeze2_matmul_fuse_pass]\u001b[0m\n",
            "\u001b[32m--- Running IR pass [reshape2_matmul_fuse_pass]\u001b[0m\n",
            "\u001b[32m--- Running IR pass [flatten2_matmul_fuse_pass]\u001b[0m\n",
            "\u001b[32m--- Running IR pass [map_matmul_v2_to_mul_pass]\u001b[0m\n",
            "\u001b[32m--- Running IR pass [map_matmul_v2_to_matmul_pass]\u001b[0m\n",
            "\u001b[32m--- Running IR pass [map_matmul_to_mul_pass]\u001b[0m\n",
            "\u001b[32m--- Running IR pass [fc_fuse_pass]\u001b[0m\n",
            "I1103 16:56:35.098724  1132 fuse_pass_base.cc:57] ---  detected 10 subgraphs\n",
            "\u001b[32m--- Running IR pass [fc_elementwise_layernorm_fuse_pass]\u001b[0m\n",
            "\u001b[32m--- Running IR pass [conv_elementwise_add_fuse_pass]\u001b[0m\n",
            "\u001b[32m--- Running IR pass [transpose_flatten_concat_fuse_pass]\u001b[0m\n",
            "\u001b[32m--- Running IR pass [runtime_context_cache_pass]\u001b[0m\n",
            "\u001b[1m\u001b[35m--- Running analysis [ir_params_sync_among_devices_pass]\u001b[0m\n",
            "I1103 16:56:35.100636  1132 ir_params_sync_among_devices_pass.cc:45] Sync params from CPU to GPU\n",
            "\u001b[1m\u001b[35m--- Running analysis [adjust_cudnn_workspace_size_pass]\u001b[0m\n",
            "\u001b[1m\u001b[35m--- Running analysis [inference_op_replace_pass]\u001b[0m\n",
            "\u001b[1m\u001b[35m--- Running analysis [memory_optimize_pass]\u001b[0m\n",
            "I1103 16:56:35.260831  1132 memory_optimize_pass.cc:216] Cluster name : lstm_3.tmp_0  size: 512\n",
            "I1103 16:56:35.260854  1132 memory_optimize_pass.cc:216] Cluster name : lstm_1.tmp_1  size: 2048\n",
            "I1103 16:56:35.260859  1132 memory_optimize_pass.cc:216] Cluster name : lstm_1.tmp_3  size: 2048\n",
            "I1103 16:56:35.260864  1132 memory_optimize_pass.cc:216] Cluster name : batch_norm_0.tmp_3  size: 32768\n",
            "I1103 16:56:35.260869  1132 memory_optimize_pass.cc:216] Cluster name : dropout_2.tmp_0  size: 32768\n",
            "I1103 16:56:35.260874  1132 memory_optimize_pass.cc:216] Cluster name : fc_6.tmp_1  size: 32768\n",
            "I1103 16:56:35.260879  1132 memory_optimize_pass.cc:216] Cluster name : audio  size: 4096\n",
            "I1103 16:56:35.260882  1132 memory_optimize_pass.cc:216] Cluster name : batch_norm_0.tmp_1  size: 32768\n",
            "I1103 16:56:35.260887  1132 memory_optimize_pass.cc:216] Cluster name : rgb  size: 8192\n",
            "\u001b[1m\u001b[35m--- Running analysis [ir_graph_to_program_pass]\u001b[0m\n",
            "I1103 16:56:35.264706  1132 analysis_predictor.cc:717] ======= optimize end =======\n",
            "I1103 16:56:35.264775  1132 naive_executor.cc:98] ---  skip [feed], feed -> audio\n",
            "I1103 16:56:35.264840  1132 naive_executor.cc:98] ---  skip [feed], feed -> rgb\n",
            "I1103 16:56:35.265138  1132 naive_executor.cc:98] ---  skip [save_infer_model/scale_0.tmp_0], fetch -> fetch\n",
            "I1103 16:56:35.265153  1132 naive_executor.cc:98] ---  skip [save_infer_model/scale_1.tmp_0], fetch -> fetch\n",
            "../datasets/EuroCup2016/mp4/big_video.mp4\n",
            "W1103 16:56:43.885527  1132 device_context.cc:447] Please NOTE: device: 0, GPU Compute Capability: 7.5, Driver API Version: 11.2, Runtime API Version: 11.0\n",
            "W1103 16:56:43.896275  1132 device_context.cc:465] device: 0, cuDNN Version: 8.1.\n"
          ]
        }
      ],
      "source": [
        "!python predict.py"
      ]
    },
    {
      "cell_type": "code",
      "execution_count": null,
      "metadata": {
        "id": "-LX-pke1RMyv"
      },
      "outputs": [],
      "source": []
    }
  ],
  "metadata": {
    "colab": {
      "provenance": [],
      "collapsed_sections": []
    },
    "gpuClass": "standard",
    "kernelspec": {
      "display_name": "Python 3",
      "name": "python3"
    },
    "language_info": {
      "name": "python"
    }
  },
  "nbformat": 4,
  "nbformat_minor": 0
}