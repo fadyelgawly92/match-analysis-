{
  "nbformat": 4,
  "nbformat_minor": 0,
  "metadata": {
    "colab": {
      "provenance": []
    },
    "kernelspec": {
      "name": "python3",
      "display_name": "Python 3"
    },
    "language_info": {
      "name": "python"
    }
  },
  "cells": [
    {
      "cell_type": "code",
      "execution_count": null,
      "metadata": {
        "colab": {
          "base_uri": "https://localhost:8080/"
        },
        "id": "shI97yJWcgvx",
        "outputId": "27723e7a-81d6-406b-c558-2a0bc71d63de"
      },
      "outputs": [
        {
          "output_type": "stream",
          "name": "stdout",
          "text": [
            "Cloning into 'yolov7'...\n",
            "remote: Enumerating objects: 998, done.\u001b[K\n",
            "remote: Total 998 (delta 0), reused 0 (delta 0), pack-reused 998\u001b[K\n",
            "Receiving objects: 100% (998/998), 69.77 MiB | 28.77 MiB/s, done.\n",
            "Resolving deltas: 100% (466/466), done.\n"
          ]
        }
      ],
      "source": [
        "! git clone --recurse-submodules https://github.com/WongKinYiu/yolov7.git"
      ]
    },
    {
      "cell_type": "code",
      "source": [
        "%cd yolov7"
      ],
      "metadata": {
        "colab": {
          "base_uri": "https://localhost:8080/"
        },
        "id": "PiMgG_WxjpKE",
        "outputId": "265941d0-cae6-49f7-fabe-0344bda82f87"
      },
      "execution_count": null,
      "outputs": [
        {
          "output_type": "stream",
          "name": "stdout",
          "text": [
            "/content/yolov7\n"
          ]
        }
      ]
    },
    {
      "cell_type": "code",
      "source": [
        "! pip install -r requirements.txt"
      ],
      "metadata": {
        "colab": {
          "base_uri": "https://localhost:8080/"
        },
        "id": "E_BBmHzgqOjv",
        "outputId": "b0be1440-5855-45a0-f40c-a4a9c1a22497"
      },
      "execution_count": null,
      "outputs": [
        {
          "output_type": "stream",
          "name": "stdout",
          "text": [
            "Looking in indexes: https://pypi.org/simple, https://us-python.pkg.dev/colab-wheels/public/simple/\n",
            "Requirement already satisfied: matplotlib>=3.2.2 in /usr/local/lib/python3.7/dist-packages (from -r requirements.txt (line 4)) (3.2.2)\n",
            "Requirement already satisfied: numpy>=1.18.5 in /usr/local/lib/python3.7/dist-packages (from -r requirements.txt (line 5)) (1.21.6)\n",
            "Requirement already satisfied: opencv-python>=4.1.1 in /usr/local/lib/python3.7/dist-packages (from -r requirements.txt (line 6)) (4.6.0.66)\n",
            "Requirement already satisfied: Pillow>=7.1.2 in /usr/local/lib/python3.7/dist-packages (from -r requirements.txt (line 7)) (7.1.2)\n",
            "Requirement already satisfied: PyYAML>=5.3.1 in /usr/local/lib/python3.7/dist-packages (from -r requirements.txt (line 8)) (6.0)\n",
            "Requirement already satisfied: requests>=2.23.0 in /usr/local/lib/python3.7/dist-packages (from -r requirements.txt (line 9)) (2.23.0)\n",
            "Requirement already satisfied: scipy>=1.4.1 in /usr/local/lib/python3.7/dist-packages (from -r requirements.txt (line 10)) (1.7.3)\n",
            "Requirement already satisfied: torch!=1.12.0,>=1.7.0 in /usr/local/lib/python3.7/dist-packages (from -r requirements.txt (line 11)) (1.12.1+cu113)\n",
            "Requirement already satisfied: torchvision!=0.13.0,>=0.8.1 in /usr/local/lib/python3.7/dist-packages (from -r requirements.txt (line 12)) (0.13.1+cu113)\n",
            "Requirement already satisfied: tqdm>=4.41.0 in /usr/local/lib/python3.7/dist-packages (from -r requirements.txt (line 13)) (4.64.1)\n",
            "Requirement already satisfied: protobuf<4.21.3 in /usr/local/lib/python3.7/dist-packages (from -r requirements.txt (line 14)) (3.17.3)\n",
            "Requirement already satisfied: tensorboard>=2.4.1 in /usr/local/lib/python3.7/dist-packages (from -r requirements.txt (line 17)) (2.9.1)\n",
            "Requirement already satisfied: pandas>=1.1.4 in /usr/local/lib/python3.7/dist-packages (from -r requirements.txt (line 21)) (1.3.5)\n",
            "Requirement already satisfied: seaborn>=0.11.0 in /usr/local/lib/python3.7/dist-packages (from -r requirements.txt (line 22)) (0.11.2)\n",
            "Requirement already satisfied: ipython in /usr/local/lib/python3.7/dist-packages (from -r requirements.txt (line 34)) (7.9.0)\n",
            "Requirement already satisfied: psutil in /usr/local/lib/python3.7/dist-packages (from -r requirements.txt (line 35)) (5.4.8)\n",
            "Collecting thop\n",
            "  Downloading thop-0.1.1.post2209072238-py3-none-any.whl (15 kB)\n",
            "Requirement already satisfied: python-dateutil>=2.1 in /usr/local/lib/python3.7/dist-packages (from matplotlib>=3.2.2->-r requirements.txt (line 4)) (2.8.2)\n",
            "Requirement already satisfied: pyparsing!=2.0.4,!=2.1.2,!=2.1.6,>=2.0.1 in /usr/local/lib/python3.7/dist-packages (from matplotlib>=3.2.2->-r requirements.txt (line 4)) (3.0.9)\n",
            "Requirement already satisfied: kiwisolver>=1.0.1 in /usr/local/lib/python3.7/dist-packages (from matplotlib>=3.2.2->-r requirements.txt (line 4)) (1.4.4)\n",
            "Requirement already satisfied: cycler>=0.10 in /usr/local/lib/python3.7/dist-packages (from matplotlib>=3.2.2->-r requirements.txt (line 4)) (0.11.0)\n",
            "Requirement already satisfied: idna<3,>=2.5 in /usr/local/lib/python3.7/dist-packages (from requests>=2.23.0->-r requirements.txt (line 9)) (2.10)\n",
            "Requirement already satisfied: certifi>=2017.4.17 in /usr/local/lib/python3.7/dist-packages (from requests>=2.23.0->-r requirements.txt (line 9)) (2022.9.24)\n",
            "Requirement already satisfied: chardet<4,>=3.0.2 in /usr/local/lib/python3.7/dist-packages (from requests>=2.23.0->-r requirements.txt (line 9)) (3.0.4)\n",
            "Requirement already satisfied: urllib3!=1.25.0,!=1.25.1,<1.26,>=1.21.1 in /usr/local/lib/python3.7/dist-packages (from requests>=2.23.0->-r requirements.txt (line 9)) (1.24.3)\n",
            "Requirement already satisfied: typing-extensions in /usr/local/lib/python3.7/dist-packages (from torch!=1.12.0,>=1.7.0->-r requirements.txt (line 11)) (4.1.1)\n",
            "Requirement already satisfied: six>=1.9 in /usr/local/lib/python3.7/dist-packages (from protobuf<4.21.3->-r requirements.txt (line 14)) (1.15.0)\n",
            "Requirement already satisfied: absl-py>=0.4 in /usr/local/lib/python3.7/dist-packages (from tensorboard>=2.4.1->-r requirements.txt (line 17)) (1.3.0)\n",
            "Requirement already satisfied: google-auth<3,>=1.6.3 in /usr/local/lib/python3.7/dist-packages (from tensorboard>=2.4.1->-r requirements.txt (line 17)) (1.35.0)\n",
            "Requirement already satisfied: tensorboard-plugin-wit>=1.6.0 in /usr/local/lib/python3.7/dist-packages (from tensorboard>=2.4.1->-r requirements.txt (line 17)) (1.8.1)\n",
            "Requirement already satisfied: setuptools>=41.0.0 in /usr/local/lib/python3.7/dist-packages (from tensorboard>=2.4.1->-r requirements.txt (line 17)) (57.4.0)\n",
            "Requirement already satisfied: wheel>=0.26 in /usr/local/lib/python3.7/dist-packages (from tensorboard>=2.4.1->-r requirements.txt (line 17)) (0.37.1)\n",
            "Requirement already satisfied: markdown>=2.6.8 in /usr/local/lib/python3.7/dist-packages (from tensorboard>=2.4.1->-r requirements.txt (line 17)) (3.4.1)\n",
            "Requirement already satisfied: grpcio>=1.24.3 in /usr/local/lib/python3.7/dist-packages (from tensorboard>=2.4.1->-r requirements.txt (line 17)) (1.50.0)\n",
            "Requirement already satisfied: tensorboard-data-server<0.7.0,>=0.6.0 in /usr/local/lib/python3.7/dist-packages (from tensorboard>=2.4.1->-r requirements.txt (line 17)) (0.6.1)\n",
            "Requirement already satisfied: werkzeug>=1.0.1 in /usr/local/lib/python3.7/dist-packages (from tensorboard>=2.4.1->-r requirements.txt (line 17)) (1.0.1)\n",
            "Requirement already satisfied: google-auth-oauthlib<0.5,>=0.4.1 in /usr/local/lib/python3.7/dist-packages (from tensorboard>=2.4.1->-r requirements.txt (line 17)) (0.4.6)\n",
            "Requirement already satisfied: pytz>=2017.3 in /usr/local/lib/python3.7/dist-packages (from pandas>=1.1.4->-r requirements.txt (line 21)) (2022.5)\n",
            "Requirement already satisfied: pyasn1-modules>=0.2.1 in /usr/local/lib/python3.7/dist-packages (from google-auth<3,>=1.6.3->tensorboard>=2.4.1->-r requirements.txt (line 17)) (0.2.8)\n",
            "Requirement already satisfied: rsa<5,>=3.1.4 in /usr/local/lib/python3.7/dist-packages (from google-auth<3,>=1.6.3->tensorboard>=2.4.1->-r requirements.txt (line 17)) (4.9)\n",
            "Requirement already satisfied: cachetools<5.0,>=2.0.0 in /usr/local/lib/python3.7/dist-packages (from google-auth<3,>=1.6.3->tensorboard>=2.4.1->-r requirements.txt (line 17)) (4.2.4)\n",
            "Requirement already satisfied: requests-oauthlib>=0.7.0 in /usr/local/lib/python3.7/dist-packages (from google-auth-oauthlib<0.5,>=0.4.1->tensorboard>=2.4.1->-r requirements.txt (line 17)) (1.3.1)\n",
            "Requirement already satisfied: importlib-metadata>=4.4 in /usr/local/lib/python3.7/dist-packages (from markdown>=2.6.8->tensorboard>=2.4.1->-r requirements.txt (line 17)) (4.13.0)\n",
            "Requirement already satisfied: zipp>=0.5 in /usr/local/lib/python3.7/dist-packages (from importlib-metadata>=4.4->markdown>=2.6.8->tensorboard>=2.4.1->-r requirements.txt (line 17)) (3.9.0)\n",
            "Requirement already satisfied: pyasn1<0.5.0,>=0.4.6 in /usr/local/lib/python3.7/dist-packages (from pyasn1-modules>=0.2.1->google-auth<3,>=1.6.3->tensorboard>=2.4.1->-r requirements.txt (line 17)) (0.4.8)\n",
            "Requirement already satisfied: oauthlib>=3.0.0 in /usr/local/lib/python3.7/dist-packages (from requests-oauthlib>=0.7.0->google-auth-oauthlib<0.5,>=0.4.1->tensorboard>=2.4.1->-r requirements.txt (line 17)) (3.2.2)\n",
            "Requirement already satisfied: prompt-toolkit<2.1.0,>=2.0.0 in /usr/local/lib/python3.7/dist-packages (from ipython->-r requirements.txt (line 34)) (2.0.10)\n",
            "Requirement already satisfied: traitlets>=4.2 in /usr/local/lib/python3.7/dist-packages (from ipython->-r requirements.txt (line 34)) (5.1.1)\n",
            "Requirement already satisfied: pexpect in /usr/local/lib/python3.7/dist-packages (from ipython->-r requirements.txt (line 34)) (4.8.0)\n",
            "Collecting jedi>=0.10\n",
            "  Downloading jedi-0.18.1-py2.py3-none-any.whl (1.6 MB)\n",
            "\u001b[K     |████████████████████████████████| 1.6 MB 5.0 MB/s \n",
            "\u001b[?25hRequirement already satisfied: pygments in /usr/local/lib/python3.7/dist-packages (from ipython->-r requirements.txt (line 34)) (2.6.1)\n",
            "Requirement already satisfied: decorator in /usr/local/lib/python3.7/dist-packages (from ipython->-r requirements.txt (line 34)) (4.4.2)\n",
            "Requirement already satisfied: pickleshare in /usr/local/lib/python3.7/dist-packages (from ipython->-r requirements.txt (line 34)) (0.7.5)\n",
            "Requirement already satisfied: backcall in /usr/local/lib/python3.7/dist-packages (from ipython->-r requirements.txt (line 34)) (0.2.0)\n",
            "Requirement already satisfied: parso<0.9.0,>=0.8.0 in /usr/local/lib/python3.7/dist-packages (from jedi>=0.10->ipython->-r requirements.txt (line 34)) (0.8.3)\n",
            "Requirement already satisfied: wcwidth in /usr/local/lib/python3.7/dist-packages (from prompt-toolkit<2.1.0,>=2.0.0->ipython->-r requirements.txt (line 34)) (0.2.5)\n",
            "Requirement already satisfied: ptyprocess>=0.5 in /usr/local/lib/python3.7/dist-packages (from pexpect->ipython->-r requirements.txt (line 34)) (0.7.0)\n",
            "Installing collected packages: jedi, thop\n",
            "Successfully installed jedi-0.18.1 thop-0.1.1.post2209072238\n"
          ]
        }
      ]
    },
    {
      "cell_type": "code",
      "source": [
        "! pip install filterpy"
      ],
      "metadata": {
        "colab": {
          "base_uri": "https://localhost:8080/"
        },
        "id": "uLtK_1eHrKd3",
        "outputId": "d5615784-2bb0-4491-b795-c0a5d186a99c"
      },
      "execution_count": null,
      "outputs": [
        {
          "output_type": "stream",
          "name": "stdout",
          "text": [
            "Looking in indexes: https://pypi.org/simple, https://us-python.pkg.dev/colab-wheels/public/simple/\n",
            "Collecting filterpy\n",
            "  Downloading filterpy-1.4.5.zip (177 kB)\n",
            "\u001b[K     |████████████████████████████████| 177 kB 5.2 MB/s \n",
            "\u001b[?25hRequirement already satisfied: numpy in /usr/local/lib/python3.7/dist-packages (from filterpy) (1.21.6)\n",
            "Requirement already satisfied: scipy in /usr/local/lib/python3.7/dist-packages (from filterpy) (1.7.3)\n",
            "Requirement already satisfied: matplotlib in /usr/local/lib/python3.7/dist-packages (from filterpy) (3.2.2)\n",
            "Requirement already satisfied: cycler>=0.10 in /usr/local/lib/python3.7/dist-packages (from matplotlib->filterpy) (0.11.0)\n",
            "Requirement already satisfied: pyparsing!=2.0.4,!=2.1.2,!=2.1.6,>=2.0.1 in /usr/local/lib/python3.7/dist-packages (from matplotlib->filterpy) (3.0.9)\n",
            "Requirement already satisfied: python-dateutil>=2.1 in /usr/local/lib/python3.7/dist-packages (from matplotlib->filterpy) (2.8.2)\n",
            "Requirement already satisfied: kiwisolver>=1.0.1 in /usr/local/lib/python3.7/dist-packages (from matplotlib->filterpy) (1.4.4)\n",
            "Requirement already satisfied: typing-extensions in /usr/local/lib/python3.7/dist-packages (from kiwisolver>=1.0.1->matplotlib->filterpy) (4.1.1)\n",
            "Requirement already satisfied: six>=1.5 in /usr/local/lib/python3.7/dist-packages (from python-dateutil>=2.1->matplotlib->filterpy) (1.15.0)\n",
            "Building wheels for collected packages: filterpy\n",
            "  Building wheel for filterpy (setup.py) ... \u001b[?25l\u001b[?25hdone\n",
            "  Created wheel for filterpy: filename=filterpy-1.4.5-py3-none-any.whl size=110474 sha256=4a3f68b27c19234aff8cf92d3a2e95dc32ac803e11044603bba7a914dbc57cda\n",
            "  Stored in directory: /root/.cache/pip/wheels/ce/e0/ee/a2b3c5caab3418c1ccd8c4de573d4cbe13315d7e8b0a55fbc2\n",
            "Successfully built filterpy\n",
            "Installing collected packages: filterpy\n",
            "Successfully installed filterpy-1.4.5\n"
          ]
        }
      ]
    },
    {
      "cell_type": "code",
      "source": [
        "! python detect_or_track.py --weights yolov7.pt --track --show-track --show-fps --unique-track-color --img-size 640 --source '/content/5th_trim.mp4'"
      ],
      "metadata": {
        "colab": {
          "base_uri": "https://localhost:8080/"
        },
        "id": "TnWw4flckrWf",
        "outputId": "cd53812b-ecdc-4e98-8866-74fb9ed05f87"
      },
      "execution_count": null,
      "outputs": [
        {
          "output_type": "stream",
          "name": "stdout",
          "text": [
            "Namespace(agnostic_nms=False, augment=False, classes=None, conf_thres=0.25, device='', exist_ok=False, img_size=640, iou_thres=0.45, name='exp', no_trace=False, nobbox=False, nolabel=False, nosave=False, project='runs/detect', save_conf=False, save_txt=False, seed=1, show_fps=True, show_track=True, source='/content/5th_trim.mp4', thickness=2, track=True, unique_track_color=True, update=False, view_img=False, weights=['yolov7.pt'])\n",
            "YOLOR 🚀 v0.1-115-g072f76c torch 1.12.1+cu113 CPU\n",
            "\n",
            "Downloading https://github.com/WongKinYiu/yolov7/releases/download/v0.1/yolov7.pt to yolov7.pt...\n",
            "100% 72.1M/72.1M [00:00<00:00, 205MB/s]\n",
            "\n",
            "Fusing layers... \n",
            "RepConv.fuse_repvgg_block\n",
            "RepConv.fuse_repvgg_block\n",
            "RepConv.fuse_repvgg_block\n",
            "Model Summary: 306 layers, 36905341 parameters, 6652669 gradients\n",
            " Convert model to Traced-model... \n",
            " traced_script_module saved! \n",
            " model is traced! \n",
            "\n",
            "/usr/local/lib/python3.7/dist-packages/torch/functional.py:478: UserWarning: torch.meshgrid: in an upcoming release, it will be required to pass the indexing argument. (Triggered internally at  ../aten/src/ATen/native/TensorShape.cpp:2894.)\n",
            "  return _VF.meshgrid(tensors, **kwargs)  # type: ignore[attr-defined]\n",
            "video 1/1 (1/166) /content/5th_trim.mp4: 18 persons, 1 sports ball, Done. (1415.5ms) Inference, (24.6ms) NMS\n",
            "video 1/1 (2/166) /content/5th_trim.mp4: 17 persons, 1 sports ball, Done. (1324.7ms) Inference, (1.0ms) NMS\n",
            "video 1/1 (3/166) /content/5th_trim.mp4: 18 persons, 1 sports ball, Done. (1342.2ms) Inference, (1.1ms) NMS\n",
            "video 1/1 (4/166) /content/5th_trim.mp4: 17 persons, Done. (1387.3ms) Inference, (1.1ms) NMS\n",
            "video 1/1 (5/166) /content/5th_trim.mp4: 17 persons, Done. (1346.8ms) Inference, (1.1ms) NMS\n",
            "video 1/1 (6/166) /content/5th_trim.mp4: 17 persons, 1 sports ball, 1 tennis racket, Done. (1357.0ms) Inference, (1.2ms) NMS\n",
            "video 1/1 (7/166) /content/5th_trim.mp4: 17 persons, 1 tennis racket, Done. (1355.3ms) Inference, (1.1ms) NMS\n",
            "video 1/1 (8/166) /content/5th_trim.mp4: 18 persons, Done. (1375.2ms) Inference, (1.2ms) NMS\n",
            "video 1/1 (9/166) /content/5th_trim.mp4: 17 persons, Done. (1370.2ms) Inference, (1.1ms) NMS\n",
            "video 1/1 (10/166) /content/5th_trim.mp4: 16 persons, Done. (1355.6ms) Inference, (1.3ms) NMS\n",
            "video 1/1 (11/166) /content/5th_trim.mp4: 16 persons, Done. (1341.7ms) Inference, (1.1ms) NMS\n",
            "video 1/1 (12/166) /content/5th_trim.mp4: 17 persons, Done. (1345.6ms) Inference, (1.1ms) NMS\n",
            "video 1/1 (13/166) /content/5th_trim.mp4: 18 persons, Done. (1347.9ms) Inference, (1.1ms) NMS\n",
            "video 1/1 (14/166) /content/5th_trim.mp4: 16 persons, Done. (1349.0ms) Inference, (1.1ms) NMS\n",
            "video 1/1 (15/166) /content/5th_trim.mp4: 17 persons, Done. (1355.2ms) Inference, (1.2ms) NMS\n",
            "video 1/1 (16/166) /content/5th_trim.mp4: 17 persons, Done. (1346.3ms) Inference, (1.2ms) NMS\n",
            "video 1/1 (17/166) /content/5th_trim.mp4: 16 persons, Done. (1359.7ms) Inference, (1.2ms) NMS\n",
            "video 1/1 (18/166) /content/5th_trim.mp4: 18 persons, Done. (1371.6ms) Inference, (1.3ms) NMS\n",
            "video 1/1 (19/166) /content/5th_trim.mp4: 15 persons, 1 tv, Done. (1371.9ms) Inference, (1.1ms) NMS\n",
            "video 1/1 (20/166) /content/5th_trim.mp4: 15 persons, Done. (1350.6ms) Inference, (1.1ms) NMS\n",
            "video 1/1 (21/166) /content/5th_trim.mp4: 15 persons, 1 tennis racket, Done. (1344.7ms) Inference, (1.1ms) NMS\n",
            "video 1/1 (22/166) /content/5th_trim.mp4: 15 persons, Done. (1349.1ms) Inference, (1.1ms) NMS\n",
            "video 1/1 (23/166) /content/5th_trim.mp4: 16 persons, Done. (1358.7ms) Inference, (1.1ms) NMS\n",
            "video 1/1 (24/166) /content/5th_trim.mp4: 13 persons, Done. (1353.0ms) Inference, (1.1ms) NMS\n",
            "video 1/1 (25/166) /content/5th_trim.mp4: 14 persons, Done. (1457.3ms) Inference, (1.2ms) NMS\n",
            "video 1/1 (26/166) /content/5th_trim.mp4: 12 persons, Done. (1547.3ms) Inference, (1.1ms) NMS\n",
            "video 1/1 (27/166) /content/5th_trim.mp4: 13 persons, Done. (1356.5ms) Inference, (1.4ms) NMS\n",
            "video 1/1 (28/166) /content/5th_trim.mp4: 12 persons, Done. (1364.4ms) Inference, (1.1ms) NMS\n",
            "video 1/1 (29/166) /content/5th_trim.mp4: 12 persons, Done. (1368.1ms) Inference, (1.1ms) NMS\n",
            "video 1/1 (30/166) /content/5th_trim.mp4: 12 persons, Done. (1363.8ms) Inference, (1.0ms) NMS\n",
            "video 1/1 (31/166) /content/5th_trim.mp4: 12 persons, Done. (1359.6ms) Inference, (1.1ms) NMS\n",
            "video 1/1 (32/166) /content/5th_trim.mp4: 11 persons, Done. (1346.4ms) Inference, (1.0ms) NMS\n",
            "video 1/1 (33/166) /content/5th_trim.mp4: 11 persons, 1 sports ball, Done. (1466.8ms) Inference, (1.7ms) NMS\n",
            "video 1/1 (34/166) /content/5th_trim.mp4: 10 persons, Done. (1548.7ms) Inference, (1.5ms) NMS\n",
            "video 1/1 (35/166) /content/5th_trim.mp4: 11 persons, Done. (1514.5ms) Inference, (1.2ms) NMS\n",
            "video 1/1 (36/166) /content/5th_trim.mp4: 10 persons, Done. (1572.6ms) Inference, (1.4ms) NMS\n",
            "video 1/1 (37/166) /content/5th_trim.mp4: 10 persons, 1 sports ball, Done. (1899.8ms) Inference, (1.9ms) NMS\n",
            "video 1/1 (38/166) /content/5th_trim.mp4: 10 persons, Done. (1600.2ms) Inference, (1.2ms) NMS\n",
            "video 1/1 (39/166) /content/5th_trim.mp4: 10 persons, Done. (1367.0ms) Inference, (1.0ms) NMS\n",
            "video 1/1 (40/166) /content/5th_trim.mp4: 10 persons, 1 sports ball, Done. (1343.7ms) Inference, (1.0ms) NMS\n",
            "video 1/1 (41/166) /content/5th_trim.mp4: 10 persons, 1 sports ball, Done. (1346.2ms) Inference, (1.0ms) NMS\n",
            "video 1/1 (42/166) /content/5th_trim.mp4: 10 persons, Done. (1350.3ms) Inference, (1.0ms) NMS\n",
            "video 1/1 (43/166) /content/5th_trim.mp4: 10 persons, Done. (1362.5ms) Inference, (1.1ms) NMS\n",
            "video 1/1 (44/166) /content/5th_trim.mp4: 10 persons, Done. (1358.5ms) Inference, (1.1ms) NMS\n",
            "video 1/1 (45/166) /content/5th_trim.mp4: 10 persons, Done. (1395.6ms) Inference, (1.1ms) NMS\n",
            "video 1/1 (46/166) /content/5th_trim.mp4: 10 persons, Done. (1355.1ms) Inference, (1.1ms) NMS\n",
            "video 1/1 (47/166) /content/5th_trim.mp4: 10 persons, Done. (1378.4ms) Inference, (1.1ms) NMS\n",
            "video 1/1 (48/166) /content/5th_trim.mp4: 12 persons, Done. (1365.4ms) Inference, (1.1ms) NMS\n",
            "video 1/1 (49/166) /content/5th_trim.mp4: 11 persons, Done. (1367.8ms) Inference, (1.0ms) NMS\n",
            "video 1/1 (50/166) /content/5th_trim.mp4: 11 persons, Done. (1366.8ms) Inference, (1.6ms) NMS\n",
            "video 1/1 (51/166) /content/5th_trim.mp4: 10 persons, Done. (1385.5ms) Inference, (1.1ms) NMS\n",
            "video 1/1 (52/166) /content/5th_trim.mp4: 10 persons, Done. (1357.2ms) Inference, (1.1ms) NMS\n",
            "video 1/1 (53/166) /content/5th_trim.mp4: 10 persons, Done. (1347.1ms) Inference, (1.0ms) NMS\n",
            "video 1/1 (54/166) /content/5th_trim.mp4: 10 persons, Done. (1356.5ms) Inference, (1.2ms) NMS\n",
            "video 1/1 (55/166) /content/5th_trim.mp4: 10 persons, Done. (1361.8ms) Inference, (1.0ms) NMS\n",
            "video 1/1 (56/166) /content/5th_trim.mp4: 10 persons, Done. (1361.5ms) Inference, (1.1ms) NMS\n",
            "video 1/1 (57/166) /content/5th_trim.mp4: 9 persons, Done. (1366.3ms) Inference, (1.2ms) NMS\n",
            "video 1/1 (58/166) /content/5th_trim.mp4: 10 persons, Done. (1367.4ms) Inference, (1.2ms) NMS\n",
            "video 1/1 (59/166) /content/5th_trim.mp4: 10 persons, Done. (1357.5ms) Inference, (1.2ms) NMS\n",
            "video 1/1 (60/166) /content/5th_trim.mp4: 10 persons, Done. (1357.3ms) Inference, (1.1ms) NMS\n",
            "video 1/1 (61/166) /content/5th_trim.mp4: 10 persons, 1 sports ball, Done. (1358.7ms) Inference, (1.0ms) NMS\n",
            "video 1/1 (62/166) /content/5th_trim.mp4: 9 persons, 1 sports ball, Done. (1353.9ms) Inference, (1.1ms) NMS\n",
            "video 1/1 (63/166) /content/5th_trim.mp4: 9 persons, 1 sports ball, Done. (1352.0ms) Inference, (1.6ms) NMS\n",
            "video 1/1 (64/166) /content/5th_trim.mp4: 9 persons, 1 sports ball, Done. (1361.3ms) Inference, (1.0ms) NMS\n",
            "video 1/1 (65/166) /content/5th_trim.mp4: 9 persons, 1 sports ball, Done. (1352.2ms) Inference, (1.1ms) NMS\n",
            "video 1/1 (66/166) /content/5th_trim.mp4: 9 persons, Done. (1370.8ms) Inference, (1.0ms) NMS\n",
            "video 1/1 (67/166) /content/5th_trim.mp4: 9 persons, Done. (1364.2ms) Inference, (1.1ms) NMS\n",
            "video 1/1 (68/166) /content/5th_trim.mp4: 9 persons, Done. (1359.6ms) Inference, (1.1ms) NMS\n",
            "video 1/1 (69/166) /content/5th_trim.mp4: 10 persons, 1 sports ball, Done. (1384.3ms) Inference, (1.1ms) NMS\n",
            "video 1/1 (70/166) /content/5th_trim.mp4: 10 persons, 1 sports ball, Done. (1351.6ms) Inference, (1.1ms) NMS\n",
            "video 1/1 (71/166) /content/5th_trim.mp4: 10 persons, 1 sports ball, Done. (1385.3ms) Inference, (1.1ms) NMS\n",
            "video 1/1 (72/166) /content/5th_trim.mp4: 10 persons, 1 sports ball, Done. (1379.6ms) Inference, (1.3ms) NMS\n",
            "video 1/1 (73/166) /content/5th_trim.mp4: 9 persons, 1 sports ball, Done. (1340.6ms) Inference, (1.1ms) NMS\n",
            "video 1/1 (74/166) /content/5th_trim.mp4: 9 persons, 1 sports ball, Done. (1348.5ms) Inference, (1.5ms) NMS\n",
            "video 1/1 (75/166) /content/5th_trim.mp4: 9 persons, 1 sports ball, Done. (1348.5ms) Inference, (1.0ms) NMS\n",
            "video 1/1 (76/166) /content/5th_trim.mp4: 10 persons, Done. (1363.9ms) Inference, (1.0ms) NMS\n",
            "video 1/1 (77/166) /content/5th_trim.mp4: 10 persons, Done. (1358.5ms) Inference, (1.0ms) NMS\n",
            "video 1/1 (78/166) /content/5th_trim.mp4: 9 persons, Done. (1355.3ms) Inference, (1.1ms) NMS\n",
            "video 1/1 (79/166) /content/5th_trim.mp4: 9 persons, Done. (1362.9ms) Inference, (1.0ms) NMS\n",
            "video 1/1 (80/166) /content/5th_trim.mp4: 10 persons, Done. (1369.5ms) Inference, (1.4ms) NMS\n",
            "video 1/1 (81/166) /content/5th_trim.mp4: 10 persons, 1 sports ball, Done. (1355.0ms) Inference, (1.0ms) NMS\n",
            "video 1/1 (82/166) /content/5th_trim.mp4: 10 persons, 1 sports ball, Done. (1374.8ms) Inference, (1.1ms) NMS\n",
            "video 1/1 (83/166) /content/5th_trim.mp4: 10 persons, 1 sports ball, Done. (1369.4ms) Inference, (1.2ms) NMS\n",
            "video 1/1 (84/166) /content/5th_trim.mp4: 9 persons, 1 sports ball, Done. (1369.8ms) Inference, (1.2ms) NMS\n",
            "video 1/1 (85/166) /content/5th_trim.mp4: 9 persons, 1 sports ball, Done. (1363.1ms) Inference, (1.7ms) NMS\n",
            "video 1/1 (86/166) /content/5th_trim.mp4: 8 persons, 1 sports ball, Done. (1357.0ms) Inference, (1.1ms) NMS\n",
            "video 1/1 (87/166) /content/5th_trim.mp4: 9 persons, 1 sports ball, Done. (1359.1ms) Inference, (1.1ms) NMS\n",
            "video 1/1 (88/166) /content/5th_trim.mp4: 9 persons, 1 sports ball, Done. (1372.2ms) Inference, (1.0ms) NMS\n",
            "video 1/1 (89/166) /content/5th_trim.mp4: 9 persons, 1 sports ball, 1 baseball glove, Done. (1381.3ms) Inference, (1.6ms) NMS\n",
            "video 1/1 (90/166) /content/5th_trim.mp4: 9 persons, 1 sports ball, 1 baseball glove, Done. (1378.9ms) Inference, (1.1ms) NMS\n",
            "video 1/1 (91/166) /content/5th_trim.mp4: 9 persons, 1 sports ball, Done. (1377.9ms) Inference, (1.1ms) NMS\n",
            "video 1/1 (92/166) /content/5th_trim.mp4: 9 persons, 1 sports ball, Done. (1367.9ms) Inference, (1.1ms) NMS\n",
            "video 1/1 (93/166) /content/5th_trim.mp4: 9 persons, 1 sports ball, Done. (1362.3ms) Inference, (1.0ms) NMS\n",
            "video 1/1 (94/166) /content/5th_trim.mp4: 10 persons, 2 sports balls, Done. (1370.6ms) Inference, (1.1ms) NMS\n",
            "video 1/1 (95/166) /content/5th_trim.mp4: 9 persons, 2 sports balls, Done. (1346.6ms) Inference, (1.0ms) NMS\n",
            "video 1/1 (96/166) /content/5th_trim.mp4: 9 persons, 2 sports balls, Done. (1375.9ms) Inference, (1.1ms) NMS\n",
            "video 1/1 (97/166) /content/5th_trim.mp4: 8 persons, 1 sports ball, Done. (1368.7ms) Inference, (1.0ms) NMS\n",
            "video 1/1 (98/166) /content/5th_trim.mp4: 7 persons, 1 sports ball, Done. (1373.7ms) Inference, (1.2ms) NMS\n",
            "video 1/1 (99/166) /content/5th_trim.mp4: 7 persons, 1 sports ball, Done. (1373.9ms) Inference, (1.1ms) NMS\n",
            "video 1/1 (100/166) /content/5th_trim.mp4: 8 persons, 1 sports ball, Done. (1363.5ms) Inference, (1.1ms) NMS\n",
            "video 1/1 (101/166) /content/5th_trim.mp4: 8 persons, Done. (1362.7ms) Inference, (1.1ms) NMS\n",
            "video 1/1 (102/166) /content/5th_trim.mp4: 7 persons, 1 sports ball, Done. (1359.9ms) Inference, (1.0ms) NMS\n",
            "video 1/1 (103/166) /content/5th_trim.mp4: 7 persons, 1 sports ball, Done. (1349.3ms) Inference, (1.0ms) NMS\n",
            "video 1/1 (104/166) /content/5th_trim.mp4: 7 persons, 1 sports ball, Done. (1356.9ms) Inference, (1.0ms) NMS\n",
            "video 1/1 (105/166) /content/5th_trim.mp4: 7 persons, 1 sports ball, Done. (1346.8ms) Inference, (1.0ms) NMS\n",
            "video 1/1 (106/166) /content/5th_trim.mp4: 7 persons, 1 sports ball, Done. (1359.0ms) Inference, (1.0ms) NMS\n",
            "video 1/1 (107/166) /content/5th_trim.mp4: 7 persons, 1 sports ball, Done. (1360.5ms) Inference, (1.1ms) NMS\n",
            "video 1/1 (108/166) /content/5th_trim.mp4: 7 persons, 1 sports ball, Done. (1355.1ms) Inference, (1.0ms) NMS\n",
            "video 1/1 (109/166) /content/5th_trim.mp4: 8 persons, 1 sports ball, Done. (1353.5ms) Inference, (1.0ms) NMS\n",
            "video 1/1 (110/166) /content/5th_trim.mp4: 7 persons, 1 sports ball, Done. (1365.9ms) Inference, (1.0ms) NMS\n",
            "video 1/1 (111/166) /content/5th_trim.mp4: 7 persons, 1 sports ball, Done. (1347.4ms) Inference, (1.0ms) NMS\n",
            "video 1/1 (112/166) /content/5th_trim.mp4: 8 persons, 1 sports ball, Done. (1357.6ms) Inference, (1.0ms) NMS\n",
            "video 1/1 (113/166) /content/5th_trim.mp4: 7 persons, 1 sports ball, Done. (1357.5ms) Inference, (1.1ms) NMS\n",
            "video 1/1 (114/166) /content/5th_trim.mp4: 7 persons, 1 sports ball, Done. (1376.9ms) Inference, (1.3ms) NMS\n",
            "video 1/1 (115/166) /content/5th_trim.mp4: 8 persons, 1 sports ball, Done. (1362.7ms) Inference, (1.0ms) NMS\n",
            "video 1/1 (116/166) /content/5th_trim.mp4: 8 persons, 1 sports ball, Done. (1347.3ms) Inference, (1.1ms) NMS\n",
            "video 1/1 (117/166) /content/5th_trim.mp4: 7 persons, 1 sports ball, Done. (1361.2ms) Inference, (1.1ms) NMS\n",
            "video 1/1 (118/166) /content/5th_trim.mp4: 7 persons, 1 sports ball, Done. (1363.7ms) Inference, (1.0ms) NMS\n",
            "video 1/1 (119/166) /content/5th_trim.mp4: 7 persons, 1 sports ball, Done. (1378.4ms) Inference, (1.0ms) NMS\n",
            "video 1/1 (120/166) /content/5th_trim.mp4: 7 persons, 1 sports ball, Done. (1417.7ms) Inference, (1.1ms) NMS\n",
            "video 1/1 (121/166) /content/5th_trim.mp4: 7 persons, 1 sports ball, Done. (1413.8ms) Inference, (1.1ms) NMS\n",
            "video 1/1 (122/166) /content/5th_trim.mp4: 7 persons, 1 sports ball, Done. (1382.0ms) Inference, (1.2ms) NMS\n",
            "video 1/1 (123/166) /content/5th_trim.mp4: 7 persons, 1 sports ball, Done. (1369.4ms) Inference, (1.0ms) NMS\n",
            "video 1/1 (124/166) /content/5th_trim.mp4: 6 persons, 1 sports ball, Done. (1367.3ms) Inference, (1.1ms) NMS\n",
            "video 1/1 (125/166) /content/5th_trim.mp4: 6 persons, Done. (1369.7ms) Inference, (1.0ms) NMS\n",
            "video 1/1 (126/166) /content/5th_trim.mp4: 6 persons, Done. (1387.0ms) Inference, (1.1ms) NMS\n",
            "video 1/1 (127/166) /content/5th_trim.mp4: 7 persons, Done. (1376.3ms) Inference, (1.0ms) NMS\n",
            "video 1/1 (128/166) /content/5th_trim.mp4: 6 persons, Done. (1385.7ms) Inference, (1.3ms) NMS\n",
            "video 1/1 (129/166) /content/5th_trim.mp4: 6 persons, 1 sports ball, Done. (1408.1ms) Inference, (1.0ms) NMS\n",
            "video 1/1 (130/166) /content/5th_trim.mp4: 8 persons, 1 sports ball, Done. (1376.1ms) Inference, (1.1ms) NMS\n",
            "video 1/1 (131/166) /content/5th_trim.mp4: 6 persons, 1 sports ball, Done. (1383.2ms) Inference, (1.1ms) NMS\n",
            "video 1/1 (132/166) /content/5th_trim.mp4: 6 persons, 1 sports ball, Done. (1391.9ms) Inference, (1.0ms) NMS\n",
            "video 1/1 (133/166) /content/5th_trim.mp4: 6 persons, Done. (1369.0ms) Inference, (1.3ms) NMS\n",
            "video 1/1 (134/166) /content/5th_trim.mp4: 7 persons, 1 sports ball, Done. (1379.2ms) Inference, (1.2ms) NMS\n",
            "video 1/1 (135/166) /content/5th_trim.mp4: 6 persons, 1 sports ball, Done. (1353.4ms) Inference, (1.0ms) NMS\n",
            "video 1/1 (136/166) /content/5th_trim.mp4: 7 persons, 1 sports ball, Done. (1375.6ms) Inference, (1.1ms) NMS\n",
            "video 1/1 (137/166) /content/5th_trim.mp4: 9 persons, 1 sports ball, Done. (1387.0ms) Inference, (1.1ms) NMS\n",
            "video 1/1 (138/166) /content/5th_trim.mp4: 9 persons, 1 sports ball, Done. (1366.0ms) Inference, (1.1ms) NMS\n",
            "video 1/1 (139/166) /content/5th_trim.mp4: 8 persons, 1 sports ball, 1 tennis racket, Done. (1372.4ms) Inference, (1.1ms) NMS\n",
            "video 1/1 (140/166) /content/5th_trim.mp4: 7 persons, 1 sports ball, Done. (1386.2ms) Inference, (1.1ms) NMS\n",
            "video 1/1 (141/166) /content/5th_trim.mp4: 8 persons, 1 sports ball, Done. (1365.4ms) Inference, (1.1ms) NMS\n",
            "video 1/1 (142/166) /content/5th_trim.mp4: 8 persons, 1 sports ball, 1 clock, Done. (1379.2ms) Inference, (1.1ms) NMS\n",
            "video 1/1 (143/166) /content/5th_trim.mp4: 8 persons, 1 sports ball, Done. (1379.3ms) Inference, (1.1ms) NMS\n",
            "video 1/1 (144/166) /content/5th_trim.mp4: 8 persons, 1 sports ball, Done. (1370.8ms) Inference, (1.1ms) NMS\n",
            "video 1/1 (145/166) /content/5th_trim.mp4: 8 persons, 1 sports ball, Done. (1378.5ms) Inference, (1.1ms) NMS\n",
            "video 1/1 (146/166) /content/5th_trim.mp4: 9 persons, 1 sports ball, Done. (1382.8ms) Inference, (1.3ms) NMS\n",
            "video 1/1 (147/166) /content/5th_trim.mp4: 8 persons, 1 sports ball, Done. (1386.9ms) Inference, (1.3ms) NMS\n",
            "video 1/1 (148/166) /content/5th_trim.mp4: 8 persons, 1 sports ball, Done. (1393.4ms) Inference, (1.2ms) NMS\n",
            "video 1/1 (149/166) /content/5th_trim.mp4: 9 persons, 1 sports ball, 1 clock, Done. (1385.3ms) Inference, (1.1ms) NMS\n",
            "video 1/1 (150/166) /content/5th_trim.mp4: 8 persons, 1 sports ball, 1 clock, Done. (1418.7ms) Inference, (1.1ms) NMS\n",
            "video 1/1 (151/166) /content/5th_trim.mp4: 7 persons, 1 sports ball, Done. (1372.8ms) Inference, (1.0ms) NMS\n",
            "video 1/1 (152/166) /content/5th_trim.mp4: 7 persons, 1 sports ball, Done. (1364.4ms) Inference, (1.1ms) NMS\n",
            "video 1/1 (153/166) /content/5th_trim.mp4: 8 persons, 1 sports ball, 1 clock, Done. (1394.1ms) Inference, (1.0ms) NMS\n",
            "video 1/1 (154/166) /content/5th_trim.mp4: 8 persons, 1 sports ball, Done. (1369.8ms) Inference, (1.1ms) NMS\n",
            "video 1/1 (155/166) /content/5th_trim.mp4: 8 persons, 1 sports ball, Done. (1351.8ms) Inference, (1.1ms) NMS\n",
            "video 1/1 (156/166) /content/5th_trim.mp4: 8 persons, 1 sports ball, Done. (1371.3ms) Inference, (1.1ms) NMS\n",
            "video 1/1 (157/166) /content/5th_trim.mp4: 8 persons, Done. (1370.2ms) Inference, (1.1ms) NMS\n",
            "video 1/1 (158/166) /content/5th_trim.mp4: 7 persons, Done. (1382.1ms) Inference, (1.8ms) NMS\n",
            "video 1/1 (159/166) /content/5th_trim.mp4: 8 persons, 1 tennis racket, Done. (1359.4ms) Inference, (1.1ms) NMS\n",
            "video 1/1 (160/166) /content/5th_trim.mp4: 8 persons, Done. (1365.2ms) Inference, (1.5ms) NMS\n",
            "video 1/1 (161/166) /content/5th_trim.mp4: 7 persons, Done. (1380.0ms) Inference, (1.1ms) NMS\n",
            "video 1/1 (162/166) /content/5th_trim.mp4: 7 persons, Done. (1377.5ms) Inference, (1.1ms) NMS\n",
            "video 1/1 (163/166) /content/5th_trim.mp4: 7 persons, Done. (1366.2ms) Inference, (1.2ms) NMS\n",
            "video 1/1 (164/166) /content/5th_trim.mp4: 7 persons, Done. (1379.9ms) Inference, (1.0ms) NMS\n",
            "video 1/1 (165/166) /content/5th_trim.mp4: 9 persons, Done. (1362.8ms) Inference, (1.0ms) NMS\n",
            "video 1/1 (166/166) /content/5th_trim.mp4: 9 persons, 1 sports ball, Done. (1386.8ms) Inference, (1.0ms) NMS\n",
            "Done. (234.108s)\n"
          ]
        }
      ]
    },
    {
      "cell_type": "code",
      "source": [],
      "metadata": {
        "id": "uFYzY3qRoLjc"
      },
      "execution_count": null,
      "outputs": []
    }
  ]
}